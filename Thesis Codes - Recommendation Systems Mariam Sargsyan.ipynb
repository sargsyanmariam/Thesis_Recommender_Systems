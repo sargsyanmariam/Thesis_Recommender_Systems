{
 "cells": [
  {
   "cell_type": "markdown",
   "metadata": {
    "id": "DryKQ3I9Yrcn"
   },
   "source": [
    "# Data Description and Processing"
   ]
  },
  {
   "cell_type": "markdown",
   "metadata": {
    "id": "aHRAiBL-RBBm"
   },
   "source": [
    "# Importing Libraries"
   ]
  },
  {
   "cell_type": "code",
   "execution_count": 1,
   "metadata": {
    "colab": {
     "base_uri": "https://localhost:8080/"
    },
    "id": "Hj3wxbZQYrcq",
    "outputId": "64ad02d3-30d9-477f-c744-62e97faf0e0e"
   },
   "outputs": [
    {
     "name": "stdout",
     "output_type": "stream",
     "text": [
      "Requirement already satisfied: surprise in c:\\users\\hp\\anaconda3\\lib\\site-packages (0.1)\n",
      "Requirement already satisfied: scikit-surprise in c:\\users\\hp\\anaconda3\\lib\\site-packages (from surprise) (1.1.1)\n",
      "Requirement already satisfied: joblib>=0.11 in c:\\users\\hp\\anaconda3\\lib\\site-packages (from scikit-surprise->surprise) (0.14.1)\n",
      "Requirement already satisfied: numpy>=1.11.2 in c:\\users\\hp\\anaconda3\\lib\\site-packages (from scikit-surprise->surprise) (1.18.1)\n",
      "Requirement already satisfied: scipy>=1.0.0 in c:\\users\\hp\\anaconda3\\lib\\site-packages (from scikit-surprise->surprise) (1.4.1)\n",
      "Requirement already satisfied: six>=1.10.0 in c:\\users\\hp\\anaconda3\\lib\\site-packages (from scikit-surprise->surprise) (1.14.0)\n"
     ]
    }
   ],
   "source": [
    "import pandas as pd\n",
    "import matplotlib.pyplot as plt\n",
    "import missingno as msno\n",
    "import seaborn as sns\n",
    "import numpy as np\n",
    "from scipy.stats import pearsonr\n",
    "from scipy.stats import f_oneway\n",
    "from wordcloud import WordCloud, STOPWORDS, ImageColorGenerator\n",
    "from sklearn.feature_extraction.text import TfidfVectorizer, CountVectorizer\n",
    "from sklearn.metrics.pairwise import linear_kernel\n",
    "from sklearn.metrics.pairwise import cosine_similarity\n",
    "from scipy.sparse import csr_matrix\n",
    "import warnings\n",
    "from sklearn import random_projection\n",
    "from sklearn.model_selection import train_test_split\n",
    "from nltk.stem.porter import PorterStemmer\n",
    "import nltk\n",
    "from nltk import word_tokenize\n",
    "from sklearn.neighbors import NearestNeighbors\n",
    "!pip install surprise\n",
    "from surprise import SVD, KNNBasic, BaselineOnly, NMF\n",
    "from surprise import Reader\n",
    "from surprise import Dataset \n",
    "from surprise.model_selection import cross_validate\n",
    "import time, os\n",
    "from surprise.model_selection import split\n",
    "from surprise.model_selection import GridSearchCV\n",
    "from scipy.spatial.distance import correlation\n",
    "from sklearn.metrics import roc_auc_score\n",
    "import hashlib"
   ]
  },
  {
   "cell_type": "markdown",
   "metadata": {
    "id": "DfWhkesARKG_"
   },
   "source": [
    "# Data Exploration and Processing"
   ]
  },
  {
   "cell_type": "code",
   "execution_count": 2,
   "metadata": {
    "id": "8tzuH6ola4bl"
   },
   "outputs": [],
   "source": [
    "\n",
    "#choose the csv file to read under zip file\n",
    "data = pd.read_csv('https://github.com/sargsyanmariam/Thesis_Recommender_Systems/raw/main/Dataset/winemag-data-130k-v2.csv.zip',encoding='utf-8')"
   ]
  },
  {
   "cell_type": "code",
   "execution_count": 3,
   "metadata": {
    "colab": {
     "base_uri": "https://localhost:8080/"
    },
    "id": "hWFQba-jYrct",
    "outputId": "5552ccc1-485e-4a76-eefd-407b73252d37"
   },
   "outputs": [
    {
     "name": "stdout",
     "output_type": "stream",
     "text": [
      "   Unnamed: 0   country                                        description  \\\n",
      "0           0     Italy  Aromas include tropical fruit, broom, brimston...   \n",
      "1           1  Portugal  This is ripe and fruity, a wine that is smooth...   \n",
      "2           2        US  Tart and snappy, the flavors of lime flesh and...   \n",
      "3           3        US  Pineapple rind, lemon pith and orange blossom ...   \n",
      "4           4        US  Much like the regular bottling from 2012, this...   \n",
      "\n",
      "                          designation  points  price           province  \\\n",
      "0                        Vulkà Bianco      87    NaN  Sicily & Sardinia   \n",
      "1                            Avidagos      87   15.0              Douro   \n",
      "2                                 NaN      87   14.0             Oregon   \n",
      "3                Reserve Late Harvest      87   13.0           Michigan   \n",
      "4  Vintner's Reserve Wild Child Block      87   65.0             Oregon   \n",
      "\n",
      "              region_1           region_2         taster_name  \\\n",
      "0                 Etna                NaN       Kerin O’Keefe   \n",
      "1                  NaN                NaN          Roger Voss   \n",
      "2    Willamette Valley  Willamette Valley        Paul Gregutt   \n",
      "3  Lake Michigan Shore                NaN  Alexander Peartree   \n",
      "4    Willamette Valley  Willamette Valley        Paul Gregutt   \n",
      "\n",
      "  taster_twitter_handle                                              title  \\\n",
      "0          @kerinokeefe                  Nicosia 2013 Vulkà Bianco  (Etna)   \n",
      "1            @vossroger      Quinta dos Avidagos 2011 Avidagos Red (Douro)   \n",
      "2           @paulgwine       Rainstorm 2013 Pinot Gris (Willamette Valley)   \n",
      "3                   NaN  St. Julian 2013 Reserve Late Harvest Riesling ...   \n",
      "4           @paulgwine   Sweet Cheeks 2012 Vintner's Reserve Wild Child...   \n",
      "\n",
      "          variety               winery  \n",
      "0     White Blend              Nicosia  \n",
      "1  Portuguese Red  Quinta dos Avidagos  \n",
      "2      Pinot Gris            Rainstorm  \n",
      "3        Riesling           St. Julian  \n",
      "4      Pinot Noir         Sweet Cheeks  \n",
      "(129971, 14)\n"
     ]
    }
   ],
   "source": [
    "print(data.head())\n",
    "print(data.shape)"
   ]
  },
  {
   "cell_type": "code",
   "execution_count": 4,
   "metadata": {
    "colab": {
     "base_uri": "https://localhost:8080/"
    },
    "id": "_4lQPx00Yrcu",
    "outputId": "1ee91ac3-4713-461f-deeb-692b0a8e9e90"
   },
   "outputs": [
    {
     "data": {
      "text/plain": [
       "Unnamed: 0                   0\n",
       "country                     63\n",
       "description                  0\n",
       "designation              37465\n",
       "points                       0\n",
       "price                     8996\n",
       "province                    63\n",
       "region_1                 21247\n",
       "region_2                 79460\n",
       "taster_name              26244\n",
       "taster_twitter_handle    31213\n",
       "title                        0\n",
       "variety                      1\n",
       "winery                       0\n",
       "dtype: int64"
      ]
     },
     "execution_count": 4,
     "metadata": {},
     "output_type": "execute_result"
    }
   ],
   "source": [
    "data.isna().sum()"
   ]
  },
  {
   "cell_type": "code",
   "execution_count": 5,
   "metadata": {
    "colab": {
     "base_uri": "https://localhost:8080/",
     "height": 376
    },
    "id": "iGddCxjBYrcv",
    "outputId": "8b768535-f9cd-4797-d34b-e788dd2e9991"
   },
   "outputs": [
    {
     "data": {
      "image/png": "[encoded data removed]",
      "text/plain": [
       "<Figure size 432x288 with 1 Axes>"
      ]
     },
     "metadata": {
      "needs_background": "light"
     },
     "output_type": "display_data"
    }
   ],
   "source": [
    "#checking the missing values in the dataset\n",
    "data.isna().sum().plot(kind='bar')\n",
    "plt.show()"
   ]
  },
  {
   "cell_type": "markdown",
   "metadata": {
    "id": "NSeaqxumYrcv"
   },
   "source": [
    "        Since region_2 has the highest number of missing values, I will drop that column in order not to decrease the number of observations too much when removing the missing values."
   ]
  },
  {
   "cell_type": "code",
   "execution_count": 6,
   "metadata": {
    "id": "rwJ9MIq2Yrcw"
   },
   "outputs": [],
   "source": [
    "data=data.drop(columns=[\"Unnamed: 0\"],index=0)"
   ]
  },
  {
   "cell_type": "code",
   "execution_count": 7,
   "metadata": {
    "colab": {
     "base_uri": "https://localhost:8080/"
    },
    "id": "HKQ85_FuYrcw",
    "outputId": "abdc9340-6ed7-422d-f44a-21fd7045ac38"
   },
   "outputs": [
    {
     "data": {
      "text/plain": [
       "(129970, 13)"
      ]
     },
     "execution_count": 7,
     "metadata": {},
     "output_type": "execute_result"
    }
   ],
   "source": [
    "data.shape"
   ]
  },
  {
   "cell_type": "code",
   "execution_count": 8,
   "metadata": {
    "colab": {
     "base_uri": "https://localhost:8080/",
     "height": 482
    },
    "id": "dXYzBQtRYrcx",
    "outputId": "27df9dbc-8904-4cf4-c55b-a15047e2053c"
   },
   "outputs": [
    {
     "data": {
      "text/html": [
       "<div>\n",
       "<style scoped>\n",
       "    .dataframe tbody tr th:only-of-type {\n",
       "        vertical-align: middle;\n",
       "    }\n",
       "\n",
       "    .dataframe tbody tr th {\n",
       "        vertical-align: top;\n",
       "    }\n",
       "\n",
       "    .dataframe thead th {\n",
       "        text-align: right;\n",
       "    }\n",
       "</style>\n",
       "<table border=\"1\" class=\"dataframe\">\n",
       "  <thead>\n",
       "    <tr style=\"text-align: right;\">\n",
       "      <th></th>\n",
       "      <th>count</th>\n",
       "      <th>unique</th>\n",
       "      <th>top</th>\n",
       "      <th>freq</th>\n",
       "      <th>mean</th>\n",
       "      <th>std</th>\n",
       "      <th>min</th>\n",
       "      <th>25%</th>\n",
       "      <th>50%</th>\n",
       "      <th>75%</th>\n",
       "      <th>max</th>\n",
       "    </tr>\n",
       "  </thead>\n",
       "  <tbody>\n",
       "    <tr>\n",
       "      <th>country</th>\n",
       "      <td>129907</td>\n",
       "      <td>43</td>\n",
       "      <td>US</td>\n",
       "      <td>54504</td>\n",
       "      <td>NaN</td>\n",
       "      <td>NaN</td>\n",
       "      <td>NaN</td>\n",
       "      <td>NaN</td>\n",
       "      <td>NaN</td>\n",
       "      <td>NaN</td>\n",
       "      <td>NaN</td>\n",
       "    </tr>\n",
       "    <tr>\n",
       "      <th>description</th>\n",
       "      <td>129970</td>\n",
       "      <td>119954</td>\n",
       "      <td>This zesty red has pretty aromas that suggest ...</td>\n",
       "      <td>3</td>\n",
       "      <td>NaN</td>\n",
       "      <td>NaN</td>\n",
       "      <td>NaN</td>\n",
       "      <td>NaN</td>\n",
       "      <td>NaN</td>\n",
       "      <td>NaN</td>\n",
       "      <td>NaN</td>\n",
       "    </tr>\n",
       "    <tr>\n",
       "      <th>designation</th>\n",
       "      <td>92505</td>\n",
       "      <td>37978</td>\n",
       "      <td>Reserve</td>\n",
       "      <td>2009</td>\n",
       "      <td>NaN</td>\n",
       "      <td>NaN</td>\n",
       "      <td>NaN</td>\n",
       "      <td>NaN</td>\n",
       "      <td>NaN</td>\n",
       "      <td>NaN</td>\n",
       "      <td>NaN</td>\n",
       "    </tr>\n",
       "    <tr>\n",
       "      <th>points</th>\n",
       "      <td>129970</td>\n",
       "      <td>NaN</td>\n",
       "      <td>NaN</td>\n",
       "      <td>NaN</td>\n",
       "      <td>88.4471</td>\n",
       "      <td>3.03974</td>\n",
       "      <td>80</td>\n",
       "      <td>86</td>\n",
       "      <td>88</td>\n",
       "      <td>91</td>\n",
       "      <td>100</td>\n",
       "    </tr>\n",
       "    <tr>\n",
       "      <th>price</th>\n",
       "      <td>120975</td>\n",
       "      <td>NaN</td>\n",
       "      <td>NaN</td>\n",
       "      <td>NaN</td>\n",
       "      <td>35.3634</td>\n",
       "      <td>41.0222</td>\n",
       "      <td>4</td>\n",
       "      <td>17</td>\n",
       "      <td>25</td>\n",
       "      <td>42</td>\n",
       "      <td>3300</td>\n",
       "    </tr>\n",
       "    <tr>\n",
       "      <th>province</th>\n",
       "      <td>129907</td>\n",
       "      <td>425</td>\n",
       "      <td>California</td>\n",
       "      <td>36247</td>\n",
       "      <td>NaN</td>\n",
       "      <td>NaN</td>\n",
       "      <td>NaN</td>\n",
       "      <td>NaN</td>\n",
       "      <td>NaN</td>\n",
       "      <td>NaN</td>\n",
       "      <td>NaN</td>\n",
       "    </tr>\n",
       "    <tr>\n",
       "      <th>region_1</th>\n",
       "      <td>108723</td>\n",
       "      <td>1229</td>\n",
       "      <td>Napa Valley</td>\n",
       "      <td>4480</td>\n",
       "      <td>NaN</td>\n",
       "      <td>NaN</td>\n",
       "      <td>NaN</td>\n",
       "      <td>NaN</td>\n",
       "      <td>NaN</td>\n",
       "      <td>NaN</td>\n",
       "      <td>NaN</td>\n",
       "    </tr>\n",
       "    <tr>\n",
       "      <th>region_2</th>\n",
       "      <td>50511</td>\n",
       "      <td>17</td>\n",
       "      <td>Central Coast</td>\n",
       "      <td>11065</td>\n",
       "      <td>NaN</td>\n",
       "      <td>NaN</td>\n",
       "      <td>NaN</td>\n",
       "      <td>NaN</td>\n",
       "      <td>NaN</td>\n",
       "      <td>NaN</td>\n",
       "      <td>NaN</td>\n",
       "    </tr>\n",
       "    <tr>\n",
       "      <th>taster_name</th>\n",
       "      <td>103726</td>\n",
       "      <td>19</td>\n",
       "      <td>Roger Voss</td>\n",
       "      <td>25514</td>\n",
       "      <td>NaN</td>\n",
       "      <td>NaN</td>\n",
       "      <td>NaN</td>\n",
       "      <td>NaN</td>\n",
       "      <td>NaN</td>\n",
       "      <td>NaN</td>\n",
       "      <td>NaN</td>\n",
       "    </tr>\n",
       "    <tr>\n",
       "      <th>taster_twitter_handle</th>\n",
       "      <td>98757</td>\n",
       "      <td>15</td>\n",
       "      <td>@vossroger</td>\n",
       "      <td>25514</td>\n",
       "      <td>NaN</td>\n",
       "      <td>NaN</td>\n",
       "      <td>NaN</td>\n",
       "      <td>NaN</td>\n",
       "      <td>NaN</td>\n",
       "      <td>NaN</td>\n",
       "      <td>NaN</td>\n",
       "    </tr>\n",
       "    <tr>\n",
       "      <th>title</th>\n",
       "      <td>129970</td>\n",
       "      <td>118839</td>\n",
       "      <td>Gloria Ferrer NV Sonoma Brut Sparkling (Sonoma...</td>\n",
       "      <td>11</td>\n",
       "      <td>NaN</td>\n",
       "      <td>NaN</td>\n",
       "      <td>NaN</td>\n",
       "      <td>NaN</td>\n",
       "      <td>NaN</td>\n",
       "      <td>NaN</td>\n",
       "      <td>NaN</td>\n",
       "    </tr>\n",
       "    <tr>\n",
       "      <th>variety</th>\n",
       "      <td>129969</td>\n",
       "      <td>707</td>\n",
       "      <td>Pinot Noir</td>\n",
       "      <td>13272</td>\n",
       "      <td>NaN</td>\n",
       "      <td>NaN</td>\n",
       "      <td>NaN</td>\n",
       "      <td>NaN</td>\n",
       "      <td>NaN</td>\n",
       "      <td>NaN</td>\n",
       "      <td>NaN</td>\n",
       "    </tr>\n",
       "    <tr>\n",
       "      <th>winery</th>\n",
       "      <td>129970</td>\n",
       "      <td>16757</td>\n",
       "      <td>Wines &amp; Winemakers</td>\n",
       "      <td>222</td>\n",
       "      <td>NaN</td>\n",
       "      <td>NaN</td>\n",
       "      <td>NaN</td>\n",
       "      <td>NaN</td>\n",
       "      <td>NaN</td>\n",
       "      <td>NaN</td>\n",
       "      <td>NaN</td>\n",
       "    </tr>\n",
       "  </tbody>\n",
       "</table>\n",
       "</div>"
      ],
      "text/plain": [
       "                        count  unique  \\\n",
       "country                129907      43   \n",
       "description            129970  119954   \n",
       "designation             92505   37978   \n",
       "points                 129970     NaN   \n",
       "price                  120975     NaN   \n",
       "province               129907     425   \n",
       "region_1               108723    1229   \n",
       "region_2                50511      17   \n",
       "taster_name            103726      19   \n",
       "taster_twitter_handle   98757      15   \n",
       "title                  129970  118839   \n",
       "variety                129969     707   \n",
       "winery                 129970   16757   \n",
       "\n",
       "                                                                     top  \\\n",
       "country                                                               US   \n",
       "description            This zesty red has pretty aromas that suggest ...   \n",
       "designation                                                      Reserve   \n",
       "points                                                               NaN   \n",
       "price                                                                NaN   \n",
       "province                                                      California   \n",
       "region_1                                                     Napa Valley   \n",
       "region_2                                                   Central Coast   \n",
       "taster_name                                                   Roger Voss   \n",
       "taster_twitter_handle                                         @vossroger   \n",
       "title                  Gloria Ferrer NV Sonoma Brut Sparkling (Sonoma...   \n",
       "variety                                                       Pinot Noir   \n",
       "winery                                                Wines & Winemakers   \n",
       "\n",
       "                        freq     mean      std  min  25%  50%  75%   max  \n",
       "country                54504      NaN      NaN  NaN  NaN  NaN  NaN   NaN  \n",
       "description                3      NaN      NaN  NaN  NaN  NaN  NaN   NaN  \n",
       "designation             2009      NaN      NaN  NaN  NaN  NaN  NaN   NaN  \n",
       "points                   NaN  88.4471  3.03974   80   86   88   91   100  \n",
       "price                    NaN  35.3634  41.0222    4   17   25   42  3300  \n",
       "province               36247      NaN      NaN  NaN  NaN  NaN  NaN   NaN  \n",
       "region_1                4480      NaN      NaN  NaN  NaN  NaN  NaN   NaN  \n",
       "region_2               11065      NaN      NaN  NaN  NaN  NaN  NaN   NaN  \n",
       "taster_name            25514      NaN      NaN  NaN  NaN  NaN  NaN   NaN  \n",
       "taster_twitter_handle  25514      NaN      NaN  NaN  NaN  NaN  NaN   NaN  \n",
       "title                     11      NaN      NaN  NaN  NaN  NaN  NaN   NaN  \n",
       "variety                13272      NaN      NaN  NaN  NaN  NaN  NaN   NaN  \n",
       "winery                   222      NaN      NaN  NaN  NaN  NaN  NaN   NaN  "
      ]
     },
     "execution_count": 8,
     "metadata": {},
     "output_type": "execute_result"
    }
   ],
   "source": [
    "data.describe(include='all').T"
   ]
  },
  {
   "cell_type": "code",
   "execution_count": 9,
   "metadata": {
    "colab": {
     "base_uri": "https://localhost:8080/",
     "height": 600
    },
    "id": "7WE_QGUOYrcx",
    "outputId": "19c34e75-aa20-49f4-b788-7cc664f41c9c"
   },
   "outputs": [
    {
     "data": {
      "image/png": "[encoded data removed]",
      "text/plain": [
       "<Figure size 1728x720 with 3 Axes>"
      ]
     },
     "metadata": {
      "needs_background": "light"
     },
     "output_type": "display_data"
    }
   ],
   "source": [
    "#visualising final missing values\n",
    "msno.bar(data,color=sns.color_palette(\"ch:start=.2,rot=-.3\"))\n",
    "plt.show()"
   ]
  },
  {
   "cell_type": "code",
   "execution_count": 10,
   "metadata": {
    "id": "Y-ENbZSMYrcx"
   },
   "outputs": [],
   "source": [
    "#\"Unknown\" category will be used to replace missing values in  region_1, region_2, taster_name, taster_twitter_handle\n",
    "#The rest of missing values in other variables will be dropped\n",
    "data.designation.fillna(\"Unknown\", inplace=True)\n",
    "data.region_1.fillna(\"Unknown\",inplace=True)\n",
    "data.region_2.fillna(\"Unknown\",inplace=True)\n",
    "data.taster_name.fillna(\"Unknown Name\",inplace=True)\n",
    "data.taster_twitter_handle.fillna(\"Unknown Twitter Handle\",inplace=True)"
   ]
  },
  {
   "cell_type": "code",
   "execution_count": 11,
   "metadata": {
    "id": "vNiea8UjYrcy"
   },
   "outputs": [],
   "source": [
    "data=data.dropna()"
   ]
  },
  {
   "cell_type": "code",
   "execution_count": 12,
   "metadata": {
    "colab": {
     "base_uri": "https://localhost:8080/"
    },
    "id": "Nn6_LJD7Yrcy",
    "outputId": "e36e4155-4fe4-47b8-f745-d3832b228e20"
   },
   "outputs": [
    {
     "name": "stdout",
     "output_type": "stream",
     "text": [
      "Final shape of data is: (120915, 13)\n"
     ]
    }
   ],
   "source": [
    "print(\"Final shape of data is:\", data.shape)"
   ]
  },
  {
   "cell_type": "code",
   "execution_count": 13,
   "metadata": {
    "colab": {
     "base_uri": "https://localhost:8080/"
    },
    "id": "0NiKAGDJYrcy",
    "outputId": "64a95374-aa18-4bfd-c173-463eacad71fa"
   },
   "outputs": [
    {
     "name": "stdout",
     "output_type": "stream",
     "text": [
      "<class 'pandas.core.frame.DataFrame'>\n",
      "Int64Index: 120915 entries, 1 to 129970\n",
      "Data columns (total 13 columns):\n",
      " #   Column                 Non-Null Count   Dtype  \n",
      "---  ------                 --------------   -----  \n",
      " 0   country                120915 non-null  object \n",
      " 1   description            120915 non-null  object \n",
      " 2   designation            120915 non-null  object \n",
      " 3   points                 120915 non-null  int64  \n",
      " 4   price                  120915 non-null  float64\n",
      " 5   province               120915 non-null  object \n",
      " 6   region_1               120915 non-null  object \n",
      " 7   region_2               120915 non-null  object \n",
      " 8   taster_name            120915 non-null  object \n",
      " 9   taster_twitter_handle  120915 non-null  object \n",
      " 10  title                  120915 non-null  object \n",
      " 11  variety                120915 non-null  object \n",
      " 12  winery                 120915 non-null  object \n",
      "dtypes: float64(1), int64(1), object(11)\n",
      "memory usage: 12.9+ MB\n"
     ]
    }
   ],
   "source": [
    "data.info()"
   ]
  },
  {
   "cell_type": "code",
   "execution_count": 14,
   "metadata": {
    "colab": {
     "base_uri": "https://localhost:8080/",
     "height": 1000
    },
    "id": "U0DUMCqyYrcz",
    "outputId": "2852e776-65da-48a6-8ceb-c6370fc7ccfc"
   },
   "outputs": [
    {
     "data": {
      "text/html": [
       "<div>\n",
       "<style scoped>\n",
       "    .dataframe tbody tr th:only-of-type {\n",
       "        vertical-align: middle;\n",
       "    }\n",
       "\n",
       "    .dataframe tbody tr th {\n",
       "        vertical-align: top;\n",
       "    }\n",
       "\n",
       "    .dataframe thead th {\n",
       "        text-align: right;\n",
       "    }\n",
       "</style>\n",
       "<table border=\"1\" class=\"dataframe\">\n",
       "  <thead>\n",
       "    <tr style=\"text-align: right;\">\n",
       "      <th></th>\n",
       "      <th>country</th>\n",
       "      <th>description</th>\n",
       "      <th>designation</th>\n",
       "      <th>points</th>\n",
       "      <th>price</th>\n",
       "      <th>province</th>\n",
       "      <th>region_1</th>\n",
       "      <th>region_2</th>\n",
       "      <th>taster_name</th>\n",
       "      <th>taster_twitter_handle</th>\n",
       "      <th>title</th>\n",
       "      <th>variety</th>\n",
       "      <th>winery</th>\n",
       "    </tr>\n",
       "  </thead>\n",
       "  <tbody>\n",
       "    <tr>\n",
       "      <th>1</th>\n",
       "      <td>Portugal</td>\n",
       "      <td>This is ripe and fruity, a wine that is smooth...</td>\n",
       "      <td>Avidagos</td>\n",
       "      <td>87</td>\n",
       "      <td>15.0</td>\n",
       "      <td>Douro</td>\n",
       "      <td>Unknown</td>\n",
       "      <td>Unknown</td>\n",
       "      <td>Roger Voss</td>\n",
       "      <td>@vossroger</td>\n",
       "      <td>Quinta dos Avidagos 2011 Avidagos Red (Douro)</td>\n",
       "      <td>Portuguese Red</td>\n",
       "      <td>Quinta dos Avidagos</td>\n",
       "    </tr>\n",
       "    <tr>\n",
       "      <th>2</th>\n",
       "      <td>US</td>\n",
       "      <td>Tart and snappy, the flavors of lime flesh and...</td>\n",
       "      <td>Unknown</td>\n",
       "      <td>87</td>\n",
       "      <td>14.0</td>\n",
       "      <td>Oregon</td>\n",
       "      <td>Willamette Valley</td>\n",
       "      <td>Willamette Valley</td>\n",
       "      <td>Paul Gregutt</td>\n",
       "      <td>@paulgwine</td>\n",
       "      <td>Rainstorm 2013 Pinot Gris (Willamette Valley)</td>\n",
       "      <td>Pinot Gris</td>\n",
       "      <td>Rainstorm</td>\n",
       "    </tr>\n",
       "    <tr>\n",
       "      <th>3</th>\n",
       "      <td>US</td>\n",
       "      <td>Pineapple rind, lemon pith and orange blossom ...</td>\n",
       "      <td>Reserve Late Harvest</td>\n",
       "      <td>87</td>\n",
       "      <td>13.0</td>\n",
       "      <td>Michigan</td>\n",
       "      <td>Lake Michigan Shore</td>\n",
       "      <td>Unknown</td>\n",
       "      <td>Alexander Peartree</td>\n",
       "      <td>Unknown Twitter Handle</td>\n",
       "      <td>St. Julian 2013 Reserve Late Harvest Riesling ...</td>\n",
       "      <td>Riesling</td>\n",
       "      <td>St. Julian</td>\n",
       "    </tr>\n",
       "  </tbody>\n",
       "</table>\n",
       "</div>"
      ],
      "text/plain": [
       "    country                                        description  \\\n",
       "1  Portugal  This is ripe and fruity, a wine that is smooth...   \n",
       "2        US  Tart and snappy, the flavors of lime flesh and...   \n",
       "3        US  Pineapple rind, lemon pith and orange blossom ...   \n",
       "\n",
       "            designation  points  price  province             region_1  \\\n",
       "1              Avidagos      87   15.0     Douro              Unknown   \n",
       "2               Unknown      87   14.0    Oregon    Willamette Valley   \n",
       "3  Reserve Late Harvest      87   13.0  Michigan  Lake Michigan Shore   \n",
       "\n",
       "            region_2         taster_name   taster_twitter_handle  \\\n",
       "1            Unknown          Roger Voss              @vossroger   \n",
       "2  Willamette Valley        Paul Gregutt             @paulgwine    \n",
       "3            Unknown  Alexander Peartree  Unknown Twitter Handle   \n",
       "\n",
       "                                               title         variety  \\\n",
       "1      Quinta dos Avidagos 2011 Avidagos Red (Douro)  Portuguese Red   \n",
       "2      Rainstorm 2013 Pinot Gris (Willamette Valley)      Pinot Gris   \n",
       "3  St. Julian 2013 Reserve Late Harvest Riesling ...        Riesling   \n",
       "\n",
       "                winery  \n",
       "1  Quinta dos Avidagos  \n",
       "2            Rainstorm  \n",
       "3           St. Julian  "
      ]
     },
     "execution_count": 14,
     "metadata": {},
     "output_type": "execute_result"
    }
   ],
   "source": [
    "data.head(3)"
   ]
  },
  {
   "cell_type": "code",
   "execution_count": 15,
   "metadata": {
    "colab": {
     "base_uri": "https://localhost:8080/",
     "height": 300
    },
    "id": "vqcieuTxYrcz",
    "outputId": "d86b463d-6c5e-4fd0-c859-5d71530b2355",
    "scrolled": true
   },
   "outputs": [
    {
     "data": {
      "text/html": [
       "<div>\n",
       "<style scoped>\n",
       "    .dataframe tbody tr th:only-of-type {\n",
       "        vertical-align: middle;\n",
       "    }\n",
       "\n",
       "    .dataframe tbody tr th {\n",
       "        vertical-align: top;\n",
       "    }\n",
       "\n",
       "    .dataframe thead th {\n",
       "        text-align: right;\n",
       "    }\n",
       "</style>\n",
       "<table border=\"1\" class=\"dataframe\">\n",
       "  <thead>\n",
       "    <tr style=\"text-align: right;\">\n",
       "      <th></th>\n",
       "      <th>country</th>\n",
       "      <th>description</th>\n",
       "      <th>designation</th>\n",
       "      <th>province</th>\n",
       "      <th>region_1</th>\n",
       "      <th>region_2</th>\n",
       "      <th>taster_name</th>\n",
       "      <th>taster_twitter_handle</th>\n",
       "      <th>title</th>\n",
       "      <th>variety</th>\n",
       "      <th>winery</th>\n",
       "    </tr>\n",
       "  </thead>\n",
       "  <tbody>\n",
       "    <tr>\n",
       "      <th>count</th>\n",
       "      <td>120915</td>\n",
       "      <td>120915</td>\n",
       "      <td>120915</td>\n",
       "      <td>120915</td>\n",
       "      <td>120915</td>\n",
       "      <td>120915</td>\n",
       "      <td>120915</td>\n",
       "      <td>120915</td>\n",
       "      <td>120915</td>\n",
       "      <td>120915</td>\n",
       "      <td>120915</td>\n",
       "    </tr>\n",
       "    <tr>\n",
       "      <th>unique</th>\n",
       "      <td>42</td>\n",
       "      <td>111511</td>\n",
       "      <td>35754</td>\n",
       "      <td>422</td>\n",
       "      <td>1205</td>\n",
       "      <td>18</td>\n",
       "      <td>20</td>\n",
       "      <td>16</td>\n",
       "      <td>110582</td>\n",
       "      <td>691</td>\n",
       "      <td>15843</td>\n",
       "    </tr>\n",
       "    <tr>\n",
       "      <th>top</th>\n",
       "      <td>US</td>\n",
       "      <td>Stalky aromas suggest hay and green herbs, wit...</td>\n",
       "      <td>Unknown</td>\n",
       "      <td>California</td>\n",
       "      <td>Unknown</td>\n",
       "      <td>Unknown</td>\n",
       "      <td>Unknown Name</td>\n",
       "      <td>Unknown Twitter Handle</td>\n",
       "      <td>Gloria Ferrer NV Sonoma Brut Sparkling (Sonoma...</td>\n",
       "      <td>Pinot Noir</td>\n",
       "      <td>Testarossa</td>\n",
       "    </tr>\n",
       "    <tr>\n",
       "      <th>freq</th>\n",
       "      <td>54265</td>\n",
       "      <td>3</td>\n",
       "      <td>34767</td>\n",
       "      <td>36104</td>\n",
       "      <td>19515</td>\n",
       "      <td>70623</td>\n",
       "      <td>24495</td>\n",
       "      <td>29415</td>\n",
       "      <td>11</td>\n",
       "      <td>12785</td>\n",
       "      <td>217</td>\n",
       "    </tr>\n",
       "  </tbody>\n",
       "</table>\n",
       "</div>"
      ],
      "text/plain": [
       "       country                                        description designation  \\\n",
       "count   120915                                             120915      120915   \n",
       "unique      42                                             111511       35754   \n",
       "top         US  Stalky aromas suggest hay and green herbs, wit...     Unknown   \n",
       "freq     54265                                                  3       34767   \n",
       "\n",
       "          province region_1 region_2   taster_name   taster_twitter_handle  \\\n",
       "count       120915   120915   120915        120915                  120915   \n",
       "unique         422     1205       18            20                      16   \n",
       "top     California  Unknown  Unknown  Unknown Name  Unknown Twitter Handle   \n",
       "freq         36104    19515    70623         24495                   29415   \n",
       "\n",
       "                                                    title     variety  \\\n",
       "count                                              120915      120915   \n",
       "unique                                             110582         691   \n",
       "top     Gloria Ferrer NV Sonoma Brut Sparkling (Sonoma...  Pinot Noir   \n",
       "freq                                                   11       12785   \n",
       "\n",
       "            winery  \n",
       "count       120915  \n",
       "unique       15843  \n",
       "top     Testarossa  \n",
       "freq           217  "
      ]
     },
     "execution_count": 15,
     "metadata": {},
     "output_type": "execute_result"
    }
   ],
   "source": [
    "data.describe(include=np.object)"
   ]
  },
  {
   "cell_type": "code",
   "execution_count": 16,
   "metadata": {
    "colab": {
     "base_uri": "https://localhost:8080/",
     "height": 284
    },
    "id": "fmz3zfHvYrcz",
    "outputId": "03afeed4-98ea-4f17-b041-0dfbfa6b24f8"
   },
   "outputs": [
    {
     "data": {
      "text/html": [
       "<div>\n",
       "<style scoped>\n",
       "    .dataframe tbody tr th:only-of-type {\n",
       "        vertical-align: middle;\n",
       "    }\n",
       "\n",
       "    .dataframe tbody tr th {\n",
       "        vertical-align: top;\n",
       "    }\n",
       "\n",
       "    .dataframe thead th {\n",
       "        text-align: right;\n",
       "    }\n",
       "</style>\n",
       "<table border=\"1\" class=\"dataframe\">\n",
       "  <thead>\n",
       "    <tr style=\"text-align: right;\">\n",
       "      <th></th>\n",
       "      <th>points</th>\n",
       "      <th>price</th>\n",
       "    </tr>\n",
       "  </thead>\n",
       "  <tbody>\n",
       "    <tr>\n",
       "      <th>count</th>\n",
       "      <td>120915.000000</td>\n",
       "      <td>120915.000000</td>\n",
       "    </tr>\n",
       "    <tr>\n",
       "      <th>mean</th>\n",
       "      <td>88.421726</td>\n",
       "      <td>35.368796</td>\n",
       "    </tr>\n",
       "    <tr>\n",
       "      <th>std</th>\n",
       "      <td>3.044954</td>\n",
       "      <td>41.031188</td>\n",
       "    </tr>\n",
       "    <tr>\n",
       "      <th>min</th>\n",
       "      <td>80.000000</td>\n",
       "      <td>4.000000</td>\n",
       "    </tr>\n",
       "    <tr>\n",
       "      <th>25%</th>\n",
       "      <td>86.000000</td>\n",
       "      <td>17.000000</td>\n",
       "    </tr>\n",
       "    <tr>\n",
       "      <th>50%</th>\n",
       "      <td>88.000000</td>\n",
       "      <td>25.000000</td>\n",
       "    </tr>\n",
       "    <tr>\n",
       "      <th>75%</th>\n",
       "      <td>91.000000</td>\n",
       "      <td>42.000000</td>\n",
       "    </tr>\n",
       "    <tr>\n",
       "      <th>max</th>\n",
       "      <td>100.000000</td>\n",
       "      <td>3300.000000</td>\n",
       "    </tr>\n",
       "  </tbody>\n",
       "</table>\n",
       "</div>"
      ],
      "text/plain": [
       "              points          price\n",
       "count  120915.000000  120915.000000\n",
       "mean       88.421726      35.368796\n",
       "std         3.044954      41.031188\n",
       "min        80.000000       4.000000\n",
       "25%        86.000000      17.000000\n",
       "50%        88.000000      25.000000\n",
       "75%        91.000000      42.000000\n",
       "max       100.000000    3300.000000"
      ]
     },
     "execution_count": 16,
     "metadata": {},
     "output_type": "execute_result"
    }
   ],
   "source": [
    "data.describe()"
   ]
  },
  {
   "cell_type": "code",
   "execution_count": 17,
   "metadata": {
    "colab": {
     "base_uri": "https://localhost:8080/"
    },
    "id": "H8J0hXiCYrc0",
    "outputId": "825afcdd-c3be-4515-8830-7da9189f4a1b"
   },
   "outputs": [
    {
     "name": "stdout",
     "output_type": "stream",
     "text": [
      "There are 691 variety of wines from 42 countries\n"
     ]
    }
   ],
   "source": [
    "print('There are',data['variety'].nunique(), \"variety of wines from\", data['country'].nunique(), \"countries\")"
   ]
  },
  {
   "cell_type": "code",
   "execution_count": 18,
   "metadata": {
    "colab": {
     "base_uri": "https://localhost:8080/",
     "height": 518
    },
    "id": "CG_cQ_fIYrc0",
    "outputId": "f5d58426-4aa9-4adc-ba7e-a32803df394c",
    "scrolled": false
   },
   "outputs": [
    {
     "data": {
      "image/png": "[encoded data removed]",
      "text/plain": [
       "<Figure size 1152x576 with 2 Axes>"
      ]
     },
     "metadata": {
      "needs_background": "light"
     },
     "output_type": "display_data"
    }
   ],
   "source": [
    "#highest rated wines by country and variety\n",
    "fig,ax = plt.subplots(1,2,figsize=(16,8))\n",
    "ax1,ax2 = ax.flatten()\n",
    "\n",
    "cnt = data.groupby(['country'])['points'].max().sort_values(ascending=False).to_frame()[:10]\n",
    "sns.barplot(x = cnt['points'], y = cnt.index, palette= 'light:b',ax=ax1)\n",
    "ax1.set_title('The highest rated wines by country')\n",
    "ax1.set_ylabel('Country')\n",
    "ax1.set_xlabel('Rating')\n",
    "\n",
    "cnt = data.groupby(['variety'])['points'].max().sort_values(ascending=False).to_frame()[:15]\n",
    "sns.barplot(x = cnt['points'], y = cnt.index, palette = 'Blues',ax=ax2)\n",
    "ax2.set_title('The highest rated wines by variety of grapes')\n",
    "ax2.set_ylabel('Variety')\n",
    "ax2.set_xlabel('Rating')\n",
    "\n",
    "plt.subplots_adjust(wspace=0.7)"
   ]
  },
  {
   "cell_type": "code",
   "execution_count": 19,
   "metadata": {
    "colab": {
     "base_uri": "https://localhost:8080/",
     "height": 518
    },
    "id": "mJIVG3vwYrc1",
    "outputId": "0f76d72a-4c6c-4bb2-97c2-b237fe4812ff"
   },
   "outputs": [
    {
     "data": {
      "image/png": "[encoded data removed]",
      "text/plain": [
       "<Figure size 864x576 with 1 Axes>"
      ]
     },
     "metadata": {},
     "output_type": "display_data"
    }
   ],
   "source": [
    "#by country mean ratings\n",
    "sns.set_theme()\n",
    "\n",
    "df=data.groupby(['country',]).mean()['points'].sort_values(ascending=False).to_frame()\n",
    "\n",
    "plt.figure(figsize=(12,8))\n",
    "sns.pointplot(x = df['points'] ,y = df.index ,color='b',orient='h')\n",
    "plt.title('Mean Rating of Wines by Country')\n",
    "plt.xlabel('Rating')\n",
    "plt.ylabel(\"Country\")\n",
    "\n",
    "plt.show()"
   ]
  },
  {
   "cell_type": "code",
   "execution_count": 20,
   "metadata": {
    "colab": {
     "base_uri": "https://localhost:8080/",
     "height": 556
    },
    "id": "sIcgWncLYrc1",
    "outputId": "9ed37fef-1c36-41b6-d4b9-d26d7909e1ef"
   },
   "outputs": [
    {
     "name": "stderr",
     "output_type": "stream",
     "text": [
      "C:\\Users\\HP\\anaconda3\\lib\\site-packages\\seaborn\\_decorators.py:43: FutureWarning: Pass the following variables as keyword args: x, y. From version 0.12, the only valid positional argument will be `data`, and passing other arguments without an explicit keyword will result in an error or misinterpretation.\n",
      "  FutureWarning\n"
     ]
    },
    {
     "data": {
      "image/png": "[encoded data removed]",
      "text/plain": [
       "<Figure size 576x576 with 1 Axes>"
      ]
     },
     "metadata": {},
     "output_type": "display_data"
    }
   ],
   "source": [
    "#the distribution of wine ratings\n",
    "plt.figure(figsize=(8,8))\n",
    "\n",
    "sns.scatterplot(data.points,data.price,color= 'b')\n",
    "plt.xlabel(\"Rating\")\n",
    "plt.show()"
   ]
  },
  {
   "cell_type": "code",
   "execution_count": 21,
   "metadata": {
    "colab": {
     "base_uri": "https://localhost:8080/"
    },
    "id": "S6vdJvkMYrc1",
    "outputId": "7147e032-1f1d-4f76-ce08-ea878742f6db"
   },
   "outputs": [
    {
     "data": {
      "text/plain": [
       "(0.4161971360153308, 0.0)"
      ]
     },
     "execution_count": 21,
     "metadata": {},
     "output_type": "execute_result"
    }
   ],
   "source": [
    "pearsonr(data.points,data.price)"
   ]
  },
  {
   "cell_type": "markdown",
   "metadata": {
    "id": "c5jgzWfCYrc2"
   },
   "source": [
    "# Simple Recommender System"
   ]
  },
  {
   "cell_type": "code",
   "execution_count": 22,
   "metadata": {
    "colab": {
     "base_uri": "https://localhost:8080/"
    },
    "id": "9AtoGWnhYrc2",
    "outputId": "dbb31996-8686-409c-8ac6-af28160bece0"
   },
   "outputs": [
    {
     "data": {
      "text/plain": [
       "Gloria Ferrer NV Sonoma Brut Sparkling (Sonoma County)           11\n",
       "Korbel NV Brut Sparkling (California)                             9\n",
       "Segura Viudas NV Extra Dry Sparkling (Cava)                       8\n",
       "Ruinart NV Brut Rosé  (Champagne)                                 7\n",
       "Gloria Ferrer NV Blanc de Noirs Sparkling (Carneros)              7\n",
       "                                                                 ..\n",
       "Terlato 2008 Syrah (Dry Creek Valley)                             1\n",
       "Quinta do Vale Meão 2013 Meandro do Vale Meão Red (Douro)         1\n",
       "Sean Minor 2006 4B Merlot (Napa Valley)                           1\n",
       "Peju 2010 Fifty/Fifty Cabernet Sauvignon-Merlot (Napa Valley)     1\n",
       "Mocali 2011 Riserva  (Brunello di Montalcino)                     1\n",
       "Name: title, Length: 110582, dtype: int64"
      ]
     },
     "execution_count": 22,
     "metadata": {},
     "output_type": "execute_result"
    }
   ],
   "source": [
    "data[\"title\"].value_counts()"
   ]
  },
  {
   "cell_type": "code",
   "execution_count": 23,
   "metadata": {
    "colab": {
     "base_uri": "https://localhost:8080/",
     "height": 254
    },
    "id": "4Y2ChDgXYrc2",
    "outputId": "5cde55a7-a770-485f-922d-a2c5bc80558f"
   },
   "outputs": [
    {
     "data": {
      "text/html": [
       "<div>\n",
       "<style scoped>\n",
       "    .dataframe tbody tr th:only-of-type {\n",
       "        vertical-align: middle;\n",
       "    }\n",
       "\n",
       "    .dataframe tbody tr th {\n",
       "        vertical-align: top;\n",
       "    }\n",
       "\n",
       "    .dataframe thead tr th {\n",
       "        text-align: left;\n",
       "    }\n",
       "\n",
       "    .dataframe thead tr:last-of-type th {\n",
       "        text-align: right;\n",
       "    }\n",
       "</style>\n",
       "<table border=\"1\" class=\"dataframe\">\n",
       "  <thead>\n",
       "    <tr>\n",
       "      <th></th>\n",
       "      <th></th>\n",
       "      <th></th>\n",
       "      <th></th>\n",
       "      <th colspan=\"2\" halign=\"left\">points</th>\n",
       "    </tr>\n",
       "    <tr>\n",
       "      <th></th>\n",
       "      <th></th>\n",
       "      <th></th>\n",
       "      <th></th>\n",
       "      <th>count</th>\n",
       "      <th>mean</th>\n",
       "    </tr>\n",
       "    <tr>\n",
       "      <th>title</th>\n",
       "      <th>country</th>\n",
       "      <th>variety</th>\n",
       "      <th>winery</th>\n",
       "      <th></th>\n",
       "      <th></th>\n",
       "    </tr>\n",
       "  </thead>\n",
       "  <tbody>\n",
       "    <tr>\n",
       "      <th>1+1=3 2008 Rosé Cabernet Sauvignon (Penedès)</th>\n",
       "      <th>Spain</th>\n",
       "      <th>Cabernet Sauvignon</th>\n",
       "      <th>1+1=3</th>\n",
       "      <td>1.0</td>\n",
       "      <td>82.0</td>\n",
       "    </tr>\n",
       "    <tr>\n",
       "      <th>1+1=3 NV Brut Sparkling (Cava)</th>\n",
       "      <th>Spain</th>\n",
       "      <th>Sparkling Blend</th>\n",
       "      <th>1+1=3</th>\n",
       "      <td>2.0</td>\n",
       "      <td>87.0</td>\n",
       "    </tr>\n",
       "    <tr>\n",
       "      <th>1+1=3 NV Cygnus Brut Nature Reserva Made With Organic Grapes Sparkling (Cava)</th>\n",
       "      <th>Spain</th>\n",
       "      <th>Sparkling Blend</th>\n",
       "      <th>1+1=3</th>\n",
       "      <td>2.0</td>\n",
       "      <td>89.0</td>\n",
       "    </tr>\n",
       "    <tr>\n",
       "      <th>1+1=3 NV Rosé Sparkling (Cava)</th>\n",
       "      <th>Spain</th>\n",
       "      <th>Sparkling Blend</th>\n",
       "      <th>1+1=3</th>\n",
       "      <td>1.0</td>\n",
       "      <td>86.0</td>\n",
       "    </tr>\n",
       "    <tr>\n",
       "      <th>10 Knots 2006 Beachcomber White (Paso Robles)</th>\n",
       "      <th>US</th>\n",
       "      <th>Rhône-style White Blend</th>\n",
       "      <th>10 Knots</th>\n",
       "      <td>1.0</td>\n",
       "      <td>83.0</td>\n",
       "    </tr>\n",
       "  </tbody>\n",
       "</table>\n",
       "</div>"
      ],
      "text/plain": [
       "                                                                                            points  \\\n",
       "                                                                                             count   \n",
       "title                                              country variety                 winery            \n",
       "1+1=3 2008 Rosé Cabernet Sauvignon (Penedès)       Spain   Cabernet Sauvignon      1+1=3       1.0   \n",
       "1+1=3 NV Brut Sparkling (Cava)                     Spain   Sparkling Blend         1+1=3       2.0   \n",
       "1+1=3 NV Cygnus Brut Nature Reserva Made With O... Spain   Sparkling Blend         1+1=3       2.0   \n",
       "1+1=3 NV Rosé Sparkling (Cava)                     Spain   Sparkling Blend         1+1=3       1.0   \n",
       "10 Knots 2006 Beachcomber White (Paso Robles)      US      Rhône-style White Blend 10 Knots    1.0   \n",
       "\n",
       "                                                                                                   \n",
       "                                                                                             mean  \n",
       "title                                              country variety                 winery          \n",
       "1+1=3 2008 Rosé Cabernet Sauvignon (Penedès)       Spain   Cabernet Sauvignon      1+1=3     82.0  \n",
       "1+1=3 NV Brut Sparkling (Cava)                     Spain   Sparkling Blend         1+1=3     87.0  \n",
       "1+1=3 NV Cygnus Brut Nature Reserva Made With O... Spain   Sparkling Blend         1+1=3     89.0  \n",
       "1+1=3 NV Rosé Sparkling (Cava)                     Spain   Sparkling Blend         1+1=3     86.0  \n",
       "10 Knots 2006 Beachcomber White (Paso Robles)      US      Rhône-style White Blend 10 Knots  83.0  "
      ]
     },
     "execution_count": 23,
     "metadata": {},
     "output_type": "execute_result"
    }
   ],
   "source": [
    "#the data should be pivoted to be by wine title, in order to calculate number of ratings and average rating for each wine \n",
    "data_pivot =pd.pivot_table(data,index=['title','country','variety','winery']\n",
    "                                ,values=['points'],aggfunc=('mean','count'))\n",
    "data_pivot.head()"
   ]
  },
  {
   "cell_type": "code",
   "execution_count": 24,
   "metadata": {
    "id": "1f7R_5nyYrc3"
   },
   "outputs": [],
   "source": [
    "#bringing new data into normal dataframe format\n",
    "data_pivot.columns=data_pivot.columns.droplevel(0)\n",
    "data_pivot.columns.name=None\n",
    "data_pivot = data_pivot.reset_index()"
   ]
  },
  {
   "cell_type": "code",
   "execution_count": 25,
   "metadata": {
    "colab": {
     "base_uri": "https://localhost:8080/",
     "height": 639
    },
    "id": "S0i-eNoXYrc3",
    "outputId": "0d9df265-8f99-4cdb-d21b-8fe44bacc87b"
   },
   "outputs": [
    {
     "data": {
      "text/html": [
       "<div>\n",
       "<style scoped>\n",
       "    .dataframe tbody tr th:only-of-type {\n",
       "        vertical-align: middle;\n",
       "    }\n",
       "\n",
       "    .dataframe tbody tr th {\n",
       "        vertical-align: top;\n",
       "    }\n",
       "\n",
       "    .dataframe thead th {\n",
       "        text-align: right;\n",
       "    }\n",
       "</style>\n",
       "<table border=\"1\" class=\"dataframe\">\n",
       "  <thead>\n",
       "    <tr style=\"text-align: right;\">\n",
       "      <th></th>\n",
       "      <th>title</th>\n",
       "      <th>country</th>\n",
       "      <th>variety</th>\n",
       "      <th>winery</th>\n",
       "      <th>count</th>\n",
       "      <th>mean</th>\n",
       "    </tr>\n",
       "  </thead>\n",
       "  <tbody>\n",
       "    <tr>\n",
       "      <th>46986</th>\n",
       "      <td>Gloria Ferrer NV Sonoma Brut Sparkling (Sonoma...</td>\n",
       "      <td>US</td>\n",
       "      <td>Sparkling Blend</td>\n",
       "      <td>Gloria Ferrer</td>\n",
       "      <td>11.0</td>\n",
       "      <td>89.000000</td>\n",
       "    </tr>\n",
       "    <tr>\n",
       "      <th>57741</th>\n",
       "      <td>Korbel NV Brut Sparkling (California)</td>\n",
       "      <td>US</td>\n",
       "      <td>Sparkling Blend</td>\n",
       "      <td>Korbel</td>\n",
       "      <td>9.0</td>\n",
       "      <td>86.888889</td>\n",
       "    </tr>\n",
       "    <tr>\n",
       "      <th>90163</th>\n",
       "      <td>Segura Viudas NV Extra Dry Sparkling (Cava)</td>\n",
       "      <td>Spain</td>\n",
       "      <td>Sparkling Blend</td>\n",
       "      <td>Segura Viudas</td>\n",
       "      <td>8.0</td>\n",
       "      <td>85.625000</td>\n",
       "    </tr>\n",
       "    <tr>\n",
       "      <th>46982</th>\n",
       "      <td>Gloria Ferrer NV Blanc de Noirs Sparkling (Car...</td>\n",
       "      <td>US</td>\n",
       "      <td>Sparkling Blend</td>\n",
       "      <td>Gloria Ferrer</td>\n",
       "      <td>7.0</td>\n",
       "      <td>88.142857</td>\n",
       "    </tr>\n",
       "    <tr>\n",
       "      <th>90158</th>\n",
       "      <td>Segura Viudas NV Aria Estate Extra Dry Sparkli...</td>\n",
       "      <td>Spain</td>\n",
       "      <td>Sparkling Blend</td>\n",
       "      <td>Segura Viudas</td>\n",
       "      <td>7.0</td>\n",
       "      <td>84.142857</td>\n",
       "    </tr>\n",
       "    <tr>\n",
       "      <th>86918</th>\n",
       "      <td>Ruinart NV Brut Rosé  (Champagne)</td>\n",
       "      <td>France</td>\n",
       "      <td>Champagne Blend</td>\n",
       "      <td>Ruinart</td>\n",
       "      <td>7.0</td>\n",
       "      <td>89.714286</td>\n",
       "    </tr>\n",
       "    <tr>\n",
       "      <th>11094</th>\n",
       "      <td>Boizel NV Brut Réserve  (Champagne)</td>\n",
       "      <td>France</td>\n",
       "      <td>Champagne Blend</td>\n",
       "      <td>Boizel</td>\n",
       "      <td>6.0</td>\n",
       "      <td>88.666667</td>\n",
       "    </tr>\n",
       "    <tr>\n",
       "      <th>52934</th>\n",
       "      <td>J Vineyards &amp; Winery NV Brut Rosé Sparkling (R...</td>\n",
       "      <td>US</td>\n",
       "      <td>Sparkling Blend</td>\n",
       "      <td>J Vineyards &amp; Winery</td>\n",
       "      <td>6.0</td>\n",
       "      <td>87.666667</td>\n",
       "    </tr>\n",
       "    <tr>\n",
       "      <th>57751</th>\n",
       "      <td>Korbel NV Sweet Rosé Sparkling (California)</td>\n",
       "      <td>US</td>\n",
       "      <td>Sparkling Blend</td>\n",
       "      <td>Korbel</td>\n",
       "      <td>6.0</td>\n",
       "      <td>86.000000</td>\n",
       "    </tr>\n",
       "    <tr>\n",
       "      <th>72168</th>\n",
       "      <td>Mumm Napa NV Brut Prestige Sparkling (Napa Val...</td>\n",
       "      <td>US</td>\n",
       "      <td>Sparkling Blend</td>\n",
       "      <td>Mumm Napa</td>\n",
       "      <td>6.0</td>\n",
       "      <td>88.333333</td>\n",
       "    </tr>\n",
       "    <tr>\n",
       "      <th>57736</th>\n",
       "      <td>Korbel NV Blanc de Noirs Sparkling (California)</td>\n",
       "      <td>US</td>\n",
       "      <td>Sparkling Blend</td>\n",
       "      <td>Korbel</td>\n",
       "      <td>5.0</td>\n",
       "      <td>86.200000</td>\n",
       "    </tr>\n",
       "    <tr>\n",
       "      <th>44607</th>\n",
       "      <td>Freixenet NV Cordon Negro Brut Sparkling (Cava)</td>\n",
       "      <td>Spain</td>\n",
       "      <td>Sparkling Blend</td>\n",
       "      <td>Freixenet</td>\n",
       "      <td>5.0</td>\n",
       "      <td>86.400000</td>\n",
       "    </tr>\n",
       "    <tr>\n",
       "      <th>49881</th>\n",
       "      <td>Henri Abele NV Brut  (Champagne)</td>\n",
       "      <td>France</td>\n",
       "      <td>Champagne Blend</td>\n",
       "      <td>Henri Abele</td>\n",
       "      <td>5.0</td>\n",
       "      <td>88.400000</td>\n",
       "    </tr>\n",
       "    <tr>\n",
       "      <th>44610</th>\n",
       "      <td>Freixenet NV Cordon Negro Extra Dry Sparkling ...</td>\n",
       "      <td>Spain</td>\n",
       "      <td>Sparkling Blend</td>\n",
       "      <td>Freixenet</td>\n",
       "      <td>5.0</td>\n",
       "      <td>85.600000</td>\n",
       "    </tr>\n",
       "    <tr>\n",
       "      <th>19573</th>\n",
       "      <td>Chandon NV Rosé Sparkling (California)</td>\n",
       "      <td>US</td>\n",
       "      <td>Sparkling Blend</td>\n",
       "      <td>Chandon</td>\n",
       "      <td>5.0</td>\n",
       "      <td>87.400000</td>\n",
       "    </tr>\n",
       "    <tr>\n",
       "      <th>12347</th>\n",
       "      <td>Breathless NV Brut Sparkling (North Coast)</td>\n",
       "      <td>US</td>\n",
       "      <td>Sparkling Blend</td>\n",
       "      <td>Breathless</td>\n",
       "      <td>5.0</td>\n",
       "      <td>88.600000</td>\n",
       "    </tr>\n",
       "    <tr>\n",
       "      <th>90166</th>\n",
       "      <td>Segura Viudas NV Reserva Heredad Sparkling (Cava)</td>\n",
       "      <td>Spain</td>\n",
       "      <td>Sparkling Blend</td>\n",
       "      <td>Segura Viudas</td>\n",
       "      <td>5.0</td>\n",
       "      <td>87.200000</td>\n",
       "    </tr>\n",
       "    <tr>\n",
       "      <th>78914</th>\n",
       "      <td>Pierre Sparr NV Brut Réserve Sparkling (Créman...</td>\n",
       "      <td>France</td>\n",
       "      <td>Sparkling Blend</td>\n",
       "      <td>Pierre Sparr</td>\n",
       "      <td>5.0</td>\n",
       "      <td>86.400000</td>\n",
       "    </tr>\n",
       "    <tr>\n",
       "      <th>72175</th>\n",
       "      <td>Mumm Napa NV Cuvée M Sparkling (Napa Valley)</td>\n",
       "      <td>US</td>\n",
       "      <td>Sparkling Blend</td>\n",
       "      <td>Mumm Napa</td>\n",
       "      <td>5.0</td>\n",
       "      <td>88.000000</td>\n",
       "    </tr>\n",
       "    <tr>\n",
       "      <th>53065</th>\n",
       "      <td>J. Dumangin Fils NV Le Rosé Premier Cru Brut  ...</td>\n",
       "      <td>France</td>\n",
       "      <td>Champagne Blend</td>\n",
       "      <td>J. Dumangin Fils</td>\n",
       "      <td>5.0</td>\n",
       "      <td>88.600000</td>\n",
       "    </tr>\n",
       "  </tbody>\n",
       "</table>\n",
       "</div>"
      ],
      "text/plain": [
       "                                                   title country  \\\n",
       "46986  Gloria Ferrer NV Sonoma Brut Sparkling (Sonoma...      US   \n",
       "57741              Korbel NV Brut Sparkling (California)      US   \n",
       "90163        Segura Viudas NV Extra Dry Sparkling (Cava)   Spain   \n",
       "46982  Gloria Ferrer NV Blanc de Noirs Sparkling (Car...      US   \n",
       "90158  Segura Viudas NV Aria Estate Extra Dry Sparkli...   Spain   \n",
       "86918                  Ruinart NV Brut Rosé  (Champagne)  France   \n",
       "11094                Boizel NV Brut Réserve  (Champagne)  France   \n",
       "52934  J Vineyards & Winery NV Brut Rosé Sparkling (R...      US   \n",
       "57751        Korbel NV Sweet Rosé Sparkling (California)      US   \n",
       "72168  Mumm Napa NV Brut Prestige Sparkling (Napa Val...      US   \n",
       "57736    Korbel NV Blanc de Noirs Sparkling (California)      US   \n",
       "44607    Freixenet NV Cordon Negro Brut Sparkling (Cava)   Spain   \n",
       "49881                   Henri Abele NV Brut  (Champagne)  France   \n",
       "44610  Freixenet NV Cordon Negro Extra Dry Sparkling ...   Spain   \n",
       "19573             Chandon NV Rosé Sparkling (California)      US   \n",
       "12347         Breathless NV Brut Sparkling (North Coast)      US   \n",
       "90166  Segura Viudas NV Reserva Heredad Sparkling (Cava)   Spain   \n",
       "78914  Pierre Sparr NV Brut Réserve Sparkling (Créman...  France   \n",
       "72175       Mumm Napa NV Cuvée M Sparkling (Napa Valley)      US   \n",
       "53065  J. Dumangin Fils NV Le Rosé Premier Cru Brut  ...  France   \n",
       "\n",
       "               variety                winery  count       mean  \n",
       "46986  Sparkling Blend         Gloria Ferrer   11.0  89.000000  \n",
       "57741  Sparkling Blend                Korbel    9.0  86.888889  \n",
       "90163  Sparkling Blend         Segura Viudas    8.0  85.625000  \n",
       "46982  Sparkling Blend         Gloria Ferrer    7.0  88.142857  \n",
       "90158  Sparkling Blend         Segura Viudas    7.0  84.142857  \n",
       "86918  Champagne Blend               Ruinart    7.0  89.714286  \n",
       "11094  Champagne Blend                Boizel    6.0  88.666667  \n",
       "52934  Sparkling Blend  J Vineyards & Winery    6.0  87.666667  \n",
       "57751  Sparkling Blend                Korbel    6.0  86.000000  \n",
       "72168  Sparkling Blend             Mumm Napa    6.0  88.333333  \n",
       "57736  Sparkling Blend                Korbel    5.0  86.200000  \n",
       "44607  Sparkling Blend             Freixenet    5.0  86.400000  \n",
       "49881  Champagne Blend           Henri Abele    5.0  88.400000  \n",
       "44610  Sparkling Blend             Freixenet    5.0  85.600000  \n",
       "19573  Sparkling Blend               Chandon    5.0  87.400000  \n",
       "12347  Sparkling Blend            Breathless    5.0  88.600000  \n",
       "90166  Sparkling Blend         Segura Viudas    5.0  87.200000  \n",
       "78914  Sparkling Blend          Pierre Sparr    5.0  86.400000  \n",
       "72175  Sparkling Blend             Mumm Napa    5.0  88.000000  \n",
       "53065  Champagne Blend      J. Dumangin Fils    5.0  88.600000  "
      ]
     },
     "execution_count": 25,
     "metadata": {},
     "output_type": "execute_result"
    }
   ],
   "source": [
    "data_pivot.sort_values(by=\"count\",ascending=False).head(20)"
   ]
  },
  {
   "cell_type": "markdown",
   "metadata": {
    "id": "QB2YVMO4Yrc3"
   },
   "source": [
    "<img src=\"https://raw.githubusercontent.com/sargsyanmariam/Thesis_Recommender_Systems/main/Weighted%20Rating.PNG\"/>"
   ]
  },
  {
   "cell_type": "code",
   "execution_count": 26,
   "metadata": {
    "colab": {
     "base_uri": "https://localhost:8080/"
    },
    "id": "Pz9ez7M9Yrc4",
    "outputId": "82fa0b18-cd27-4e7c-c110-b0833194c372"
   },
   "outputs": [
    {
     "name": "stdout",
     "output_type": "stream",
     "text": [
      "C = 88.41622914609874\n",
      "m = 2.0\n"
     ]
    }
   ],
   "source": [
    "#defining the parameters in the formula above\n",
    "v=data_pivot[\"count\"]\n",
    "R=data_pivot[\"mean\"]\n",
    "C=data_pivot[\"mean\"].mean()\n",
    "m = data_pivot['count'].quantile(0.95)\n",
    "print(\"C =\",C)\n",
    "print(\"m =\",m)"
   ]
  },
  {
   "cell_type": "markdown",
   "metadata": {
    "id": "Thbe9n1nMXh3"
   },
   "source": [
    "##### **Recommendation Engine 1**"
   ]
  },
  {
   "cell_type": "code",
   "execution_count": 27,
   "metadata": {
    "id": "VTrPbh7YYrc4"
   },
   "outputs": [],
   "source": [
    "#defining the function of weighted ratings according to IMDb formula above\n",
    "def weighted_rating(i, m=m, C=C):\n",
    "    v = i['count']\n",
    "    R = i['mean']\n",
    "    # Compute the weighted score\n",
    "    return (v/(v+m) * R) + (m/(m+v) * C)"
   ]
  },
  {
   "cell_type": "code",
   "execution_count": 28,
   "metadata": {
    "colab": {
     "base_uri": "https://localhost:8080/",
     "height": 195
    },
    "id": "r9DwdF-6Yrc4",
    "outputId": "fc347faa-0e13-4550-b3d4-80f2a5c65c28"
   },
   "outputs": [
    {
     "data": {
      "text/html": [
       "<div>\n",
       "<style scoped>\n",
       "    .dataframe tbody tr th:only-of-type {\n",
       "        vertical-align: middle;\n",
       "    }\n",
       "\n",
       "    .dataframe tbody tr th {\n",
       "        vertical-align: top;\n",
       "    }\n",
       "\n",
       "    .dataframe thead th {\n",
       "        text-align: right;\n",
       "    }\n",
       "</style>\n",
       "<table border=\"1\" class=\"dataframe\">\n",
       "  <thead>\n",
       "    <tr style=\"text-align: right;\">\n",
       "      <th></th>\n",
       "      <th>title</th>\n",
       "      <th>country</th>\n",
       "      <th>variety</th>\n",
       "      <th>winery</th>\n",
       "      <th>count</th>\n",
       "      <th>mean</th>\n",
       "      <th>rating</th>\n",
       "    </tr>\n",
       "  </thead>\n",
       "  <tbody>\n",
       "    <tr>\n",
       "      <th>0</th>\n",
       "      <td>1+1=3 2008 Rosé Cabernet Sauvignon (Penedès)</td>\n",
       "      <td>Spain</td>\n",
       "      <td>Cabernet Sauvignon</td>\n",
       "      <td>1+1=3</td>\n",
       "      <td>1.0</td>\n",
       "      <td>82.0</td>\n",
       "      <td>86.277486</td>\n",
       "    </tr>\n",
       "    <tr>\n",
       "      <th>1</th>\n",
       "      <td>1+1=3 NV Brut Sparkling (Cava)</td>\n",
       "      <td>Spain</td>\n",
       "      <td>Sparkling Blend</td>\n",
       "      <td>1+1=3</td>\n",
       "      <td>2.0</td>\n",
       "      <td>87.0</td>\n",
       "      <td>87.708115</td>\n",
       "    </tr>\n",
       "    <tr>\n",
       "      <th>2</th>\n",
       "      <td>1+1=3 NV Cygnus Brut Nature Reserva Made With ...</td>\n",
       "      <td>Spain</td>\n",
       "      <td>Sparkling Blend</td>\n",
       "      <td>1+1=3</td>\n",
       "      <td>2.0</td>\n",
       "      <td>89.0</td>\n",
       "      <td>88.708115</td>\n",
       "    </tr>\n",
       "    <tr>\n",
       "      <th>3</th>\n",
       "      <td>1+1=3 NV Rosé Sparkling (Cava)</td>\n",
       "      <td>Spain</td>\n",
       "      <td>Sparkling Blend</td>\n",
       "      <td>1+1=3</td>\n",
       "      <td>1.0</td>\n",
       "      <td>86.0</td>\n",
       "      <td>87.610819</td>\n",
       "    </tr>\n",
       "    <tr>\n",
       "      <th>4</th>\n",
       "      <td>10 Knots 2006 Beachcomber White (Paso Robles)</td>\n",
       "      <td>US</td>\n",
       "      <td>Rhône-style White Blend</td>\n",
       "      <td>10 Knots</td>\n",
       "      <td>1.0</td>\n",
       "      <td>83.0</td>\n",
       "      <td>86.610819</td>\n",
       "    </tr>\n",
       "  </tbody>\n",
       "</table>\n",
       "</div>"
      ],
      "text/plain": [
       "                                               title country  \\\n",
       "0       1+1=3 2008 Rosé Cabernet Sauvignon (Penedès)   Spain   \n",
       "1                     1+1=3 NV Brut Sparkling (Cava)   Spain   \n",
       "2  1+1=3 NV Cygnus Brut Nature Reserva Made With ...   Spain   \n",
       "3                     1+1=3 NV Rosé Sparkling (Cava)   Spain   \n",
       "4      10 Knots 2006 Beachcomber White (Paso Robles)      US   \n",
       "\n",
       "                   variety    winery  count  mean     rating  \n",
       "0       Cabernet Sauvignon     1+1=3    1.0  82.0  86.277486  \n",
       "1          Sparkling Blend     1+1=3    2.0  87.0  87.708115  \n",
       "2          Sparkling Blend     1+1=3    2.0  89.0  88.708115  \n",
       "3          Sparkling Blend     1+1=3    1.0  86.0  87.610819  \n",
       "4  Rhône-style White Blend  10 Knots    1.0  83.0  86.610819  "
      ]
     },
     "execution_count": 28,
     "metadata": {},
     "output_type": "execute_result"
    }
   ],
   "source": [
    "# calculating the rating of wines by using the weighted_rating function defined above\n",
    "data_pivot['rating'] = data_pivot.apply(weighted_rating, axis=1)\n",
    "data_pivot.head()"
   ]
  },
  {
   "cell_type": "code",
   "execution_count": 29,
   "metadata": {
    "colab": {
     "base_uri": "https://localhost:8080/",
     "height": 639
    },
    "id": "ZJBxnlImYrc5",
    "outputId": "4ff8b7e8-d155-4f00-8702-91f372f1a8b7"
   },
   "outputs": [
    {
     "data": {
      "text/html": [
       "<div>\n",
       "<style scoped>\n",
       "    .dataframe tbody tr th:only-of-type {\n",
       "        vertical-align: middle;\n",
       "    }\n",
       "\n",
       "    .dataframe tbody tr th {\n",
       "        vertical-align: top;\n",
       "    }\n",
       "\n",
       "    .dataframe thead th {\n",
       "        text-align: right;\n",
       "    }\n",
       "</style>\n",
       "<table border=\"1\" class=\"dataframe\">\n",
       "  <thead>\n",
       "    <tr style=\"text-align: right;\">\n",
       "      <th></th>\n",
       "      <th>index</th>\n",
       "      <th>title</th>\n",
       "      <th>country</th>\n",
       "      <th>variety</th>\n",
       "      <th>winery</th>\n",
       "      <th>rating</th>\n",
       "    </tr>\n",
       "  </thead>\n",
       "  <tbody>\n",
       "    <tr>\n",
       "      <th>0</th>\n",
       "      <td>19486</td>\n",
       "      <td>Chambers Rosewood Vineyards NV Rare Muscadelle (Rutherglen)</td>\n",
       "      <td>Australia</td>\n",
       "      <td>Muscadelle</td>\n",
       "      <td>Chambers Rosewood Vineyards</td>\n",
       "      <td>93.458115</td>\n",
       "    </tr>\n",
       "    <tr>\n",
       "      <th>1</th>\n",
       "      <td>19487</td>\n",
       "      <td>Chambers Rosewood Vineyards NV Rare Muscat (Rutherglen)</td>\n",
       "      <td>Australia</td>\n",
       "      <td>Muscat</td>\n",
       "      <td>Chambers Rosewood Vineyards</td>\n",
       "      <td>92.958115</td>\n",
       "    </tr>\n",
       "    <tr>\n",
       "      <th>2</th>\n",
       "      <td>38946</td>\n",
       "      <td>Elvio Cogno 2013 Ravera  (Barolo)</td>\n",
       "      <td>Italy</td>\n",
       "      <td>Nebbiolo</td>\n",
       "      <td>Elvio Cogno</td>\n",
       "      <td>92.708115</td>\n",
       "    </tr>\n",
       "    <tr>\n",
       "      <th>3</th>\n",
       "      <td>57899</td>\n",
       "      <td>Krug 2002 Brut  (Champagne)</td>\n",
       "      <td>France</td>\n",
       "      <td>Champagne Blend</td>\n",
       "      <td>Krug</td>\n",
       "      <td>92.277486</td>\n",
       "    </tr>\n",
       "    <tr>\n",
       "      <th>4</th>\n",
       "      <td>16495</td>\n",
       "      <td>Casa Ferreirinha 2008 Barca-Velha Red (Douro)</td>\n",
       "      <td>Portugal</td>\n",
       "      <td>Portuguese Red</td>\n",
       "      <td>Casa Ferreirinha</td>\n",
       "      <td>92.277486</td>\n",
       "    </tr>\n",
       "    <tr>\n",
       "      <th>5</th>\n",
       "      <td>18832</td>\n",
       "      <td>Cayuse 2008 Bionic Frog Syrah (Walla Walla Valley (WA))</td>\n",
       "      <td>US</td>\n",
       "      <td>Syrah</td>\n",
       "      <td>Cayuse</td>\n",
       "      <td>92.277486</td>\n",
       "    </tr>\n",
       "    <tr>\n",
       "      <th>6</th>\n",
       "      <td>87683</td>\n",
       "      <td>Salon 2006 Le Mesnil Blanc de Blancs Brut Chardonnay (Champagne)</td>\n",
       "      <td>France</td>\n",
       "      <td>Chardonnay</td>\n",
       "      <td>Salon</td>\n",
       "      <td>92.277486</td>\n",
       "    </tr>\n",
       "    <tr>\n",
       "      <th>7</th>\n",
       "      <td>22361</td>\n",
       "      <td>Château Lafite Rothschild 2010  Pauillac</td>\n",
       "      <td>France</td>\n",
       "      <td>Bordeaux-style Red Blend</td>\n",
       "      <td>Château Lafite Rothschild</td>\n",
       "      <td>92.277486</td>\n",
       "    </tr>\n",
       "    <tr>\n",
       "      <th>8</th>\n",
       "      <td>63809</td>\n",
       "      <td>Louis Roederer 2008 Cristal Vintage Brut  (Champagne)</td>\n",
       "      <td>France</td>\n",
       "      <td>Champagne Blend</td>\n",
       "      <td>Louis Roederer</td>\n",
       "      <td>92.277486</td>\n",
       "    </tr>\n",
       "    <tr>\n",
       "      <th>9</th>\n",
       "      <td>21425</td>\n",
       "      <td>Château Cheval Blanc 2010  Saint-Émilion</td>\n",
       "      <td>France</td>\n",
       "      <td>Bordeaux-style Red Blend</td>\n",
       "      <td>Château Cheval Blanc</td>\n",
       "      <td>92.277486</td>\n",
       "    </tr>\n",
       "    <tr>\n",
       "      <th>10</th>\n",
       "      <td>19880</td>\n",
       "      <td>Charles Smith 2006 Royal City Syrah (Columbia Valley (WA))</td>\n",
       "      <td>US</td>\n",
       "      <td>Syrah</td>\n",
       "      <td>Charles Smith</td>\n",
       "      <td>92.277486</td>\n",
       "    </tr>\n",
       "    <tr>\n",
       "      <th>11</th>\n",
       "      <td>103489</td>\n",
       "      <td>Verité 2007 La Muse Red (Sonoma County)</td>\n",
       "      <td>US</td>\n",
       "      <td>Bordeaux-style Red Blend</td>\n",
       "      <td>Verité</td>\n",
       "      <td>92.277486</td>\n",
       "    </tr>\n",
       "    <tr>\n",
       "      <th>12</th>\n",
       "      <td>97342</td>\n",
       "      <td>Tenuta dell'Ornellaia 2007 Masseto Merlot (Toscana)</td>\n",
       "      <td>Italy</td>\n",
       "      <td>Merlot</td>\n",
       "      <td>Tenuta dell'Ornellaia</td>\n",
       "      <td>92.277486</td>\n",
       "    </tr>\n",
       "    <tr>\n",
       "      <th>13</th>\n",
       "      <td>22058</td>\n",
       "      <td>Château Haut-Brion 2014  Pessac-Léognan</td>\n",
       "      <td>France</td>\n",
       "      <td>Bordeaux-style White Blend</td>\n",
       "      <td>Château Haut-Brion</td>\n",
       "      <td>92.277486</td>\n",
       "    </tr>\n",
       "    <tr>\n",
       "      <th>14</th>\n",
       "      <td>15867</td>\n",
       "      <td>Cardinale 2006 Cabernet Sauvignon (Napa Valley)</td>\n",
       "      <td>US</td>\n",
       "      <td>Cabernet Sauvignon</td>\n",
       "      <td>Cardinale</td>\n",
       "      <td>92.277486</td>\n",
       "    </tr>\n",
       "    <tr>\n",
       "      <th>15</th>\n",
       "      <td>5809</td>\n",
       "      <td>Avignonesi 1995 Occhio di Pernice  (Vin Santo di Montepulciano)</td>\n",
       "      <td>Italy</td>\n",
       "      <td>Prugnolo Gentile</td>\n",
       "      <td>Avignonesi</td>\n",
       "      <td>92.277486</td>\n",
       "    </tr>\n",
       "    <tr>\n",
       "      <th>16</th>\n",
       "      <td>17019</td>\n",
       "      <td>Casanova di Neri 2007 Cerretalto  (Brunello di Montalcino)</td>\n",
       "      <td>Italy</td>\n",
       "      <td>Sangiovese Grosso</td>\n",
       "      <td>Casanova di Neri</td>\n",
       "      <td>92.277486</td>\n",
       "    </tr>\n",
       "    <tr>\n",
       "      <th>17</th>\n",
       "      <td>82351</td>\n",
       "      <td>Quinta do Noval 2011 Nacional Vintage  (Port)</td>\n",
       "      <td>Portugal</td>\n",
       "      <td>Port</td>\n",
       "      <td>Quinta do Noval</td>\n",
       "      <td>92.277486</td>\n",
       "    </tr>\n",
       "    <tr>\n",
       "      <th>18</th>\n",
       "      <td>22803</td>\n",
       "      <td>Château Léoville Las Cases 2010  Saint-Julien</td>\n",
       "      <td>France</td>\n",
       "      <td>Bordeaux-style Red Blend</td>\n",
       "      <td>Château Léoville Las Cases</td>\n",
       "      <td>92.277486</td>\n",
       "    </tr>\n",
       "    <tr>\n",
       "      <th>19</th>\n",
       "      <td>9206</td>\n",
       "      <td>Biondi Santi 2010 Riserva  (Brunello di Montalcino)</td>\n",
       "      <td>Italy</td>\n",
       "      <td>Sangiovese</td>\n",
       "      <td>Biondi Santi</td>\n",
       "      <td>92.277486</td>\n",
       "    </tr>\n",
       "  </tbody>\n",
       "</table>\n",
       "</div>"
      ],
      "text/plain": [
       "     index                                                             title  \\\n",
       "0    19486       Chambers Rosewood Vineyards NV Rare Muscadelle (Rutherglen)   \n",
       "1    19487           Chambers Rosewood Vineyards NV Rare Muscat (Rutherglen)   \n",
       "2    38946                                 Elvio Cogno 2013 Ravera  (Barolo)   \n",
       "3    57899                                       Krug 2002 Brut  (Champagne)   \n",
       "4    16495                     Casa Ferreirinha 2008 Barca-Velha Red (Douro)   \n",
       "5    18832           Cayuse 2008 Bionic Frog Syrah (Walla Walla Valley (WA))   \n",
       "6    87683  Salon 2006 Le Mesnil Blanc de Blancs Brut Chardonnay (Champagne)   \n",
       "7    22361                          Château Lafite Rothschild 2010  Pauillac   \n",
       "8    63809             Louis Roederer 2008 Cristal Vintage Brut  (Champagne)   \n",
       "9    21425                          Château Cheval Blanc 2010  Saint-Émilion   \n",
       "10   19880        Charles Smith 2006 Royal City Syrah (Columbia Valley (WA))   \n",
       "11  103489                           Verité 2007 La Muse Red (Sonoma County)   \n",
       "12   97342               Tenuta dell'Ornellaia 2007 Masseto Merlot (Toscana)   \n",
       "13   22058                           Château Haut-Brion 2014  Pessac-Léognan   \n",
       "14   15867                   Cardinale 2006 Cabernet Sauvignon (Napa Valley)   \n",
       "15    5809   Avignonesi 1995 Occhio di Pernice  (Vin Santo di Montepulciano)   \n",
       "16   17019        Casanova di Neri 2007 Cerretalto  (Brunello di Montalcino)   \n",
       "17   82351                     Quinta do Noval 2011 Nacional Vintage  (Port)   \n",
       "18   22803                     Château Léoville Las Cases 2010  Saint-Julien   \n",
       "19    9206               Biondi Santi 2010 Riserva  (Brunello di Montalcino)   \n",
       "\n",
       "      country                     variety                       winery  \\\n",
       "0   Australia                  Muscadelle  Chambers Rosewood Vineyards   \n",
       "1   Australia                      Muscat  Chambers Rosewood Vineyards   \n",
       "2       Italy                    Nebbiolo                  Elvio Cogno   \n",
       "3      France             Champagne Blend                         Krug   \n",
       "4    Portugal              Portuguese Red             Casa Ferreirinha   \n",
       "5          US                       Syrah                       Cayuse   \n",
       "6      France                  Chardonnay                        Salon   \n",
       "7      France    Bordeaux-style Red Blend    Château Lafite Rothschild   \n",
       "8      France             Champagne Blend               Louis Roederer   \n",
       "9      France    Bordeaux-style Red Blend         Château Cheval Blanc   \n",
       "10         US                       Syrah                Charles Smith   \n",
       "11         US    Bordeaux-style Red Blend                       Verité   \n",
       "12      Italy                      Merlot        Tenuta dell'Ornellaia   \n",
       "13     France  Bordeaux-style White Blend           Château Haut-Brion   \n",
       "14         US          Cabernet Sauvignon                    Cardinale   \n",
       "15      Italy            Prugnolo Gentile                   Avignonesi   \n",
       "16      Italy           Sangiovese Grosso             Casanova di Neri   \n",
       "17   Portugal                        Port              Quinta do Noval   \n",
       "18     France    Bordeaux-style Red Blend   Château Léoville Las Cases   \n",
       "19      Italy                  Sangiovese                 Biondi Santi   \n",
       "\n",
       "       rating  \n",
       "0   93.458115  \n",
       "1   92.958115  \n",
       "2   92.708115  \n",
       "3   92.277486  \n",
       "4   92.277486  \n",
       "5   92.277486  \n",
       "6   92.277486  \n",
       "7   92.277486  \n",
       "8   92.277486  \n",
       "9   92.277486  \n",
       "10  92.277486  \n",
       "11  92.277486  \n",
       "12  92.277486  \n",
       "13  92.277486  \n",
       "14  92.277486  \n",
       "15  92.277486  \n",
       "16  92.277486  \n",
       "17  92.277486  \n",
       "18  92.277486  \n",
       "19  92.277486  "
      ]
     },
     "execution_count": 29,
     "metadata": {},
     "output_type": "execute_result"
    }
   ],
   "source": [
    "pd.set_option('display.max_colwidth', None)\n",
    "\n",
    "#Sorting wines in descending order of their calculated weighted ratings\n",
    "data_pivot = data_pivot.sort_values('rating', ascending=False).head(250)\n",
    "\n",
    "#Printing the top 20 wines from 250 top wines\n",
    "data_pivot[['title','country','variety','winery','rating']].head(20).reset_index()"
   ]
  },
  {
   "cell_type": "markdown",
   "metadata": {
    "id": "-hp33DkyYrc5"
   },
   "source": [
    "# Content-based Recommender Engine"
   ]
  },
  {
   "cell_type": "markdown",
   "metadata": {
    "id": "MY1OQl8BYrc6"
   },
   "source": [
    "## **Wine description-based recommender system**"
   ]
  },
  {
   "cell_type": "code",
   "execution_count": 30,
   "metadata": {
    "id": "I2TEUQckYrc6"
   },
   "outputs": [],
   "source": [
    "#pivoting original data to the format that will be used in the models\n",
    "data_cont=pd.pivot_table(data,index=['title','country','variety','winery','description','designation']\n",
    "                                ,values=['points'],aggfunc=('mean','count'))\n",
    "\n",
    "data_cont.columns=data_cont.columns.droplevel(0)\n",
    "data_cont.columns.name=None\n",
    "data_cont = data_cont.reset_index()"
   ]
  },
  {
   "cell_type": "code",
   "execution_count": 31,
   "metadata": {
    "colab": {
     "base_uri": "https://localhost:8080/"
    },
    "id": "rpwNk-3sYrc6",
    "outputId": "2baee0b2-2131-4231-bb03-f6a44e76bb65"
   },
   "outputs": [
    {
     "name": "stdout",
     "output_type": "stream",
     "text": [
      "The final shape of data is  (111537, 8)\n"
     ]
    }
   ],
   "source": [
    "print(\"The final shape of data is \",data_cont.shape)"
   ]
  },
  {
   "cell_type": "code",
   "execution_count": 32,
   "metadata": {
    "id": "Y1EFraEsYrc6"
   },
   "outputs": [],
   "source": [
    "# creating text from all descriptions\n",
    "text = \" \".join(i for i in data_cont.description)\n",
    "\n",
    "# Generating a word cloud\n",
    "wordcloud = WordCloud(background_color=\"white\",max_font_size=50, max_words=800).generate(text)\n"
   ]
  },
  {
   "cell_type": "code",
   "execution_count": 33,
   "metadata": {
    "colab": {
     "base_uri": "https://localhost:8080/",
     "height": 449
    },
    "id": "KIwq9ScBXRlQ",
    "outputId": "6aab78f1-07c0-490c-c943-8d353c3c9e48"
   },
   "outputs": [
    {
     "data": {
      "image/png": "[encoded data removed]",
      "text/plain": [
       "<Figure size 1080x1080 with 1 Axes>"
      ]
     },
     "metadata": {},
     "output_type": "display_data"
    }
   ],
   "source": [
    "plt.figure(figsize=(15,15))\n",
    "plt.imshow(wordcloud, interpolation='bilinear')\n",
    "plt.axis(\"off\")\n",
    "plt.show()"
   ]
  },
  {
   "cell_type": "markdown",
   "metadata": {
    "id": "3ADFCTJENJES"
   },
   "source": [
    "### TF-IDF Vectorizer"
   ]
  },
  {
   "cell_type": "markdown",
   "metadata": {
    "id": "-0V1AnEBp5Dl"
   },
   "source": [
    "<img src=\"https://raw.githubusercontent.com/sargsyanmariam/Thesis_Recommender_Systems/main/Weighted%20Rating.PNG\"/>"
   ]
  },
  {
   "cell_type": "code",
   "execution_count": 34,
   "metadata": {
    "colab": {
     "base_uri": "https://localhost:8080/"
    },
    "id": "ojicaCHBYrc7",
    "outputId": "c035250d-6649-48a0-bbcb-487299b6b252"
   },
   "outputs": [
    {
     "data": {
      "text/plain": [
       "(111537, 29957)"
      ]
     },
     "execution_count": 34,
     "metadata": {},
     "output_type": "execute_result"
    }
   ],
   "source": [
    "#removing stop words from the vector of text\n",
    "tf_idf = TfidfVectorizer(stop_words='english')\n",
    "\n",
    "#Constructing TF-IDF matrix\n",
    "tfidf_matrix = tf_idf.fit_transform(data_cont['description'])\n",
    "\n",
    "tfidf_matrix.shape"
   ]
  },
  {
   "cell_type": "code",
   "execution_count": 35,
   "metadata": {
    "colab": {
     "base_uri": "https://localhost:8080/"
    },
    "id": "RGUi3TnbGUn7",
    "outputId": "16094da7-7443-4deb-c717-1c868dcffb60"
   },
   "outputs": [
    {
     "data": {
      "text/plain": [
       "scipy.sparse.csr.csr_matrix"
      ]
     },
     "execution_count": 35,
     "metadata": {},
     "output_type": "execute_result"
    }
   ],
   "source": [
    "type(tfidf_matrix)"
   ]
  },
  {
   "cell_type": "code",
   "execution_count": 36,
   "metadata": {
    "colab": {
     "base_uri": "https://localhost:8080/"
    },
    "id": "HrlVfOCQOdwS",
    "outputId": "46fe833a-60e2-4eb0-c866-70daba5324c5"
   },
   "outputs": [
    {
     "name": "stdout",
     "output_type": "stream",
     "text": [
      "The size of training data is (11153, 8)\n",
      "The size of test data is (100384, 8)\n"
     ]
    }
   ],
   "source": [
    "#since the shape of the matrix is very big,the model will require a huge memory to run \n",
    "#therefore the data was devided into train and test parts, train size is 10%\n",
    "#full implementation is not in the scope of this research\n",
    "X_train, X_test = train_test_split(data_cont, train_size = 0.1,random_state=11)\n",
    "\n",
    "X_train.reset_index(drop=True, inplace=True)\n",
    "X_test.reset_index(drop=True, inplace=True)\n",
    "\n",
    "print(\"The size of training data is {}\".format(X_train.shape))\n",
    "print(\"The size of test data is {}\".format(X_test.shape))"
   ]
  },
  {
   "cell_type": "code",
   "execution_count": 37,
   "metadata": {
    "colab": {
     "base_uri": "https://localhost:8080/"
    },
    "id": "27SkdxhoQeQ3",
    "outputId": "13070028-79aa-42fa-ef07-a33c6cc59356"
   },
   "outputs": [
    {
     "data": {
      "text/plain": [
       "(11153, 12091)"
      ]
     },
     "execution_count": 37,
     "metadata": {},
     "output_type": "execute_result"
    }
   ],
   "source": [
    "#Constructing final TF-IDF matrix\n",
    "from sklearn.feature_extraction import text\n",
    "\n",
    "#creating stop words\n",
    "my_stop_words = text.ENGLISH_STOP_WORDS.union([\"drink\", \"now\", \"wine\", \"flavor\", \"flavors\",\"aromas\"])\n",
    "\n",
    "#removing stop words from the vector of text\n",
    "tf_idf = TfidfVectorizer(analyzer='word', stop_words=my_stop_words, lowercase=True)\n",
    "\n",
    "#Constructing TF-IDF matrix\n",
    "tfidf_matrix_final = tf_idf.fit_transform(X_train['description'])\n",
    "\n",
    "tfidf_matrix_final.shape"
   ]
  },
  {
   "cell_type": "code",
   "execution_count": 38,
   "metadata": {
    "id": "sSvApMlesdT2"
   },
   "outputs": [],
   "source": [
    "cosine_simil = linear_kernel(tfidf_matrix_final, tfidf_matrix_final)"
   ]
  },
  {
   "cell_type": "code",
   "execution_count": 39,
   "metadata": {
    "id": "2Ig19SRDYrc8"
   },
   "outputs": [],
   "source": [
    "#Construct a reverse mapping of indices and wine titles, and if there are any duplicate titles drop them\n",
    "indices_final = pd.Series(X_train.index, index=X_train['title']).drop_duplicates()"
   ]
  },
  {
   "cell_type": "markdown",
   "metadata": {
    "id": "GBkBsVdr_0Bp"
   },
   "source": [
    "##### **Recommender Engine 2**"
   ]
  },
  {
   "cell_type": "code",
   "execution_count": 40,
   "metadata": {
    "id": "AzTshcxPgS7-"
   },
   "outputs": [],
   "source": [
    "# Defining a function that takes in wine title as input and gives recommendations \n",
    "def content_recommender(title, cosine_sim=cosine_simil, df=X_train, indices=indices_final):\n",
    "    # create the wine index that matches the title\n",
    "    title = str(input())\n",
    "    idx = indices_final[title]\n",
    "\n",
    "    # Get the pairwsie similarity scores of all wines with that wine\n",
    "    # And convert it into a list of tuples as described below\n",
    "    sim_scores = list(enumerate(cosine_simil[idx]))\n",
    "\n",
    "    # Sort  wines based on the cosine similarity scores\n",
    "    sim_scores = sorted(sim_scores, key=lambda x: x[1], reverse=True)\n",
    "\n",
    "    # Get the scores of the 6 most similar wines. Ignore the first wine.\n",
    "    sim_scores = sim_scores[1:10]\n",
    "\n",
    "    # Get the wine indices\n",
    "    wine_indices = [i[0] for i in sim_scores]\n",
    "\n",
    "    # Return the top 10 most similar wines\n",
    "    return df[['title','description','variety','country','designation','mean']].iloc[wine_indices]"
   ]
  },
  {
   "cell_type": "code",
   "execution_count": 41,
   "metadata": {
    "colab": {
     "base_uri": "https://localhost:8080/",
     "height": 110
    },
    "id": "0ygsDqrV7ktf",
    "outputId": "13ce3cbc-e147-49d4-9885-7fe71c464372"
   },
   "outputs": [
    {
     "data": {
      "text/html": [
       "<div>\n",
       "<style scoped>\n",
       "    .dataframe tbody tr th:only-of-type {\n",
       "        vertical-align: middle;\n",
       "    }\n",
       "\n",
       "    .dataframe tbody tr th {\n",
       "        vertical-align: top;\n",
       "    }\n",
       "\n",
       "    .dataframe thead th {\n",
       "        text-align: right;\n",
       "    }\n",
       "</style>\n",
       "<table border=\"1\" class=\"dataframe\">\n",
       "  <thead>\n",
       "    <tr style=\"text-align: right;\">\n",
       "      <th></th>\n",
       "      <th>title</th>\n",
       "      <th>description</th>\n",
       "      <th>variety</th>\n",
       "      <th>mean</th>\n",
       "    </tr>\n",
       "  </thead>\n",
       "  <tbody>\n",
       "    <tr>\n",
       "      <th>6081</th>\n",
       "      <td>Chime 2009 Pinot Noir (Sonoma County)</td>\n",
       "      <td>What a great Pinot, and look at that price. The wine is translucent in ruby hue, dry, silky in texture and crisp in acids, showing the textural hallmarks of a fine coastal bottling. The raspberry, cherry, cola and spice flavors are delicious and complex. A terrific value. Production was 1,100 cases.</td>\n",
       "      <td>Pinot Noir</td>\n",
       "      <td>91</td>\n",
       "    </tr>\n",
       "  </tbody>\n",
       "</table>\n",
       "</div>"
      ],
      "text/plain": [
       "                                      title  \\\n",
       "6081  Chime 2009 Pinot Noir (Sonoma County)   \n",
       "\n",
       "                                                                                                                                                                                                                                                                                                       description  \\\n",
       "6081  What a great Pinot, and look at that price. The wine is translucent in ruby hue, dry, silky in texture and crisp in acids, showing the textural hallmarks of a fine coastal bottling. The raspberry, cherry, cola and spice flavors are delicious and complex. A terrific value. Production was 1,100 cases.   \n",
       "\n",
       "         variety  mean  \n",
       "6081  Pinot Noir    91  "
      ]
     },
     "execution_count": 41,
     "metadata": {},
     "output_type": "execute_result"
    }
   ],
   "source": [
    "#selecting one of the wines \n",
    "X_train[X_train[\"title\"]=='Chime 2009 Pinot Noir (Sonoma County)'][['title','description','variety','mean']]"
   ]
  },
  {
   "cell_type": "code",
   "execution_count": 42,
   "metadata": {
    "colab": {
     "base_uri": "https://localhost:8080/",
     "height": 717
    },
    "id": "WC6RdFeTjUGa",
    "outputId": "55c5dd7d-01a6-4ac7-d18b-e0faa06d9867"
   },
   "outputs": [
    {
     "name": "stdout",
     "output_type": "stream",
     "text": [
      "Chime 2009 Pinot Noir (Sonoma County)\n"
     ]
    },
    {
     "data": {
      "text/html": [
       "<div>\n",
       "<style scoped>\n",
       "    .dataframe tbody tr th:only-of-type {\n",
       "        vertical-align: middle;\n",
       "    }\n",
       "\n",
       "    .dataframe tbody tr th {\n",
       "        vertical-align: top;\n",
       "    }\n",
       "\n",
       "    .dataframe thead th {\n",
       "        text-align: right;\n",
       "    }\n",
       "</style>\n",
       "<table border=\"1\" class=\"dataframe\">\n",
       "  <thead>\n",
       "    <tr style=\"text-align: right;\">\n",
       "      <th></th>\n",
       "      <th>title</th>\n",
       "      <th>description</th>\n",
       "      <th>variety</th>\n",
       "      <th>country</th>\n",
       "      <th>designation</th>\n",
       "      <th>mean</th>\n",
       "    </tr>\n",
       "  </thead>\n",
       "  <tbody>\n",
       "    <tr>\n",
       "      <th>2172</th>\n",
       "      <td>Cuvaison 2008 Pinot Noir (Carneros)</td>\n",
       "      <td>This winery's basic Pinot has had a mixed record over the years. The '08 is dry and silky, but not particularly interesting at this price. It has gentle cherry, raspberry, cola, spice and oak flavors, offset by crisp acids. Drink now.</td>\n",
       "      <td>Pinot Noir</td>\n",
       "      <td>US</td>\n",
       "      <td>Unknown</td>\n",
       "      <td>86</td>\n",
       "    </tr>\n",
       "    <tr>\n",
       "      <th>6205</th>\n",
       "      <td>Seaside 2014 Pinot Noir (Marlborough)</td>\n",
       "      <td>This is light in hue, even for Pinot Noir, but it offers attractive, bright cherry fruit backed by crisp acids. The tannins are supple, leaving the acids to define the structure. Drink it before the end of 2017.</td>\n",
       "      <td>Pinot Noir</td>\n",
       "      <td>New Zealand</td>\n",
       "      <td>Unknown</td>\n",
       "      <td>87</td>\n",
       "    </tr>\n",
       "    <tr>\n",
       "      <th>2778</th>\n",
       "      <td>Black Box 2009 Merlot (California)</td>\n",
       "      <td>Blended with a little Syrah, Petite Sirah and Sangiovese, this Merlot in a big box is clearly a terrific value. It's so lush and delicious in berries and spices, it's crazy that the price works out to $6.25 for a regular bottle. With production over 200,000 cases, it's a testament to the art of blending.</td>\n",
       "      <td>Merlot</td>\n",
       "      <td>US</td>\n",
       "      <td>Unknown</td>\n",
       "      <td>90</td>\n",
       "    </tr>\n",
       "    <tr>\n",
       "      <th>8362</th>\n",
       "      <td>Block Nine 2010 Caiden's Vineyards Pinot Noir (California)</td>\n",
       "      <td>Not bad for the price. It's thin and silky in mouthfeel and dry, with decent raspberry, cola and mint flavors.</td>\n",
       "      <td>Pinot Noir</td>\n",
       "      <td>US</td>\n",
       "      <td>Caiden's Vineyards</td>\n",
       "      <td>85</td>\n",
       "    </tr>\n",
       "    <tr>\n",
       "      <th>7372</th>\n",
       "      <td>Dancing Bear Cellars 2006 Shea Cuvée Pinot Noir (Mendocino)</td>\n",
       "      <td>Translucent in color, silky in the mouth, this Mendocino-grown Pinot shows ripe, forward flavors and crisp acidity. You'll find pie-filling cherries and rhubarb, with a cola and root beer soda finish.</td>\n",
       "      <td>Pinot Noir</td>\n",
       "      <td>US</td>\n",
       "      <td>Shea Cuvée</td>\n",
       "      <td>85</td>\n",
       "    </tr>\n",
       "    <tr>\n",
       "      <th>3140</th>\n",
       "      <td>Windsor Oaks 2007 Clone 777 Pinot Noir (Russian River Valley)</td>\n",
       "      <td>Showing red cherry, cola and spice flavors, this is very dry and silky, like a Russian River Pinot Noir should be. It's elegant, feeling smooth and clean on the palate. Drink now.</td>\n",
       "      <td>Pinot Noir</td>\n",
       "      <td>US</td>\n",
       "      <td>Clone 777</td>\n",
       "      <td>87</td>\n",
       "    </tr>\n",
       "    <tr>\n",
       "      <th>2431</th>\n",
       "      <td>Rodney Strong 2009 Chardonnay (Sonoma County)</td>\n",
       "      <td>Shows all the hallmarks of a fine Chard, except complexity. It's dry, creamy and smoky in oak and lees influences, with flavors of pineapples and peaches. Easy to find, with 250,000 cases produced.</td>\n",
       "      <td>Chardonnay</td>\n",
       "      <td>US</td>\n",
       "      <td>Unknown</td>\n",
       "      <td>86</td>\n",
       "    </tr>\n",
       "    <tr>\n",
       "      <th>5704</th>\n",
       "      <td>Ponzi 2010 Avellana Pinot Noir (Willamette Valley)</td>\n",
       "      <td>This was not an easy vintage in which to make wine with as much fruit and concentration as this bottling, but winemaker Luisa Ponzi has done it. Deep cherry fruit comes laced with cola and chocolate notes, filling the textural, detailed and full-bodied palate. It demonstrates terrific length and an elegant, balanced finish.</td>\n",
       "      <td>Pinot Noir</td>\n",
       "      <td>US</td>\n",
       "      <td>Avellana</td>\n",
       "      <td>93</td>\n",
       "    </tr>\n",
       "    <tr>\n",
       "      <th>670</th>\n",
       "      <td>Sandler 2010 Bien Nacido Vineyard Pinot Noir (Santa Maria Valley)</td>\n",
       "      <td>A big, rich, fruity, oaky Pinot Noir, offering waves of raspberry and cherry pie, currant, cola, baking spice and sandalwood flavors. Tastes delicious ripe, but finishes dry in a bracing swirl of acids and tannins. Drink now–2016.</td>\n",
       "      <td>Pinot Noir</td>\n",
       "      <td>US</td>\n",
       "      <td>Bien Nacido Vineyard</td>\n",
       "      <td>90</td>\n",
       "    </tr>\n",
       "  </tbody>\n",
       "</table>\n",
       "</div>"
      ],
      "text/plain": [
       "                                                                  title  \\\n",
       "2172                                Cuvaison 2008 Pinot Noir (Carneros)   \n",
       "6205                              Seaside 2014 Pinot Noir (Marlborough)   \n",
       "2778                                 Black Box 2009 Merlot (California)   \n",
       "8362         Block Nine 2010 Caiden's Vineyards Pinot Noir (California)   \n",
       "7372        Dancing Bear Cellars 2006 Shea Cuvée Pinot Noir (Mendocino)   \n",
       "3140      Windsor Oaks 2007 Clone 777 Pinot Noir (Russian River Valley)   \n",
       "2431                      Rodney Strong 2009 Chardonnay (Sonoma County)   \n",
       "5704                 Ponzi 2010 Avellana Pinot Noir (Willamette Valley)   \n",
       "670   Sandler 2010 Bien Nacido Vineyard Pinot Noir (Santa Maria Valley)   \n",
       "\n",
       "                                                                                                                                                                                                                                                                                                                                description  \\\n",
       "2172                                                                                             This winery's basic Pinot has had a mixed record over the years. The '08 is dry and silky, but not particularly interesting at this price. It has gentle cherry, raspberry, cola, spice and oak flavors, offset by crisp acids. Drink now.   \n",
       "6205                                                                                                                    This is light in hue, even for Pinot Noir, but it offers attractive, bright cherry fruit backed by crisp acids. The tannins are supple, leaving the acids to define the structure. Drink it before the end of 2017.   \n",
       "2778                      Blended with a little Syrah, Petite Sirah and Sangiovese, this Merlot in a big box is clearly a terrific value. It's so lush and delicious in berries and spices, it's crazy that the price works out to $6.25 for a regular bottle. With production over 200,000 cases, it's a testament to the art of blending.   \n",
       "8362                                                                                                                                                                                                                         Not bad for the price. It's thin and silky in mouthfeel and dry, with decent raspberry, cola and mint flavors.   \n",
       "7372                                                                                                                               Translucent in color, silky in the mouth, this Mendocino-grown Pinot shows ripe, forward flavors and crisp acidity. You'll find pie-filling cherries and rhubarb, with a cola and root beer soda finish.   \n",
       "3140                                                                                                                                                    Showing red cherry, cola and spice flavors, this is very dry and silky, like a Russian River Pinot Noir should be. It's elegant, feeling smooth and clean on the palate. Drink now.   \n",
       "2431                                                                                                                                  Shows all the hallmarks of a fine Chard, except complexity. It's dry, creamy and smoky in oak and lees influences, with flavors of pineapples and peaches. Easy to find, with 250,000 cases produced.   \n",
       "5704  This was not an easy vintage in which to make wine with as much fruit and concentration as this bottling, but winemaker Luisa Ponzi has done it. Deep cherry fruit comes laced with cola and chocolate notes, filling the textural, detailed and full-bodied palate. It demonstrates terrific length and an elegant, balanced finish.   \n",
       "670                                                                                                  A big, rich, fruity, oaky Pinot Noir, offering waves of raspberry and cherry pie, currant, cola, baking spice and sandalwood flavors. Tastes delicious ripe, but finishes dry in a bracing swirl of acids and tannins. Drink now–2016.   \n",
       "\n",
       "         variety      country           designation  mean  \n",
       "2172  Pinot Noir           US               Unknown    86  \n",
       "6205  Pinot Noir  New Zealand               Unknown    87  \n",
       "2778      Merlot           US               Unknown    90  \n",
       "8362  Pinot Noir           US    Caiden's Vineyards    85  \n",
       "7372  Pinot Noir           US            Shea Cuvée    85  \n",
       "3140  Pinot Noir           US             Clone 777    87  \n",
       "2431  Chardonnay           US               Unknown    86  \n",
       "5704  Pinot Noir           US              Avellana    93  \n",
       "670   Pinot Noir           US  Bien Nacido Vineyard    90  "
      ]
     },
     "execution_count": 42,
     "metadata": {},
     "output_type": "execute_result"
    }
   ],
   "source": [
    "#Getting recommendations for the wine selected above\n",
    "content_recommender('Chime 2009 Pinot Noir (Sonoma County)')"
   ]
  },
  {
   "cell_type": "markdown",
   "metadata": {
    "id": "3T8Ru_qDl6Cc"
   },
   "source": [
    "## **Metadata-based recommender system**"
   ]
  },
  {
   "cell_type": "code",
   "execution_count": 43,
   "metadata": {
    "colab": {
     "base_uri": "https://localhost:8080/",
     "height": 190
    },
    "id": "_O2OvIiFk-UC",
    "outputId": "ef46626f-fa62-4313-86a9-86863107055c"
   },
   "outputs": [
    {
     "data": {
      "text/html": [
       "<div>\n",
       "<style scoped>\n",
       "    .dataframe tbody tr th:only-of-type {\n",
       "        vertical-align: middle;\n",
       "    }\n",
       "\n",
       "    .dataframe tbody tr th {\n",
       "        vertical-align: top;\n",
       "    }\n",
       "\n",
       "    .dataframe thead th {\n",
       "        text-align: right;\n",
       "    }\n",
       "</style>\n",
       "<table border=\"1\" class=\"dataframe\">\n",
       "  <thead>\n",
       "    <tr style=\"text-align: right;\">\n",
       "      <th></th>\n",
       "      <th>title</th>\n",
       "      <th>country</th>\n",
       "      <th>variety</th>\n",
       "      <th>winery</th>\n",
       "      <th>description</th>\n",
       "      <th>designation</th>\n",
       "      <th>count</th>\n",
       "      <th>mean</th>\n",
       "    </tr>\n",
       "  </thead>\n",
       "  <tbody>\n",
       "    <tr>\n",
       "      <th>0</th>\n",
       "      <td>1+1=3 2008 Rosé Cabernet Sauvignon (Penedès)</td>\n",
       "      <td>Spain</td>\n",
       "      <td>Cabernet Sauvignon</td>\n",
       "      <td>1+1=3</td>\n",
       "      <td>The previous two years we did not find this wine to be worthy of a rating. This time, we rate it but note that it's an almost-red wine made from Cabernet Sauvignon. It's sweet smelling, with fiery plum-skin flavors that evaporate along with the mouthfeel. Leaves a burn patch on the finish. Particular to the max.</td>\n",
       "      <td>Rosé</td>\n",
       "      <td>1</td>\n",
       "      <td>82</td>\n",
       "    </tr>\n",
       "    <tr>\n",
       "      <th>1</th>\n",
       "      <td>1+1=3 NV Brut Sparkling (Cava)</td>\n",
       "      <td>Spain</td>\n",
       "      <td>Sparkling Blend</td>\n",
       "      <td>1+1=3</td>\n",
       "      <td>Dusty notes of citrus fruits are mild but friendly. This Cava is zesty, fresh and simple as a whole, with lime, clover and grassy flavors. Freshness is the overriding theme, while the finish tastes of apple and lime.</td>\n",
       "      <td>Brut</td>\n",
       "      <td>1</td>\n",
       "      <td>87</td>\n",
       "    </tr>\n",
       "  </tbody>\n",
       "</table>\n",
       "</div>"
      ],
      "text/plain": [
       "                                          title country             variety  \\\n",
       "0  1+1=3 2008 Rosé Cabernet Sauvignon (Penedès)   Spain  Cabernet Sauvignon   \n",
       "1                1+1=3 NV Brut Sparkling (Cava)   Spain     Sparkling Blend   \n",
       "\n",
       "  winery  \\\n",
       "0  1+1=3   \n",
       "1  1+1=3   \n",
       "\n",
       "                                                                                                                                                                                                                                                                                                                 description  \\\n",
       "0  The previous two years we did not find this wine to be worthy of a rating. This time, we rate it but note that it's an almost-red wine made from Cabernet Sauvignon. It's sweet smelling, with fiery plum-skin flavors that evaporate along with the mouthfeel. Leaves a burn patch on the finish. Particular to the max.   \n",
       "1                                                                                                   Dusty notes of citrus fruits are mild but friendly. This Cava is zesty, fresh and simple as a whole, with lime, clover and grassy flavors. Freshness is the overriding theme, while the finish tastes of apple and lime.   \n",
       "\n",
       "  designation  count  mean  \n",
       "0        Rosé      1    82  \n",
       "1        Brut      1    87  "
      ]
     },
     "execution_count": 43,
     "metadata": {},
     "output_type": "execute_result"
    }
   ],
   "source": [
    "data_cont.head(2)"
   ]
  },
  {
   "cell_type": "code",
   "execution_count": 44,
   "metadata": {
    "colab": {
     "base_uri": "https://localhost:8080/",
     "height": 317
    },
    "id": "jBQqKzHcluSt",
    "outputId": "681468d2-febe-4938-8823-674b1f409bfd"
   },
   "outputs": [
    {
     "data": {
      "text/html": [
       "<div>\n",
       "<style scoped>\n",
       "    .dataframe tbody tr th:only-of-type {\n",
       "        vertical-align: middle;\n",
       "    }\n",
       "\n",
       "    .dataframe tbody tr th {\n",
       "        vertical-align: top;\n",
       "    }\n",
       "\n",
       "    .dataframe thead th {\n",
       "        text-align: right;\n",
       "    }\n",
       "</style>\n",
       "<table border=\"1\" class=\"dataframe\">\n",
       "  <thead>\n",
       "    <tr style=\"text-align: right;\">\n",
       "      <th></th>\n",
       "      <th>title</th>\n",
       "      <th>country</th>\n",
       "      <th>designation</th>\n",
       "      <th>variety</th>\n",
       "      <th>description</th>\n",
       "      <th>mean</th>\n",
       "    </tr>\n",
       "  </thead>\n",
       "  <tbody>\n",
       "    <tr>\n",
       "      <th>0</th>\n",
       "      <td>1+1=3 2008 Rosé Cabernet Sauvignon (Penedès)</td>\n",
       "      <td>Spain</td>\n",
       "      <td>Rosé</td>\n",
       "      <td>Cabernet Sauvignon</td>\n",
       "      <td>The previous two years we did not find this wine to be worthy of a rating. This time, we rate it but note that it's an almost-red wine made from Cabernet Sauvignon. It's sweet smelling, with fiery plum-skin flavors that evaporate along with the mouthfeel. Leaves a burn patch on the finish. Particular to the max.</td>\n",
       "      <td>82</td>\n",
       "    </tr>\n",
       "    <tr>\n",
       "      <th>1</th>\n",
       "      <td>1+1=3 NV Brut Sparkling (Cava)</td>\n",
       "      <td>Spain</td>\n",
       "      <td>Brut</td>\n",
       "      <td>Sparkling Blend</td>\n",
       "      <td>Dusty notes of citrus fruits are mild but friendly. This Cava is zesty, fresh and simple as a whole, with lime, clover and grassy flavors. Freshness is the overriding theme, while the finish tastes of apple and lime.</td>\n",
       "      <td>87</td>\n",
       "    </tr>\n",
       "    <tr>\n",
       "      <th>2</th>\n",
       "      <td>1+1=3 NV Brut Sparkling (Cava)</td>\n",
       "      <td>Spain</td>\n",
       "      <td>Brut</td>\n",
       "      <td>Sparkling Blend</td>\n",
       "      <td>Spiced apple and toast aromas are clean and direct. On the palate, it's malic and citric, with lime and white grapefruit flavors. A citrusy finish with a note of salt maintains freshness.</td>\n",
       "      <td>87</td>\n",
       "    </tr>\n",
       "    <tr>\n",
       "      <th>3</th>\n",
       "      <td>1+1=3 NV Cygnus Brut Nature Reserva Made With Organic Grapes Sparkling (Cava)</td>\n",
       "      <td>Spain</td>\n",
       "      <td>Cygnus Brut Nature Reserva Made With Organic Grapes</td>\n",
       "      <td>Sparkling Blend</td>\n",
       "      <td>Clean, fresh apple aromas and a minerally, citric palate are on point for brut nature. A lightly salty set of persimmon and apple flavors finishes lively, with dry citrus notes on the finish.</td>\n",
       "      <td>89</td>\n",
       "    </tr>\n",
       "  </tbody>\n",
       "</table>\n",
       "</div>"
      ],
      "text/plain": [
       "                                                                           title  \\\n",
       "0                                   1+1=3 2008 Rosé Cabernet Sauvignon (Penedès)   \n",
       "1                                                 1+1=3 NV Brut Sparkling (Cava)   \n",
       "2                                                 1+1=3 NV Brut Sparkling (Cava)   \n",
       "3  1+1=3 NV Cygnus Brut Nature Reserva Made With Organic Grapes Sparkling (Cava)   \n",
       "\n",
       "  country                                          designation  \\\n",
       "0   Spain                                                 Rosé   \n",
       "1   Spain                                                 Brut   \n",
       "2   Spain                                                 Brut   \n",
       "3   Spain  Cygnus Brut Nature Reserva Made With Organic Grapes   \n",
       "\n",
       "              variety  \\\n",
       "0  Cabernet Sauvignon   \n",
       "1     Sparkling Blend   \n",
       "2     Sparkling Blend   \n",
       "3     Sparkling Blend   \n",
       "\n",
       "                                                                                                                                                                                                                                                                                                                 description  \\\n",
       "0  The previous two years we did not find this wine to be worthy of a rating. This time, we rate it but note that it's an almost-red wine made from Cabernet Sauvignon. It's sweet smelling, with fiery plum-skin flavors that evaporate along with the mouthfeel. Leaves a burn patch on the finish. Particular to the max.   \n",
       "1                                                                                                   Dusty notes of citrus fruits are mild but friendly. This Cava is zesty, fresh and simple as a whole, with lime, clover and grassy flavors. Freshness is the overriding theme, while the finish tastes of apple and lime.   \n",
       "2                                                                                                                                Spiced apple and toast aromas are clean and direct. On the palate, it's malic and citric, with lime and white grapefruit flavors. A citrusy finish with a note of salt maintains freshness.   \n",
       "3                                                                                                                            Clean, fresh apple aromas and a minerally, citric palate are on point for brut nature. A lightly salty set of persimmon and apple flavors finishes lively, with dry citrus notes on the finish.   \n",
       "\n",
       "   mean  \n",
       "0    82  \n",
       "1    87  \n",
       "2    87  \n",
       "3    89  "
      ]
     },
     "execution_count": 44,
     "metadata": {},
     "output_type": "execute_result"
    }
   ],
   "source": [
    "#metadats in this models are: country,designation, variety\n",
    "data_cont2=data_cont[[\"title\",\"country\",\"designation\",\"variety\",\"description\",\"mean\"]]\n",
    "data_cont2.head(4)"
   ]
  },
  {
   "cell_type": "code",
   "execution_count": 45,
   "metadata": {
    "id": "31fLP0diovf3"
   },
   "outputs": [],
   "source": [
    "#Defining a function that removes spaces and converts to lowercase\n",
    "def sanitize(x):\n",
    "    if isinstance(x, list):\n",
    "        return [str.lower(i.replace(\" \", \"\")) for i in x]\n",
    "    else:\n",
    "        if isinstance(x, str):\n",
    "            return str.lower(x.replace(\" \", \"\"))\n",
    "        else:\n",
    "            return ''"
   ]
  },
  {
   "cell_type": "code",
   "execution_count": 46,
   "metadata": {
    "colab": {
     "base_uri": "https://localhost:8080/"
    },
    "id": "BDUjdbo-o7Hi",
    "outputId": "f1a2c4d7-3c10-44cb-ca80-f4c8251ecc69"
   },
   "outputs": [
    {
     "name": "stderr",
     "output_type": "stream",
     "text": [
      "C:\\Users\\HP\\anaconda3\\lib\\site-packages\\ipykernel_launcher.py:3: SettingWithCopyWarning: \n",
      "A value is trying to be set on a copy of a slice from a DataFrame.\n",
      "Try using .loc[row_indexer,col_indexer] = value instead\n",
      "\n",
      "See the caveats in the documentation: https://pandas.pydata.org/pandas-docs/stable/user_guide/indexing.html#returning-a-view-versus-a-copy\n",
      "  This is separate from the ipykernel package so we can avoid doing imports until\n"
     ]
    }
   ],
   "source": [
    "# using the function defined above on data_cont2 dataset\n",
    "for i in [\"country\",\"designation\",\"variety\"]:\n",
    "    data_cont2[i] = data_cont2[i].apply(sanitize)"
   ]
  },
  {
   "cell_type": "code",
   "execution_count": 47,
   "metadata": {
    "colab": {
     "base_uri": "https://localhost:8080/",
     "height": 190
    },
    "id": "-6pmk2cSpTou",
    "outputId": "c9716140-3981-4de9-f6da-9bb2ba6e9cd0"
   },
   "outputs": [
    {
     "data": {
      "text/html": [
       "<div>\n",
       "<style scoped>\n",
       "    .dataframe tbody tr th:only-of-type {\n",
       "        vertical-align: middle;\n",
       "    }\n",
       "\n",
       "    .dataframe tbody tr th {\n",
       "        vertical-align: top;\n",
       "    }\n",
       "\n",
       "    .dataframe thead th {\n",
       "        text-align: right;\n",
       "    }\n",
       "</style>\n",
       "<table border=\"1\" class=\"dataframe\">\n",
       "  <thead>\n",
       "    <tr style=\"text-align: right;\">\n",
       "      <th></th>\n",
       "      <th>title</th>\n",
       "      <th>country</th>\n",
       "      <th>designation</th>\n",
       "      <th>variety</th>\n",
       "      <th>description</th>\n",
       "      <th>mean</th>\n",
       "    </tr>\n",
       "  </thead>\n",
       "  <tbody>\n",
       "    <tr>\n",
       "      <th>0</th>\n",
       "      <td>1+1=3 2008 Rosé Cabernet Sauvignon (Penedès)</td>\n",
       "      <td>spain</td>\n",
       "      <td>rosé</td>\n",
       "      <td>cabernetsauvignon</td>\n",
       "      <td>The previous two years we did not find this wine to be worthy of a rating. This time, we rate it but note that it's an almost-red wine made from Cabernet Sauvignon. It's sweet smelling, with fiery plum-skin flavors that evaporate along with the mouthfeel. Leaves a burn patch on the finish. Particular to the max.</td>\n",
       "      <td>82</td>\n",
       "    </tr>\n",
       "    <tr>\n",
       "      <th>1</th>\n",
       "      <td>1+1=3 NV Brut Sparkling (Cava)</td>\n",
       "      <td>spain</td>\n",
       "      <td>brut</td>\n",
       "      <td>sparklingblend</td>\n",
       "      <td>Dusty notes of citrus fruits are mild but friendly. This Cava is zesty, fresh and simple as a whole, with lime, clover and grassy flavors. Freshness is the overriding theme, while the finish tastes of apple and lime.</td>\n",
       "      <td>87</td>\n",
       "    </tr>\n",
       "  </tbody>\n",
       "</table>\n",
       "</div>"
      ],
      "text/plain": [
       "                                          title country designation  \\\n",
       "0  1+1=3 2008 Rosé Cabernet Sauvignon (Penedès)   spain        rosé   \n",
       "1                1+1=3 NV Brut Sparkling (Cava)   spain        brut   \n",
       "\n",
       "             variety  \\\n",
       "0  cabernetsauvignon   \n",
       "1     sparklingblend   \n",
       "\n",
       "                                                                                                                                                                                                                                                                                                                 description  \\\n",
       "0  The previous two years we did not find this wine to be worthy of a rating. This time, we rate it but note that it's an almost-red wine made from Cabernet Sauvignon. It's sweet smelling, with fiery plum-skin flavors that evaporate along with the mouthfeel. Leaves a burn patch on the finish. Particular to the max.   \n",
       "1                                                                                                   Dusty notes of citrus fruits are mild but friendly. This Cava is zesty, fresh and simple as a whole, with lime, clover and grassy flavors. Freshness is the overriding theme, while the finish tastes of apple and lime.   \n",
       "\n",
       "   mean  \n",
       "0    82  \n",
       "1    87  "
      ]
     },
     "execution_count": 47,
     "metadata": {},
     "output_type": "execute_result"
    }
   ],
   "source": [
    "data_cont2.head(2)"
   ]
  },
  {
   "cell_type": "code",
   "execution_count": 48,
   "metadata": {
    "colab": {
     "base_uri": "https://localhost:8080/",
     "height": 308
    },
    "id": "b6LRmhkopZDO",
    "outputId": "e5d50949-2dac-46a1-b263-6e7339f6af47"
   },
   "outputs": [
    {
     "name": "stderr",
     "output_type": "stream",
     "text": [
      "C:\\Users\\HP\\anaconda3\\lib\\site-packages\\ipykernel_launcher.py:6: SettingWithCopyWarning: \n",
      "A value is trying to be set on a copy of a slice from a DataFrame.\n",
      "Try using .loc[row_indexer,col_indexer] = value instead\n",
      "\n",
      "See the caveats in the documentation: https://pandas.pydata.org/pandas-docs/stable/user_guide/indexing.html#returning-a-view-versus-a-copy\n",
      "  \n"
     ]
    },
    {
     "data": {
      "text/html": [
       "<div>\n",
       "<style scoped>\n",
       "    .dataframe tbody tr th:only-of-type {\n",
       "        vertical-align: middle;\n",
       "    }\n",
       "\n",
       "    .dataframe tbody tr th {\n",
       "        vertical-align: top;\n",
       "    }\n",
       "\n",
       "    .dataframe thead th {\n",
       "        text-align: right;\n",
       "    }\n",
       "</style>\n",
       "<table border=\"1\" class=\"dataframe\">\n",
       "  <thead>\n",
       "    <tr style=\"text-align: right;\">\n",
       "      <th></th>\n",
       "      <th>title</th>\n",
       "      <th>country</th>\n",
       "      <th>designation</th>\n",
       "      <th>variety</th>\n",
       "      <th>description</th>\n",
       "      <th>mean</th>\n",
       "      <th>soup</th>\n",
       "    </tr>\n",
       "  </thead>\n",
       "  <tbody>\n",
       "    <tr>\n",
       "      <th>0</th>\n",
       "      <td>1+1=3 2008 Rosé Cabernet Sauvignon (Penedès)</td>\n",
       "      <td>spain</td>\n",
       "      <td>rosé</td>\n",
       "      <td>cabernetsauvignon</td>\n",
       "      <td>The previous two years we did not find this wine to be worthy of a rating. This time, we rate it but note that it's an almost-red wine made from Cabernet Sauvignon. It's sweet smelling, with fiery plum-skin flavors that evaporate along with the mouthfeel. Leaves a burn patch on the finish. Particular to the max.</td>\n",
       "      <td>82</td>\n",
       "      <td>spain rosé cabernetsauvignon</td>\n",
       "    </tr>\n",
       "    <tr>\n",
       "      <th>1</th>\n",
       "      <td>1+1=3 NV Brut Sparkling (Cava)</td>\n",
       "      <td>spain</td>\n",
       "      <td>brut</td>\n",
       "      <td>sparklingblend</td>\n",
       "      <td>Dusty notes of citrus fruits are mild but friendly. This Cava is zesty, fresh and simple as a whole, with lime, clover and grassy flavors. Freshness is the overriding theme, while the finish tastes of apple and lime.</td>\n",
       "      <td>87</td>\n",
       "      <td>spain brut sparklingblend</td>\n",
       "    </tr>\n",
       "  </tbody>\n",
       "</table>\n",
       "</div>"
      ],
      "text/plain": [
       "                                          title country designation  \\\n",
       "0  1+1=3 2008 Rosé Cabernet Sauvignon (Penedès)   spain        rosé   \n",
       "1                1+1=3 NV Brut Sparkling (Cava)   spain        brut   \n",
       "\n",
       "             variety  \\\n",
       "0  cabernetsauvignon   \n",
       "1     sparklingblend   \n",
       "\n",
       "                                                                                                                                                                                                                                                                                                                 description  \\\n",
       "0  The previous two years we did not find this wine to be worthy of a rating. This time, we rate it but note that it's an almost-red wine made from Cabernet Sauvignon. It's sweet smelling, with fiery plum-skin flavors that evaporate along with the mouthfeel. Leaves a burn patch on the finish. Particular to the max.   \n",
       "1                                                                                                   Dusty notes of citrus fruits are mild but friendly. This Cava is zesty, fresh and simple as a whole, with lime, clover and grassy flavors. Freshness is the overriding theme, while the finish tastes of apple and lime.   \n",
       "\n",
       "   mean                          soup  \n",
       "0    82  spain rosé cabernetsauvignon  \n",
       "1    87     spain brut sparklingblend  "
      ]
     },
     "execution_count": 48,
     "metadata": {},
     "output_type": "execute_result"
    }
   ],
   "source": [
    "#Defining function that creates a soup out of the desired metadata (\"country\",\"designation\",\"variety\")\n",
    "def create_soup(x):\n",
    "    return x['country']+ ' '+ x['designation'] +\" \" + x['variety'] \n",
    "\n",
    "# Add the new soup feature\n",
    "data_cont2['soup'] = data_cont2.apply(create_soup, axis=1)\n",
    "data_cont2.head(2)"
   ]
  },
  {
   "cell_type": "code",
   "execution_count": 49,
   "metadata": {
    "colab": {
     "base_uri": "https://localhost:8080/"
    },
    "id": "OjYuz_n-rDyO",
    "outputId": "4465f12d-8a13-4f66-8402-16902de986fa"
   },
   "outputs": [
    {
     "name": "stdout",
     "output_type": "stream",
     "text": [
      "The size of training data is (11153, 7)\n",
      "The size of test data is (100384, 7)\n"
     ]
    }
   ],
   "source": [
    "#since the shape of the matrix is very big,the model will require a huge memory to run \n",
    "#therefore the data was devided into train and test parts, train size is 10%\n",
    "#full implementation is not in the scope of this research\n",
    "X_train_meta, X_test_meta = train_test_split(data_cont2, train_size = 0.1,random_state=11)\n",
    "\n",
    "print(\"The size of training data is {}\".format(X_train_meta.shape))\n",
    "print(\"The size of test data is {}\".format(X_test_meta.shape))"
   ]
  },
  {
   "cell_type": "code",
   "execution_count": 50,
   "metadata": {
    "colab": {
     "base_uri": "https://localhost:8080/"
    },
    "id": "GEbtzm2up65o",
    "outputId": "bfe924ff-1176-4101-da0f-0b1d021ee9e9"
   },
   "outputs": [
    {
     "name": "stdout",
     "output_type": "stream",
     "text": [
      "The size of matrix is (11153, 6377)\n"
     ]
    }
   ],
   "source": [
    "#Define a new CountVectorizer object and create vectors for the soup\n",
    "count = CountVectorizer(stop_words='english')\n",
    "count_matrix_meta = count.fit_transform(X_train_meta['soup'])\n",
    "print(\"The size of matrix is\", count_matrix_meta.shape)"
   ]
  },
  {
   "cell_type": "code",
   "execution_count": 51,
   "metadata": {
    "id": "Z7WzbGldsLQX"
   },
   "outputs": [],
   "source": [
    "#Compute the cosine similarity score (equivalent to linear_kernel: dot product for tf-idf vectors)\n",
    "cosine_simil2 = cosine_similarity(count_matrix_meta, count_matrix_meta)"
   ]
  },
  {
   "cell_type": "code",
   "execution_count": 52,
   "metadata": {
    "id": "WJVKE_kPsm4J"
   },
   "outputs": [],
   "source": [
    "# Reset index of the data and construct reverse mapping again\n",
    "X_train_meta = X_train_meta.reset_index()\n",
    "indices2 = pd.Series(X_train_meta.index, index=X_train_meta['title'])"
   ]
  },
  {
   "cell_type": "markdown",
   "metadata": {
    "id": "ElwMj3buAL7E"
   },
   "source": [
    "##### **Recommendation Engine 3**"
   ]
  },
  {
   "cell_type": "code",
   "execution_count": 53,
   "metadata": {
    "colab": {
     "base_uri": "https://localhost:8080/",
     "height": 734
    },
    "id": "G5IrmjAStE7r",
    "outputId": "09c4b649-5dc0-415a-da20-f9e71d6b20e9"
   },
   "outputs": [
    {
     "name": "stdout",
     "output_type": "stream",
     "text": [
      "Chime 2009 Pinot Noir (Sonoma County)\n"
     ]
    },
    {
     "data": {
      "text/html": [
       "<div>\n",
       "<style scoped>\n",
       "    .dataframe tbody tr th:only-of-type {\n",
       "        vertical-align: middle;\n",
       "    }\n",
       "\n",
       "    .dataframe tbody tr th {\n",
       "        vertical-align: top;\n",
       "    }\n",
       "\n",
       "    .dataframe thead th {\n",
       "        text-align: right;\n",
       "    }\n",
       "</style>\n",
       "<table border=\"1\" class=\"dataframe\">\n",
       "  <thead>\n",
       "    <tr style=\"text-align: right;\">\n",
       "      <th></th>\n",
       "      <th>title</th>\n",
       "      <th>description</th>\n",
       "      <th>variety</th>\n",
       "      <th>country</th>\n",
       "      <th>designation</th>\n",
       "      <th>mean</th>\n",
       "    </tr>\n",
       "  </thead>\n",
       "  <tbody>\n",
       "    <tr>\n",
       "      <th>2172</th>\n",
       "      <td>Cuvaison 2008 Pinot Noir (Carneros)</td>\n",
       "      <td>This winery's basic Pinot has had a mixed record over the years. The '08 is dry and silky, but not particularly interesting at this price. It has gentle cherry, raspberry, cola, spice and oak flavors, offset by crisp acids. Drink now.</td>\n",
       "      <td>pinotnoir</td>\n",
       "      <td>us</td>\n",
       "      <td>unknown</td>\n",
       "      <td>86</td>\n",
       "    </tr>\n",
       "    <tr>\n",
       "      <th>6205</th>\n",
       "      <td>Seaside 2014 Pinot Noir (Marlborough)</td>\n",
       "      <td>This is light in hue, even for Pinot Noir, but it offers attractive, bright cherry fruit backed by crisp acids. The tannins are supple, leaving the acids to define the structure. Drink it before the end of 2017.</td>\n",
       "      <td>pinotnoir</td>\n",
       "      <td>newzealand</td>\n",
       "      <td>unknown</td>\n",
       "      <td>87</td>\n",
       "    </tr>\n",
       "    <tr>\n",
       "      <th>2778</th>\n",
       "      <td>Black Box 2009 Merlot (California)</td>\n",
       "      <td>Blended with a little Syrah, Petite Sirah and Sangiovese, this Merlot in a big box is clearly a terrific value. It's so lush and delicious in berries and spices, it's crazy that the price works out to $6.25 for a regular bottle. With production over 200,000 cases, it's a testament to the art of blending.</td>\n",
       "      <td>merlot</td>\n",
       "      <td>us</td>\n",
       "      <td>unknown</td>\n",
       "      <td>90</td>\n",
       "    </tr>\n",
       "    <tr>\n",
       "      <th>8362</th>\n",
       "      <td>Block Nine 2010 Caiden's Vineyards Pinot Noir (California)</td>\n",
       "      <td>Not bad for the price. It's thin and silky in mouthfeel and dry, with decent raspberry, cola and mint flavors.</td>\n",
       "      <td>pinotnoir</td>\n",
       "      <td>us</td>\n",
       "      <td>caiden'svineyards</td>\n",
       "      <td>85</td>\n",
       "    </tr>\n",
       "    <tr>\n",
       "      <th>7372</th>\n",
       "      <td>Dancing Bear Cellars 2006 Shea Cuvée Pinot Noir (Mendocino)</td>\n",
       "      <td>Translucent in color, silky in the mouth, this Mendocino-grown Pinot shows ripe, forward flavors and crisp acidity. You'll find pie-filling cherries and rhubarb, with a cola and root beer soda finish.</td>\n",
       "      <td>pinotnoir</td>\n",
       "      <td>us</td>\n",
       "      <td>sheacuvée</td>\n",
       "      <td>85</td>\n",
       "    </tr>\n",
       "    <tr>\n",
       "      <th>3140</th>\n",
       "      <td>Windsor Oaks 2007 Clone 777 Pinot Noir (Russian River Valley)</td>\n",
       "      <td>Showing red cherry, cola and spice flavors, this is very dry and silky, like a Russian River Pinot Noir should be. It's elegant, feeling smooth and clean on the palate. Drink now.</td>\n",
       "      <td>pinotnoir</td>\n",
       "      <td>us</td>\n",
       "      <td>clone777</td>\n",
       "      <td>87</td>\n",
       "    </tr>\n",
       "    <tr>\n",
       "      <th>2431</th>\n",
       "      <td>Rodney Strong 2009 Chardonnay (Sonoma County)</td>\n",
       "      <td>Shows all the hallmarks of a fine Chard, except complexity. It's dry, creamy and smoky in oak and lees influences, with flavors of pineapples and peaches. Easy to find, with 250,000 cases produced.</td>\n",
       "      <td>chardonnay</td>\n",
       "      <td>us</td>\n",
       "      <td>unknown</td>\n",
       "      <td>86</td>\n",
       "    </tr>\n",
       "    <tr>\n",
       "      <th>5704</th>\n",
       "      <td>Ponzi 2010 Avellana Pinot Noir (Willamette Valley)</td>\n",
       "      <td>This was not an easy vintage in which to make wine with as much fruit and concentration as this bottling, but winemaker Luisa Ponzi has done it. Deep cherry fruit comes laced with cola and chocolate notes, filling the textural, detailed and full-bodied palate. It demonstrates terrific length and an elegant, balanced finish.</td>\n",
       "      <td>pinotnoir</td>\n",
       "      <td>us</td>\n",
       "      <td>avellana</td>\n",
       "      <td>93</td>\n",
       "    </tr>\n",
       "    <tr>\n",
       "      <th>670</th>\n",
       "      <td>Sandler 2010 Bien Nacido Vineyard Pinot Noir (Santa Maria Valley)</td>\n",
       "      <td>A big, rich, fruity, oaky Pinot Noir, offering waves of raspberry and cherry pie, currant, cola, baking spice and sandalwood flavors. Tastes delicious ripe, but finishes dry in a bracing swirl of acids and tannins. Drink now–2016.</td>\n",
       "      <td>pinotnoir</td>\n",
       "      <td>us</td>\n",
       "      <td>biennacidovineyard</td>\n",
       "      <td>90</td>\n",
       "    </tr>\n",
       "  </tbody>\n",
       "</table>\n",
       "</div>"
      ],
      "text/plain": [
       "                                                                  title  \\\n",
       "2172                                Cuvaison 2008 Pinot Noir (Carneros)   \n",
       "6205                              Seaside 2014 Pinot Noir (Marlborough)   \n",
       "2778                                 Black Box 2009 Merlot (California)   \n",
       "8362         Block Nine 2010 Caiden's Vineyards Pinot Noir (California)   \n",
       "7372        Dancing Bear Cellars 2006 Shea Cuvée Pinot Noir (Mendocino)   \n",
       "3140      Windsor Oaks 2007 Clone 777 Pinot Noir (Russian River Valley)   \n",
       "2431                      Rodney Strong 2009 Chardonnay (Sonoma County)   \n",
       "5704                 Ponzi 2010 Avellana Pinot Noir (Willamette Valley)   \n",
       "670   Sandler 2010 Bien Nacido Vineyard Pinot Noir (Santa Maria Valley)   \n",
       "\n",
       "                                                                                                                                                                                                                                                                                                                                description  \\\n",
       "2172                                                                                             This winery's basic Pinot has had a mixed record over the years. The '08 is dry and silky, but not particularly interesting at this price. It has gentle cherry, raspberry, cola, spice and oak flavors, offset by crisp acids. Drink now.   \n",
       "6205                                                                                                                    This is light in hue, even for Pinot Noir, but it offers attractive, bright cherry fruit backed by crisp acids. The tannins are supple, leaving the acids to define the structure. Drink it before the end of 2017.   \n",
       "2778                      Blended with a little Syrah, Petite Sirah and Sangiovese, this Merlot in a big box is clearly a terrific value. It's so lush and delicious in berries and spices, it's crazy that the price works out to $6.25 for a regular bottle. With production over 200,000 cases, it's a testament to the art of blending.   \n",
       "8362                                                                                                                                                                                                                         Not bad for the price. It's thin and silky in mouthfeel and dry, with decent raspberry, cola and mint flavors.   \n",
       "7372                                                                                                                               Translucent in color, silky in the mouth, this Mendocino-grown Pinot shows ripe, forward flavors and crisp acidity. You'll find pie-filling cherries and rhubarb, with a cola and root beer soda finish.   \n",
       "3140                                                                                                                                                    Showing red cherry, cola and spice flavors, this is very dry and silky, like a Russian River Pinot Noir should be. It's elegant, feeling smooth and clean on the palate. Drink now.   \n",
       "2431                                                                                                                                  Shows all the hallmarks of a fine Chard, except complexity. It's dry, creamy and smoky in oak and lees influences, with flavors of pineapples and peaches. Easy to find, with 250,000 cases produced.   \n",
       "5704  This was not an easy vintage in which to make wine with as much fruit and concentration as this bottling, but winemaker Luisa Ponzi has done it. Deep cherry fruit comes laced with cola and chocolate notes, filling the textural, detailed and full-bodied palate. It demonstrates terrific length and an elegant, balanced finish.   \n",
       "670                                                                                                  A big, rich, fruity, oaky Pinot Noir, offering waves of raspberry and cherry pie, currant, cola, baking spice and sandalwood flavors. Tastes delicious ripe, but finishes dry in a bracing swirl of acids and tannins. Drink now–2016.   \n",
       "\n",
       "         variety     country         designation  mean  \n",
       "2172   pinotnoir          us             unknown    86  \n",
       "6205   pinotnoir  newzealand             unknown    87  \n",
       "2778      merlot          us             unknown    90  \n",
       "8362   pinotnoir          us   caiden'svineyards    85  \n",
       "7372   pinotnoir          us           sheacuvée    85  \n",
       "3140   pinotnoir          us            clone777    87  \n",
       "2431  chardonnay          us             unknown    86  \n",
       "5704   pinotnoir          us            avellana    93  \n",
       "670    pinotnoir          us  biennacidovineyard    90  "
      ]
     },
     "execution_count": 53,
     "metadata": {},
     "output_type": "execute_result"
    }
   ],
   "source": [
    "#we will use the function defined above for the first model to get recommendation for the inserted wine\n",
    "content_recommender('Chime 2009 Pinot Noir (Sonoma County)', cosine_simil2, X_train_meta, indices2)"
   ]
  },
  {
   "cell_type": "code",
   "execution_count": 54,
   "metadata": {
    "colab": {
     "base_uri": "https://localhost:8080/",
     "height": 127
    },
    "id": "VYRZToyYy_uU",
    "outputId": "a607327f-7321-4dd7-f7b1-54236e4f76f3"
   },
   "outputs": [
    {
     "data": {
      "text/html": [
       "<div>\n",
       "<style scoped>\n",
       "    .dataframe tbody tr th:only-of-type {\n",
       "        vertical-align: middle;\n",
       "    }\n",
       "\n",
       "    .dataframe tbody tr th {\n",
       "        vertical-align: top;\n",
       "    }\n",
       "\n",
       "    .dataframe thead th {\n",
       "        text-align: right;\n",
       "    }\n",
       "</style>\n",
       "<table border=\"1\" class=\"dataframe\">\n",
       "  <thead>\n",
       "    <tr style=\"text-align: right;\">\n",
       "      <th></th>\n",
       "      <th>title</th>\n",
       "      <th>description</th>\n",
       "      <th>country</th>\n",
       "      <th>variety</th>\n",
       "      <th>designation</th>\n",
       "      <th>mean</th>\n",
       "    </tr>\n",
       "  </thead>\n",
       "  <tbody>\n",
       "    <tr>\n",
       "      <th>6081</th>\n",
       "      <td>Chime 2009 Pinot Noir (Sonoma County)</td>\n",
       "      <td>What a great Pinot, and look at that price. The wine is translucent in ruby hue, dry, silky in texture and crisp in acids, showing the textural hallmarks of a fine coastal bottling. The raspberry, cherry, cola and spice flavors are delicious and complex. A terrific value. Production was 1,100 cases.</td>\n",
       "      <td>us</td>\n",
       "      <td>pinotnoir</td>\n",
       "      <td>unknown</td>\n",
       "      <td>91</td>\n",
       "    </tr>\n",
       "  </tbody>\n",
       "</table>\n",
       "</div>"
      ],
      "text/plain": [
       "                                      title  \\\n",
       "6081  Chime 2009 Pinot Noir (Sonoma County)   \n",
       "\n",
       "                                                                                                                                                                                                                                                                                                       description  \\\n",
       "6081  What a great Pinot, and look at that price. The wine is translucent in ruby hue, dry, silky in texture and crisp in acids, showing the textural hallmarks of a fine coastal bottling. The raspberry, cherry, cola and spice flavors are delicious and complex. A terrific value. Production was 1,100 cases.   \n",
       "\n",
       "     country    variety designation  mean  \n",
       "6081      us  pinotnoir     unknown    91  "
      ]
     },
     "execution_count": 54,
     "metadata": {},
     "output_type": "execute_result"
    }
   ],
   "source": [
    "X_train_meta[X_train_meta[\"title\"]=='Chime 2009 Pinot Noir (Sonoma County)'][['title','description','country','variety','designation','mean']]"
   ]
  },
  {
   "cell_type": "markdown",
   "metadata": {
    "id": "7zxZdckYWhu5"
   },
   "source": [
    "# Collaborative Filtering\n"
   ]
  },
  {
   "cell_type": "markdown",
   "metadata": {
    "id": "-4_6_yw1A-6S"
   },
   "source": [
    "\n",
    "## Memory Based Models\n",
    "\n",
    "### **Item-based Recommendation: NearestNeighbores from sklearn**"
   ]
  },
  {
   "cell_type": "code",
   "execution_count": 55,
   "metadata": {
    "colab": {
     "base_uri": "https://localhost:8080/",
     "height": 714
    },
    "id": "eG69bKzyjc2Q",
    "outputId": "d02eca3d-38ec-4b00-bc7b-2eab2ba8eba4"
   },
   "outputs": [
    {
     "data": {
      "text/html": [
       "<div>\n",
       "<style scoped>\n",
       "    .dataframe tbody tr th:only-of-type {\n",
       "        vertical-align: middle;\n",
       "    }\n",
       "\n",
       "    .dataframe tbody tr th {\n",
       "        vertical-align: top;\n",
       "    }\n",
       "\n",
       "    .dataframe thead th {\n",
       "        text-align: right;\n",
       "    }\n",
       "</style>\n",
       "<table border=\"1\" class=\"dataframe\">\n",
       "  <thead>\n",
       "    <tr style=\"text-align: right;\">\n",
       "      <th></th>\n",
       "      <th>country</th>\n",
       "      <th>description</th>\n",
       "      <th>designation</th>\n",
       "      <th>points</th>\n",
       "      <th>price</th>\n",
       "      <th>province</th>\n",
       "      <th>region_1</th>\n",
       "      <th>region_2</th>\n",
       "      <th>taster_name</th>\n",
       "      <th>taster_twitter_handle</th>\n",
       "      <th>title</th>\n",
       "      <th>variety</th>\n",
       "      <th>winery</th>\n",
       "    </tr>\n",
       "  </thead>\n",
       "  <tbody>\n",
       "    <tr>\n",
       "      <th>1</th>\n",
       "      <td>Portugal</td>\n",
       "      <td>This is ripe and fruity, a wine that is smooth while still structured. Firm tannins are filled out with juicy red berry fruits and freshened with acidity. It's  already drinkable, although it will certainly be better from 2016.</td>\n",
       "      <td>Avidagos</td>\n",
       "      <td>87</td>\n",
       "      <td>15.0</td>\n",
       "      <td>Douro</td>\n",
       "      <td>Unknown</td>\n",
       "      <td>Unknown</td>\n",
       "      <td>Roger Voss</td>\n",
       "      <td>@vossroger</td>\n",
       "      <td>Quinta dos Avidagos 2011 Avidagos Red (Douro)</td>\n",
       "      <td>Portuguese Red</td>\n",
       "      <td>Quinta dos Avidagos</td>\n",
       "    </tr>\n",
       "    <tr>\n",
       "      <th>2</th>\n",
       "      <td>US</td>\n",
       "      <td>Tart and snappy, the flavors of lime flesh and rind dominate. Some green pineapple pokes through, with crisp acidity underscoring the flavors. The wine was all stainless-steel fermented.</td>\n",
       "      <td>Unknown</td>\n",
       "      <td>87</td>\n",
       "      <td>14.0</td>\n",
       "      <td>Oregon</td>\n",
       "      <td>Willamette Valley</td>\n",
       "      <td>Willamette Valley</td>\n",
       "      <td>Paul Gregutt</td>\n",
       "      <td>@paulgwine</td>\n",
       "      <td>Rainstorm 2013 Pinot Gris (Willamette Valley)</td>\n",
       "      <td>Pinot Gris</td>\n",
       "      <td>Rainstorm</td>\n",
       "    </tr>\n",
       "  </tbody>\n",
       "</table>\n",
       "</div>"
      ],
      "text/plain": [
       "    country  \\\n",
       "1  Portugal   \n",
       "2        US   \n",
       "\n",
       "                                                                                                                                                                                                                           description  \\\n",
       "1  This is ripe and fruity, a wine that is smooth while still structured. Firm tannins are filled out with juicy red berry fruits and freshened with acidity. It's  already drinkable, although it will certainly be better from 2016.   \n",
       "2                                           Tart and snappy, the flavors of lime flesh and rind dominate. Some green pineapple pokes through, with crisp acidity underscoring the flavors. The wine was all stainless-steel fermented.   \n",
       "\n",
       "  designation  points  price province           region_1           region_2  \\\n",
       "1    Avidagos      87   15.0    Douro            Unknown            Unknown   \n",
       "2     Unknown      87   14.0   Oregon  Willamette Valley  Willamette Valley   \n",
       "\n",
       "    taster_name taster_twitter_handle  \\\n",
       "1    Roger Voss            @vossroger   \n",
       "2  Paul Gregutt           @paulgwine    \n",
       "\n",
       "                                           title         variety  \\\n",
       "1  Quinta dos Avidagos 2011 Avidagos Red (Douro)  Portuguese Red   \n",
       "2  Rainstorm 2013 Pinot Gris (Willamette Valley)      Pinot Gris   \n",
       "\n",
       "                winery  \n",
       "1  Quinta dos Avidagos  \n",
       "2            Rainstorm  "
      ]
     },
     "execution_count": 55,
     "metadata": {},
     "output_type": "execute_result"
    }
   ],
   "source": [
    "data.head(2)"
   ]
  },
  {
   "cell_type": "code",
   "execution_count": 56,
   "metadata": {
    "colab": {
     "base_uri": "https://localhost:8080/"
    },
    "id": "2bSFVZJgjIye",
    "outputId": "67a76bfc-eb1e-4192-8db3-bd2280e85cc8"
   },
   "outputs": [
    {
     "data": {
      "text/plain": [
       "Unknown Name          24495\n",
       "Roger Voss            20172\n",
       "Michael Schachner     14944\n",
       "Kerin O’Keefe          9874\n",
       "Virginie Boone         9507\n",
       "Paul Gregutt           9497\n",
       "Matt Kettmann          6237\n",
       "Joe Czerwinski         5010\n",
       "Sean P. Sullivan       4925\n",
       "Anna Lee C. Iijima     4369\n",
       "Jim Gordon             4171\n",
       "Anne Krebiehl MW       3389\n",
       "Lauren Buzzeo          1712\n",
       "Susan Kostrzewa        1068\n",
       "Mike DeSimone           492\n",
       "Jeff Jenssen            469\n",
       "Alexander Peartree      413\n",
       "Carrie Dykes            138\n",
       "Fiona Adams              27\n",
       "Christina Pickard         6\n",
       "Name: taster_name, dtype: int64"
      ]
     },
     "execution_count": 56,
     "metadata": {},
     "output_type": "execute_result"
    }
   ],
   "source": [
    "#number of wines rated by different someliers\n",
    "data.taster_name.value_counts()"
   ]
  },
  {
   "cell_type": "code",
   "execution_count": 57,
   "metadata": {
    "colab": {
     "base_uri": "https://localhost:8080/"
    },
    "id": "SafYNezbBcr0",
    "outputId": "7864258a-76a6-4b96-a6de-34d5e425a527"
   },
   "outputs": [
    {
     "name": "stdout",
     "output_type": "stream",
     "text": [
      "691\n",
      "146\n"
     ]
    }
   ],
   "source": [
    "#number of grape varieties in the database\n",
    "print(data.variety.nunique())\n",
    "print(np.sum(data.groupby('variety')['title'].nunique().sort_values(ascending=False)==1))"
   ]
  },
  {
   "cell_type": "markdown",
   "metadata": {
    "id": "U8pJYL_mx1Rp"
   },
   "source": [
    "There are 146 grape varieties that were used only in one wine. While for example Pinot Noir was used in more than 11 thousand wines, while Parraleta was used in only one wine. Thsoe 146 varieties will be removed in order to decrease sparsity of the variety-wine matrix that will be constructed. "
   ]
  },
  {
   "cell_type": "code",
   "execution_count": 58,
   "metadata": {
    "id": "aUwtpkT7u9pA"
   },
   "outputs": [],
   "source": [
    "#let's remove 146 wines varieties which were used to make only one type of wine\n",
    "uniq=data.groupby('variety')['title'].nunique().reset_index()\n",
    "np.sum(uniq[uniq.title!=1]['title'])\n",
    "data_filtered = data[~data['variety'].isin(uniq[uniq.title==1]['variety'])]"
   ]
  },
  {
   "cell_type": "code",
   "execution_count": 59,
   "metadata": {
    "colab": {
     "base_uri": "https://localhost:8080/"
    },
    "id": "NrXxOLt4CEpb",
    "outputId": "0456dcaf-6da8-4ab5-a31d-7ccb3e85c424"
   },
   "outputs": [
    {
     "name": "stdout",
     "output_type": "stream",
     "text": [
      "545\n",
      "545\n",
      "110436\n",
      "(120756, 13)\n"
     ]
    }
   ],
   "source": [
    "#after filtering number of varieties in the db\n",
    "print(data_filtered.variety.nunique())\n",
    "print(data_filtered.variety.nunique())\n",
    "print(data_filtered.title.nunique())\n",
    "print(data_filtered.shape)"
   ]
  },
  {
   "cell_type": "code",
   "execution_count": 60,
   "metadata": {
    "colab": {
     "base_uri": "https://localhost:8080/"
    },
    "id": "ddj8z4yJNwju",
    "outputId": "db1a0ab1-03a5-444a-9a63-f33de57aef4d"
   },
   "outputs": [
    {
     "name": "stdout",
     "output_type": "stream",
     "text": [
      "(110436, 545)\n"
     ]
    }
   ],
   "source": [
    "#creating wine-variety dataframe\n",
    "data_filtered=data_filtered[['title','variety','points']]\n",
    "item_matrix=pd.pivot_table(data_filtered,index='title',columns='variety',values=['points']).fillna(0)\n",
    "item_matrix.head(2)\n",
    "#creating csr matrix\n",
    "item_train_matrix = csr_matrix(item_matrix.values)\n",
    "print(item_train_matrix.shape)"
   ]
  },
  {
   "cell_type": "code",
   "execution_count": 61,
   "metadata": {
    "colab": {
     "base_uri": "https://localhost:8080/"
    },
    "id": "Og18mM4XynAC",
    "outputId": "06f52a2c-e5a6-4255-e0fa-90d681b9b007"
   },
   "outputs": [
    {
     "name": "stdout",
     "output_type": "stream",
     "text": [
      "Sparsity % = 99.82\n"
     ]
    }
   ],
   "source": [
    "#The percentage on non-zero elements to the number of of elements in total (1-the ratio of non-zero elements to the number of elemnts).\n",
    "#If most of the elements are nonzero, then the matrix is considered dense\n",
    "sparsity=(1-np.count_nonzero(item_matrix.to_numpy())/item_matrix.to_numpy().size)*100\n",
    "print(\"Sparsity % =\",np.round(sparsity,2))"
   ]
  },
  {
   "cell_type": "markdown",
   "metadata": {
    "id": "7RNfe3gu0VLN"
   },
   "source": [
    "Number of elements which are 0 is 99.8% of data which shows that we have a high sparsity issue."
   ]
  },
  {
   "cell_type": "markdown",
   "metadata": {
    "id": "7zjHBRVswGIE"
   },
   "source": [
    "*In order to decide the number of k for NearestNeighbors model constucted on our train data, from sklearn KMeans will be used.*"
   ]
  },
  {
   "cell_type": "code",
   "execution_count": 62,
   "metadata": {
    "colab": {
     "base_uri": "https://localhost:8080/"
    },
    "id": "0Kkajrjww1DS",
    "outputId": "0e923aa0-f024-4639-8c8a-9a0a9d73d30e"
   },
   "outputs": [
    {
     "data": {
      "text/plain": [
       "20625"
      ]
     },
     "execution_count": 62,
     "metadata": {},
     "output_type": "execute_result"
    }
   ],
   "source": [
    "#item_matrix to dataframe simple format to easily find indexes by wine names\n",
    "item_matrix2=item_matrix.copy()\n",
    "item_matrix2.columns=item_matrix2.columns.droplevel(0)\n",
    "item_matrix2.columns.name=None\n",
    "item_matrix2 = item_matrix2.reset_index()\n",
    "item_matrix2[item_matrix2['title']=='Chime 2009 Pinot Noir (Sonoma County)'].index[0]"
   ]
  },
  {
   "cell_type": "code",
   "execution_count": 63,
   "metadata": {
    "id": "H916s5Q6NR_Y"
   },
   "outputs": [],
   "source": [
    "#KNN\n",
    "knn = NearestNeighbors(n_neighbors=10\n",
    "                       ,algorithm= 'brute', metric= 'cosine')\n",
    "model_knn = knn.fit(item_train_matrix)"
   ]
  },
  {
   "cell_type": "markdown",
   "metadata": {
    "id": "fh5Hl74Ba8xT"
   },
   "source": [
    "##### **Recommendation Engine 4**"
   ]
  },
  {
   "cell_type": "code",
   "execution_count": 64,
   "metadata": {
    "colab": {
     "base_uri": "https://localhost:8080/"
    },
    "id": "jQSNBJOBuLj0",
    "outputId": "b4d8fdd2-b859-4b12-9267-c40435515eae"
   },
   "outputs": [
    {
     "name": "stdout",
     "output_type": "stream",
     "text": [
      "Recmmendation for Chime 2009 Pinot Noir (Sonoma County):\n",
      "\n",
      "1: Luminous Hills 2010 Lux Pinot Noir with distance: 0.0\n",
      "2: Big Basin 2014 Lester Family Vineyard Pinot Noir (Santa Cruz Mountains) with distance: 0.0\n",
      "3: Lumos 2009 5 Block Pinot Noir (Willamette Valley) with distance: 0.0\n",
      "4: Lumos 2008 North Temperance Pinot Noir (Willamette Valley) with distance: 0.0\n",
      "5: Big Basin 2014 Woodruff Family Vineyard Pinot Noir (Santa Cruz Mountains) with distance: 0.0\n"
     ]
    }
   ],
   "source": [
    "#for randomly choosing any wine index: query_index = np.random.choice(item_matrix.shape[0])\n",
    "#query_index=item_matrix2[item_matrix2['title']=='Chime 2009 Pinot Noir (Sonoma County)'].index[0]\n",
    "#title=str(input())\n",
    "title='Chime 2009 Pinot Noir (Sonoma County)'\n",
    "query_index=item_matrix2[item_matrix2['title']==str(title)].index[0]\n",
    "distance, indice = model_knn.kneighbors(item_matrix.iloc[query_index,:].values.reshape(1,-1),n_neighbors=6)\n",
    "for i in range(0, len(distance.flatten())):\n",
    "    if  i == 0:\n",
    "        print('Recmmendation for {0}:\\n'.format(item_matrix.index[query_index]))\n",
    "    else:\n",
    "        results='{0}: {1} with distance: {2}'.format(i,item_matrix.index[indice.flatten()[i]],distance.flatten()[i])\n",
    "        print(results)"
   ]
  },
  {
   "cell_type": "code",
   "execution_count": 65,
   "metadata": {
    "colab": {
     "base_uri": "https://localhost:8080/",
     "height": 127
    },
    "id": "lRS3G2xIPkvT",
    "outputId": "aee65ccf-b133-45e2-9f61-1ebe668593dd"
   },
   "outputs": [
    {
     "data": {
      "text/html": [
       "<div>\n",
       "<style scoped>\n",
       "    .dataframe tbody tr th:only-of-type {\n",
       "        vertical-align: middle;\n",
       "    }\n",
       "\n",
       "    .dataframe tbody tr th {\n",
       "        vertical-align: top;\n",
       "    }\n",
       "\n",
       "    .dataframe thead th {\n",
       "        text-align: right;\n",
       "    }\n",
       "</style>\n",
       "<table border=\"1\" class=\"dataframe\">\n",
       "  <thead>\n",
       "    <tr style=\"text-align: right;\">\n",
       "      <th></th>\n",
       "      <th>title</th>\n",
       "      <th>price</th>\n",
       "      <th>description</th>\n",
       "      <th>points</th>\n",
       "      <th>country</th>\n",
       "    </tr>\n",
       "  </thead>\n",
       "  <tbody>\n",
       "    <tr>\n",
       "      <th>10306</th>\n",
       "      <td>Chime 2009 Pinot Noir (Sonoma County)</td>\n",
       "      <td>19.0</td>\n",
       "      <td>What a great Pinot, and look at that price. The wine is translucent in ruby hue, dry, silky in texture and crisp in acids, showing the textural hallmarks of a fine coastal bottling. The raspberry, cherry, cola and spice flavors are delicious and complex. A terrific value. Production was 1,100 cases.</td>\n",
       "      <td>91</td>\n",
       "      <td>US</td>\n",
       "    </tr>\n",
       "  </tbody>\n",
       "</table>\n",
       "</div>"
      ],
      "text/plain": [
       "                                       title  price  \\\n",
       "10306  Chime 2009 Pinot Noir (Sonoma County)   19.0   \n",
       "\n",
       "                                                                                                                                                                                                                                                                                                        description  \\\n",
       "10306  What a great Pinot, and look at that price. The wine is translucent in ruby hue, dry, silky in texture and crisp in acids, showing the textural hallmarks of a fine coastal bottling. The raspberry, cherry, cola and spice flavors are delicious and complex. A terrific value. Production was 1,100 cases.   \n",
       "\n",
       "       points country  \n",
       "10306      91      US  "
      ]
     },
     "execution_count": 65,
     "metadata": {},
     "output_type": "execute_result"
    }
   ],
   "source": [
    "data[data['title']=='Chime 2009 Pinot Noir (Sonoma County)'][['title','price','description','points','country']]\n"
   ]
  },
  {
   "cell_type": "code",
   "execution_count": 66,
   "metadata": {
    "colab": {
     "base_uri": "https://localhost:8080/",
     "height": 127
    },
    "id": "3i2L4SWsNpIq",
    "outputId": "2928be29-2653-4a47-d42f-01ac9944c05c"
   },
   "outputs": [
    {
     "data": {
      "text/html": [
       "<div>\n",
       "<style scoped>\n",
       "    .dataframe tbody tr th:only-of-type {\n",
       "        vertical-align: middle;\n",
       "    }\n",
       "\n",
       "    .dataframe tbody tr th {\n",
       "        vertical-align: top;\n",
       "    }\n",
       "\n",
       "    .dataframe thead th {\n",
       "        text-align: right;\n",
       "    }\n",
       "</style>\n",
       "<table border=\"1\" class=\"dataframe\">\n",
       "  <thead>\n",
       "    <tr style=\"text-align: right;\">\n",
       "      <th></th>\n",
       "      <th>title</th>\n",
       "      <th>price</th>\n",
       "      <th>description</th>\n",
       "      <th>points</th>\n",
       "      <th>country</th>\n",
       "    </tr>\n",
       "  </thead>\n",
       "  <tbody>\n",
       "    <tr>\n",
       "      <th>125181</th>\n",
       "      <td>Big Basin 2014 Woodruff Family Vineyard Pinot Noir (Santa Cruz Mountains)</td>\n",
       "      <td>59.0</td>\n",
       "      <td>Made from unknown heritage clones, this bottling lays down a cran-raspberry base and then lavishes on the herbal components of thyme, bay leaf, sagebrush and pine resin. That underbrush character is strong on the sip too, from oregano to incense, ensuring that this wine will bring plenty of nuance to any dish served, from light fish to steak.</td>\n",
       "      <td>93</td>\n",
       "      <td>US</td>\n",
       "    </tr>\n",
       "  </tbody>\n",
       "</table>\n",
       "</div>"
      ],
      "text/plain": [
       "                                                                            title  \\\n",
       "125181  Big Basin 2014 Woodruff Family Vineyard Pinot Noir (Santa Cruz Mountains)   \n",
       "\n",
       "        price  \\\n",
       "125181   59.0   \n",
       "\n",
       "                                                                                                                                                                                                                                                                                                                                                     description  \\\n",
       "125181  Made from unknown heritage clones, this bottling lays down a cran-raspberry base and then lavishes on the herbal components of thyme, bay leaf, sagebrush and pine resin. That underbrush character is strong on the sip too, from oregano to incense, ensuring that this wine will bring plenty of nuance to any dish served, from light fish to steak.   \n",
       "\n",
       "        points country  \n",
       "125181      93      US  "
      ]
     },
     "execution_count": 66,
     "metadata": {},
     "output_type": "execute_result"
    }
   ],
   "source": [
    "data[data['title']=='Big Basin 2014 Woodruff Family Vineyard Pinot Noir (Santa Cruz Mountains)'][['title','price','description','points','country']]"
   ]
  },
  {
   "cell_type": "markdown",
   "metadata": {
    "id": "jvoDYh-TXF89"
   },
   "source": [
    "### **Model-based Recommendations: Surprise**"
   ]
  },
  {
   "cell_type": "code",
   "execution_count": 67,
   "metadata": {
    "id": "8oILLlbYe1G_"
   },
   "outputs": [],
   "source": [
    "from surprise import SVD, KNNBasic, BaselineOnly, NMF\n",
    "from surprise import Reader\n",
    "from surprise import Dataset \n",
    "from surprise.model_selection import cross_validate\n",
    "import time, os\n",
    "from surprise.model_selection import split\n",
    "from surprise.model_selection import GridSearchCV"
   ]
  },
  {
   "cell_type": "code",
   "execution_count": 68,
   "metadata": {
    "id": "HrRUynMylmjF"
   },
   "outputs": [],
   "source": [
    "reader = Reader()\n",
    "data_mod = Dataset.load_from_df(data_filtered[['variety', 'title', 'points']], reader)"
   ]
  },
  {
   "cell_type": "code",
   "execution_count": 69,
   "metadata": {
    "colab": {
     "base_uri": "https://localhost:8080/"
    },
    "id": "DM5b4gdMuW8i",
    "outputId": "ecbfe97a-cd94-4a6b-b7f2-6fef2f018aa1"
   },
   "outputs": [
    {
     "data": {
      "text/plain": [
       "83.47816935355124"
      ]
     },
     "execution_count": 69,
     "metadata": {},
     "output_type": "execute_result"
    }
   ],
   "source": [
    "param_grid = {'lr_all': [0.002, 0.005],\n",
    "              'reg_all': [0.4, 0.6]}\n",
    "grid_search = GridSearchCV(SVD, param_grid, measures=['RMSE'])\n",
    "grid_search.fit(data_mod)\n",
    "grid_search.best_score['rmse']"
   ]
  },
  {
   "cell_type": "code",
   "execution_count": 70,
   "metadata": {
    "colab": {
     "base_uri": "https://localhost:8080/"
    },
    "id": "IOb94glywhLF",
    "outputId": "32823074-1044-47b4-bf87-7f13f2f0a317"
   },
   "outputs": [
    {
     "data": {
      "text/plain": [
       "83.47821659834565"
      ]
     },
     "execution_count": 70,
     "metadata": {},
     "output_type": "execute_result"
    }
   ],
   "source": [
    "param_grid = {'n_factors': [15]}\n",
    "grid_search = GridSearchCV(NMF, param_grid, measures=['RMSE'])\n",
    "grid_search.fit(data_mod)\n",
    "grid_search.best_score['rmse']"
   ]
  },
  {
   "cell_type": "code",
   "execution_count": 71,
   "metadata": {
    "colab": {
     "base_uri": "https://localhost:8080/",
     "height": 346
    },
    "id": "zMsLllKp2Zjv",
    "outputId": "7a4e62eb-a9bd-4225-f908-c3a075393f49"
   },
   "outputs": [
    {
     "name": "stdout",
     "output_type": "stream",
     "text": [
      "Evaluating RMSE, MAE of algorithm SVD on 5 split(s).\n",
      "\n",
      "                  Fold 1  Fold 2  Fold 3  Fold 4  Fold 5  Mean    Std     \n",
      "RMSE (testset)    83.4921 83.4722 83.4770 83.4751 83.4744 83.4782 0.0071  \n",
      "MAE (testset)     83.4368 83.4164 83.4213 83.4194 83.4192 83.4226 0.0072  \n",
      "RMSE (trainset)   83.4747 83.4797 83.4785 83.4789 83.4791 83.4782 0.0018  \n",
      "MAE (trainset)    83.4191 83.4242 83.4229 83.4234 83.4235 83.4226 0.0018  \n",
      "Fit time          5.91    5.87    5.41    5.60    5.51    5.66    0.20    \n",
      "Test time         0.21    0.13    0.11    0.20    0.11    0.15    0.04    \n"
     ]
    },
    {
     "data": {
      "text/html": [
       "<div>\n",
       "<style scoped>\n",
       "    .dataframe tbody tr th:only-of-type {\n",
       "        vertical-align: middle;\n",
       "    }\n",
       "\n",
       "    .dataframe tbody tr th {\n",
       "        vertical-align: top;\n",
       "    }\n",
       "\n",
       "    .dataframe thead th {\n",
       "        text-align: right;\n",
       "    }\n",
       "</style>\n",
       "<table border=\"1\" class=\"dataframe\">\n",
       "  <thead>\n",
       "    <tr style=\"text-align: right;\">\n",
       "      <th></th>\n",
       "      <th>test_rmse</th>\n",
       "      <th>train_rmse</th>\n",
       "      <th>test_mae</th>\n",
       "      <th>train_mae</th>\n",
       "      <th>fit_time</th>\n",
       "      <th>test_time</th>\n",
       "    </tr>\n",
       "  </thead>\n",
       "  <tbody>\n",
       "    <tr>\n",
       "      <th>0</th>\n",
       "      <td>83.492059</td>\n",
       "      <td>83.474698</td>\n",
       "      <td>83.436775</td>\n",
       "      <td>83.419072</td>\n",
       "      <td>5.910203</td>\n",
       "      <td>0.210438</td>\n",
       "    </tr>\n",
       "    <tr>\n",
       "      <th>1</th>\n",
       "      <td>83.472178</td>\n",
       "      <td>83.479668</td>\n",
       "      <td>83.416422</td>\n",
       "      <td>83.424160</td>\n",
       "      <td>5.873268</td>\n",
       "      <td>0.128656</td>\n",
       "    </tr>\n",
       "    <tr>\n",
       "      <th>2</th>\n",
       "      <td>83.477040</td>\n",
       "      <td>83.478453</td>\n",
       "      <td>83.421266</td>\n",
       "      <td>83.422949</td>\n",
       "      <td>5.410538</td>\n",
       "      <td>0.106715</td>\n",
       "    </tr>\n",
       "    <tr>\n",
       "      <th>3</th>\n",
       "      <td>83.475127</td>\n",
       "      <td>83.478931</td>\n",
       "      <td>83.419403</td>\n",
       "      <td>83.423415</td>\n",
       "      <td>5.603027</td>\n",
       "      <td>0.199467</td>\n",
       "    </tr>\n",
       "    <tr>\n",
       "      <th>4</th>\n",
       "      <td>83.474445</td>\n",
       "      <td>83.479102</td>\n",
       "      <td>83.419196</td>\n",
       "      <td>83.423467</td>\n",
       "      <td>5.507309</td>\n",
       "      <td>0.109706</td>\n",
       "    </tr>\n",
       "  </tbody>\n",
       "</table>\n",
       "</div>"
      ],
      "text/plain": [
       "   test_rmse  train_rmse   test_mae  train_mae  fit_time  test_time\n",
       "0  83.492059   83.474698  83.436775  83.419072  5.910203   0.210438\n",
       "1  83.472178   83.479668  83.416422  83.424160  5.873268   0.128656\n",
       "2  83.477040   83.478453  83.421266  83.422949  5.410538   0.106715\n",
       "3  83.475127   83.478931  83.419403  83.423415  5.603027   0.199467\n",
       "4  83.474445   83.479102  83.419196  83.423467  5.507309   0.109706"
      ]
     },
     "execution_count": 71,
     "metadata": {},
     "output_type": "execute_result"
    }
   ],
   "source": [
    "#SVD\n",
    "results=cross_validate(SVD(), data_mod,  cv=5, verbose=True,return_train_measures=True, n_jobs=1)\n",
    "pd.DataFrame(results)"
   ]
  },
  {
   "cell_type": "code",
   "execution_count": 72,
   "metadata": {
    "colab": {
     "base_uri": "https://localhost:8080/",
     "height": 346
    },
    "id": "5ygr32dW3Bov",
    "outputId": "d9c1f8c6-969c-49ea-b991-47688e81c5db"
   },
   "outputs": [
    {
     "name": "stdout",
     "output_type": "stream",
     "text": [
      "Evaluating RMSE, MAE of algorithm NMF on 5 split(s).\n",
      "\n",
      "                  Fold 1  Fold 2  Fold 3  Fold 4  Fold 5  Mean    Std     \n",
      "RMSE (testset)    83.4915 83.4602 83.4686 83.4859 83.4847 83.4782 0.0118  \n",
      "MAE (testset)     83.4362 83.4048 83.4130 83.4300 83.4291 83.4226 0.0118  \n",
      "RMSE (trainset)   83.4748 83.4827 83.4806 83.4762 83.4765 83.4782 0.0029  \n",
      "MAE (trainset)    83.4192 83.4271 83.4250 83.4208 83.4210 83.4226 0.0029  \n",
      "Fit time          11.98   12.16   12.01   13.33   13.07   12.51   0.57    \n",
      "Test time         0.11    0.11    0.11    0.18    0.13    0.13    0.03    \n"
     ]
    },
    {
     "data": {
      "text/html": [
       "<div>\n",
       "<style scoped>\n",
       "    .dataframe tbody tr th:only-of-type {\n",
       "        vertical-align: middle;\n",
       "    }\n",
       "\n",
       "    .dataframe tbody tr th {\n",
       "        vertical-align: top;\n",
       "    }\n",
       "\n",
       "    .dataframe thead th {\n",
       "        text-align: right;\n",
       "    }\n",
       "</style>\n",
       "<table border=\"1\" class=\"dataframe\">\n",
       "  <thead>\n",
       "    <tr style=\"text-align: right;\">\n",
       "      <th></th>\n",
       "      <th>test_rmse</th>\n",
       "      <th>train_rmse</th>\n",
       "      <th>test_mae</th>\n",
       "      <th>train_mae</th>\n",
       "      <th>fit_time</th>\n",
       "      <th>test_time</th>\n",
       "    </tr>\n",
       "  </thead>\n",
       "  <tbody>\n",
       "    <tr>\n",
       "      <th>0</th>\n",
       "      <td>83.491515</td>\n",
       "      <td>83.474843</td>\n",
       "      <td>83.436235</td>\n",
       "      <td>83.419217</td>\n",
       "      <td>11.977020</td>\n",
       "      <td>0.111701</td>\n",
       "    </tr>\n",
       "    <tr>\n",
       "      <th>1</th>\n",
       "      <td>83.460185</td>\n",
       "      <td>83.482666</td>\n",
       "      <td>83.404787</td>\n",
       "      <td>83.427069</td>\n",
       "      <td>12.157515</td>\n",
       "      <td>0.112691</td>\n",
       "    </tr>\n",
       "    <tr>\n",
       "      <th>2</th>\n",
       "      <td>83.468620</td>\n",
       "      <td>83.480557</td>\n",
       "      <td>83.412985</td>\n",
       "      <td>83.425019</td>\n",
       "      <td>12.008932</td>\n",
       "      <td>0.108710</td>\n",
       "    </tr>\n",
       "    <tr>\n",
       "      <th>3</th>\n",
       "      <td>83.485880</td>\n",
       "      <td>83.476245</td>\n",
       "      <td>83.430011</td>\n",
       "      <td>83.420765</td>\n",
       "      <td>13.331374</td>\n",
       "      <td>0.181511</td>\n",
       "    </tr>\n",
       "    <tr>\n",
       "      <th>4</th>\n",
       "      <td>83.484698</td>\n",
       "      <td>83.476540</td>\n",
       "      <td>83.429098</td>\n",
       "      <td>83.420993</td>\n",
       "      <td>13.066081</td>\n",
       "      <td>0.134607</td>\n",
       "    </tr>\n",
       "  </tbody>\n",
       "</table>\n",
       "</div>"
      ],
      "text/plain": [
       "   test_rmse  train_rmse   test_mae  train_mae   fit_time  test_time\n",
       "0  83.491515   83.474843  83.436235  83.419217  11.977020   0.111701\n",
       "1  83.460185   83.482666  83.404787  83.427069  12.157515   0.112691\n",
       "2  83.468620   83.480557  83.412985  83.425019  12.008932   0.108710\n",
       "3  83.485880   83.476245  83.430011  83.420765  13.331374   0.181511\n",
       "4  83.484698   83.476540  83.429098  83.420993  13.066081   0.134607"
      ]
     },
     "execution_count": 72,
     "metadata": {},
     "output_type": "execute_result"
    }
   ],
   "source": [
    "#NMF\n",
    "results2=cross_validate(NMF(), data_mod, cv=5, verbose=True,return_train_measures=True, n_jobs=1)\n",
    "pd.DataFrame(results2)"
   ]
  },
  {
   "cell_type": "code",
   "execution_count": 73,
   "metadata": {
    "colab": {
     "base_uri": "https://localhost:8080/",
     "height": 430
    },
    "id": "hTRUthfK3MIt",
    "outputId": "4fe426e1-ca1a-4654-87f3-aa4c87c1e6aa"
   },
   "outputs": [
    {
     "name": "stdout",
     "output_type": "stream",
     "text": [
      "Estimating biases using als...\n",
      "Estimating biases using als...\n",
      "Estimating biases using als...\n",
      "Estimating biases using als...\n",
      "Estimating biases using als...\n",
      "Evaluating RMSE, MAE of algorithm BaselineOnly on 5 split(s).\n",
      "\n",
      "                  Fold 1  Fold 2  Fold 3  Fold 4  Fold 5  Mean    Std     \n",
      "RMSE (testset)    83.4965 83.4725 83.4739 83.4548 83.4931 83.4782 0.0152  \n",
      "MAE (testset)     83.4405 83.4165 83.4188 83.3995 83.4377 83.4226 0.0150  \n",
      "RMSE (trainset)   83.4736 83.4796 83.4792 83.4840 83.4744 83.4782 0.0038  \n",
      "MAE (trainset)    83.4181 83.4241 83.4236 83.4284 83.4188 83.4226 0.0038  \n",
      "Fit time          0.44    0.41    0.46    0.53    0.41    0.45    0.04    \n",
      "Test time         0.12    0.11    0.11    0.18    0.11    0.12    0.03    \n"
     ]
    },
    {
     "data": {
      "text/html": [
       "<div>\n",
       "<style scoped>\n",
       "    .dataframe tbody tr th:only-of-type {\n",
       "        vertical-align: middle;\n",
       "    }\n",
       "\n",
       "    .dataframe tbody tr th {\n",
       "        vertical-align: top;\n",
       "    }\n",
       "\n",
       "    .dataframe thead th {\n",
       "        text-align: right;\n",
       "    }\n",
       "</style>\n",
       "<table border=\"1\" class=\"dataframe\">\n",
       "  <thead>\n",
       "    <tr style=\"text-align: right;\">\n",
       "      <th></th>\n",
       "      <th>test_rmse</th>\n",
       "      <th>train_rmse</th>\n",
       "      <th>test_mae</th>\n",
       "      <th>train_mae</th>\n",
       "      <th>fit_time</th>\n",
       "      <th>test_time</th>\n",
       "    </tr>\n",
       "  </thead>\n",
       "  <tbody>\n",
       "    <tr>\n",
       "      <th>0</th>\n",
       "      <td>83.496537</td>\n",
       "      <td>83.473578</td>\n",
       "      <td>83.440543</td>\n",
       "      <td>83.418130</td>\n",
       "      <td>0.435726</td>\n",
       "      <td>0.117685</td>\n",
       "    </tr>\n",
       "    <tr>\n",
       "      <th>1</th>\n",
       "      <td>83.472502</td>\n",
       "      <td>83.479587</td>\n",
       "      <td>83.416546</td>\n",
       "      <td>83.424129</td>\n",
       "      <td>0.414205</td>\n",
       "      <td>0.109674</td>\n",
       "    </tr>\n",
       "    <tr>\n",
       "      <th>2</th>\n",
       "      <td>83.473948</td>\n",
       "      <td>83.479226</td>\n",
       "      <td>83.418782</td>\n",
       "      <td>83.423570</td>\n",
       "      <td>0.461159</td>\n",
       "      <td>0.113695</td>\n",
       "    </tr>\n",
       "    <tr>\n",
       "      <th>3</th>\n",
       "      <td>83.454790</td>\n",
       "      <td>83.484014</td>\n",
       "      <td>83.399528</td>\n",
       "      <td>83.428384</td>\n",
       "      <td>0.528378</td>\n",
       "      <td>0.175557</td>\n",
       "    </tr>\n",
       "    <tr>\n",
       "      <th>4</th>\n",
       "      <td>83.493067</td>\n",
       "      <td>83.474446</td>\n",
       "      <td>83.437663</td>\n",
       "      <td>83.418850</td>\n",
       "      <td>0.407949</td>\n",
       "      <td>0.106703</td>\n",
       "    </tr>\n",
       "  </tbody>\n",
       "</table>\n",
       "</div>"
      ],
      "text/plain": [
       "   test_rmse  train_rmse   test_mae  train_mae  fit_time  test_time\n",
       "0  83.496537   83.473578  83.440543  83.418130  0.435726   0.117685\n",
       "1  83.472502   83.479587  83.416546  83.424129  0.414205   0.109674\n",
       "2  83.473948   83.479226  83.418782  83.423570  0.461159   0.113695\n",
       "3  83.454790   83.484014  83.399528  83.428384  0.528378   0.175557\n",
       "4  83.493067   83.474446  83.437663  83.418850  0.407949   0.106703"
      ]
     },
     "execution_count": 73,
     "metadata": {},
     "output_type": "execute_result"
    }
   ],
   "source": [
    "#BaselineOnly\n",
    "results3=cross_validate(BaselineOnly(), data_mod, measures=['RMSE','MAE'], cv=5, verbose=True,return_train_measures=True, n_jobs=1)\n",
    "pd.DataFrame(results3)"
   ]
  },
  {
   "cell_type": "code",
   "execution_count": 74,
   "metadata": {
    "colab": {
     "base_uri": "https://localhost:8080/",
     "height": 514
    },
    "id": "IJdrmcUo3TXF",
    "outputId": "2e1d1df2-54ed-41d0-e81e-5bd529694018"
   },
   "outputs": [
    {
     "name": "stdout",
     "output_type": "stream",
     "text": [
      "Computing the msd similarity matrix...\n",
      "Done computing similarity matrix.\n",
      "Computing the msd similarity matrix...\n",
      "Done computing similarity matrix.\n",
      "Computing the msd similarity matrix...\n",
      "Done computing similarity matrix.\n",
      "Computing the msd similarity matrix...\n",
      "Done computing similarity matrix.\n",
      "Computing the msd similarity matrix...\n",
      "Done computing similarity matrix.\n",
      "Evaluating RMSE, MAE of algorithm KNNBasic on 5 split(s).\n",
      "\n",
      "                  Fold 1  Fold 2  Fold 3  Fold 4  Fold 5  Mean    Std     \n",
      "RMSE (testset)    83.4796 83.4976 83.4518 83.4847 83.4772 83.4782 0.0150  \n",
      "MAE (testset)     83.4238 83.4415 83.3959 83.4298 83.4221 83.4226 0.0150  \n",
      "RMSE (trainset)   83.4778 83.4733 83.4848 83.4765 83.4784 83.4782 0.0037  \n",
      "MAE (trainset)    83.4223 83.4179 83.4293 83.4208 83.4228 83.4226 0.0037  \n",
      "Fit time          0.04    0.05    0.05    0.05    0.05    0.05    0.00    \n",
      "Test time         0.22    0.15    0.17    0.20    0.19    0.19    0.02    \n"
     ]
    },
    {
     "data": {
      "text/html": [
       "<div>\n",
       "<style scoped>\n",
       "    .dataframe tbody tr th:only-of-type {\n",
       "        vertical-align: middle;\n",
       "    }\n",
       "\n",
       "    .dataframe tbody tr th {\n",
       "        vertical-align: top;\n",
       "    }\n",
       "\n",
       "    .dataframe thead th {\n",
       "        text-align: right;\n",
       "    }\n",
       "</style>\n",
       "<table border=\"1\" class=\"dataframe\">\n",
       "  <thead>\n",
       "    <tr style=\"text-align: right;\">\n",
       "      <th></th>\n",
       "      <th>test_rmse</th>\n",
       "      <th>train_rmse</th>\n",
       "      <th>test_mae</th>\n",
       "      <th>train_mae</th>\n",
       "      <th>fit_time</th>\n",
       "      <th>test_time</th>\n",
       "    </tr>\n",
       "  </thead>\n",
       "  <tbody>\n",
       "    <tr>\n",
       "      <th>0</th>\n",
       "      <td>83.479629</td>\n",
       "      <td>83.477806</td>\n",
       "      <td>83.423816</td>\n",
       "      <td>83.422312</td>\n",
       "      <td>0.044914</td>\n",
       "      <td>0.217387</td>\n",
       "    </tr>\n",
       "    <tr>\n",
       "      <th>1</th>\n",
       "      <td>83.497590</td>\n",
       "      <td>83.473315</td>\n",
       "      <td>83.441514</td>\n",
       "      <td>83.417887</td>\n",
       "      <td>0.053823</td>\n",
       "      <td>0.146606</td>\n",
       "    </tr>\n",
       "    <tr>\n",
       "      <th>2</th>\n",
       "      <td>83.451771</td>\n",
       "      <td>83.484769</td>\n",
       "      <td>83.395884</td>\n",
       "      <td>83.429295</td>\n",
       "      <td>0.049833</td>\n",
       "      <td>0.171543</td>\n",
       "    </tr>\n",
       "    <tr>\n",
       "      <th>3</th>\n",
       "      <td>83.484686</td>\n",
       "      <td>83.476541</td>\n",
       "      <td>83.429796</td>\n",
       "      <td>83.420817</td>\n",
       "      <td>0.046875</td>\n",
       "      <td>0.201489</td>\n",
       "    </tr>\n",
       "    <tr>\n",
       "      <th>4</th>\n",
       "      <td>83.477169</td>\n",
       "      <td>83.478420</td>\n",
       "      <td>83.422053</td>\n",
       "      <td>83.422752</td>\n",
       "      <td>0.052858</td>\n",
       "      <td>0.194482</td>\n",
       "    </tr>\n",
       "  </tbody>\n",
       "</table>\n",
       "</div>"
      ],
      "text/plain": [
       "   test_rmse  train_rmse   test_mae  train_mae  fit_time  test_time\n",
       "0  83.479629   83.477806  83.423816  83.422312  0.044914   0.217387\n",
       "1  83.497590   83.473315  83.441514  83.417887  0.053823   0.146606\n",
       "2  83.451771   83.484769  83.395884  83.429295  0.049833   0.171543\n",
       "3  83.484686   83.476541  83.429796  83.420817  0.046875   0.201489\n",
       "4  83.477169   83.478420  83.422053  83.422752  0.052858   0.194482"
      ]
     },
     "execution_count": 74,
     "metadata": {},
     "output_type": "execute_result"
    }
   ],
   "source": [
    "#KNNBasic\n",
    "results4=cross_validate(KNNBasic(), data_mod, measures=['RMSE','MAE'], cv=5, verbose=True,return_train_measures=True, n_jobs=1)\n",
    "pd.DataFrame(results4)"
   ]
  },
  {
   "cell_type": "code",
   "execution_count": 75,
   "metadata": {
    "colab": {
     "base_uri": "https://localhost:8080/",
     "height": 447
    },
    "id": "DeeG1xgOCxJg",
    "outputId": "4a48c713-4e11-4953-e91e-fc26e03165b3"
   },
   "outputs": [
    {
     "name": "stdout",
     "output_type": "stream",
     "text": [
      "Estimating biases using als...\n",
      "Estimating biases using als...\n",
      "Estimating biases using als...\n",
      "Estimating biases using als...\n",
      "Estimating biases using als...\n",
      "Computing the msd similarity matrix...\n",
      "Done computing similarity matrix.\n",
      "Computing the msd similarity matrix...\n",
      "Done computing similarity matrix.\n",
      "Computing the msd similarity matrix...\n",
      "Done computing similarity matrix.\n",
      "Computing the msd similarity matrix...\n",
      "Done computing similarity matrix.\n",
      "Computing the msd similarity matrix...\n",
      "Done computing similarity matrix.\n"
     ]
    },
    {
     "data": {
      "text/html": [
       "<div>\n",
       "<style scoped>\n",
       "    .dataframe tbody tr th:only-of-type {\n",
       "        vertical-align: middle;\n",
       "    }\n",
       "\n",
       "    .dataframe tbody tr th {\n",
       "        vertical-align: top;\n",
       "    }\n",
       "\n",
       "    .dataframe thead th {\n",
       "        text-align: right;\n",
       "    }\n",
       "</style>\n",
       "<table border=\"1\" class=\"dataframe\">\n",
       "  <thead>\n",
       "    <tr style=\"text-align: right;\">\n",
       "      <th></th>\n",
       "      <th>test_rmse</th>\n",
       "      <th>train_rmse</th>\n",
       "      <th>test_mae</th>\n",
       "      <th>train_mae</th>\n",
       "      <th>fit_time</th>\n",
       "      <th>test_time</th>\n",
       "    </tr>\n",
       "    <tr>\n",
       "      <th>Algorithm</th>\n",
       "      <th></th>\n",
       "      <th></th>\n",
       "      <th></th>\n",
       "      <th></th>\n",
       "      <th></th>\n",
       "      <th></th>\n",
       "    </tr>\n",
       "  </thead>\n",
       "  <tbody>\n",
       "    <tr>\n",
       "      <th>BaselineOnly</th>\n",
       "      <td>83.478165</td>\n",
       "      <td>83.478170</td>\n",
       "      <td>83.422613</td>\n",
       "      <td>83.422613</td>\n",
       "      <td>0.429744</td>\n",
       "      <td>0.106315</td>\n",
       "    </tr>\n",
       "    <tr>\n",
       "      <th>KNNBasic</th>\n",
       "      <td>83.478165</td>\n",
       "      <td>83.478170</td>\n",
       "      <td>83.422613</td>\n",
       "      <td>83.422613</td>\n",
       "      <td>0.042502</td>\n",
       "      <td>0.184001</td>\n",
       "    </tr>\n",
       "    <tr>\n",
       "      <th>SVD</th>\n",
       "      <td>83.478170</td>\n",
       "      <td>83.478170</td>\n",
       "      <td>83.422612</td>\n",
       "      <td>83.422613</td>\n",
       "      <td>5.829232</td>\n",
       "      <td>0.141422</td>\n",
       "    </tr>\n",
       "    <tr>\n",
       "      <th>NMF</th>\n",
       "      <td>83.478207</td>\n",
       "      <td>83.478171</td>\n",
       "      <td>83.422652</td>\n",
       "      <td>83.422613</td>\n",
       "      <td>13.098342</td>\n",
       "      <td>0.117488</td>\n",
       "    </tr>\n",
       "  </tbody>\n",
       "</table>\n",
       "</div>"
      ],
      "text/plain": [
       "              test_rmse  train_rmse   test_mae  train_mae   fit_time  \\\n",
       "Algorithm                                                              \n",
       "BaselineOnly  83.478165   83.478170  83.422613  83.422613   0.429744   \n",
       "KNNBasic      83.478165   83.478170  83.422613  83.422613   0.042502   \n",
       "SVD           83.478170   83.478170  83.422612  83.422613   5.829232   \n",
       "NMF           83.478207   83.478171  83.422652  83.422613  13.098342   \n",
       "\n",
       "              test_time  \n",
       "Algorithm                \n",
       "BaselineOnly   0.106315  \n",
       "KNNBasic       0.184001  \n",
       "SVD            0.141422  \n",
       "NMF            0.117488  "
      ]
     },
     "execution_count": 75,
     "metadata": {},
     "output_type": "execute_result"
    }
   ],
   "source": [
    "#Mean for benchmarks of all models\n",
    "benchmark = []\n",
    "# Iterate over all algorithms\n",
    "for algorithm in [SVD(), NMF(),BaselineOnly(),KNNBasic()]:\n",
    "    # Perform cross validation\n",
    "    results = cross_validate(algorithm, data_mod, measures=['RMSE','MAE'], cv=5, verbose=False,return_train_measures=True, n_jobs=1)\n",
    "    \n",
    "    # Get results & append algorithm name\n",
    "    tmp = pd.DataFrame.from_dict(results).mean(axis=0)\n",
    "    tmp = tmp.append(pd.Series([str(algorithm).split(' ')[0].split('.')[-1]], index=['Algorithm']))\n",
    "    benchmark.append(tmp)\n",
    "    \n",
    "benchmark=pd.DataFrame(benchmark).set_index('Algorithm').sort_values('test_rmse')\n",
    "benchmark"
   ]
  },
  {
   "cell_type": "markdown",
   "metadata": {
    "id": "le_DPyp9ApCS"
   },
   "source": [
    "# **Hybrid Model**"
   ]
  },
  {
   "cell_type": "markdown",
   "metadata": {
    "id": "NqjBPwqCAy-y"
   },
   "source": [
    "### Content Based Data Processing"
   ]
  },
  {
   "cell_type": "code",
   "execution_count": 76,
   "metadata": {
    "id": "0Ae4SBzdMNMb"
   },
   "outputs": [],
   "source": [
    "#metadats in this models are: country,designation, variety\n",
    "data_cont3=data_cont[[\"title\",\"country\",\"designation\",\"variety\",\"description\",\"mean\"]]\n",
    "X_train3, X_test3 = train_test_split(data_cont3, train_size = 0.1,random_state=11)"
   ]
  },
  {
   "cell_type": "code",
   "execution_count": 77,
   "metadata": {
    "id": "J5i8fR2WA3L9"
   },
   "outputs": [],
   "source": [
    "#Defining a function that removes spaces and converts to lowercase\n",
    "def sanitize(x):\n",
    "    if isinstance(x, list):\n",
    "        return [str.lower(i.replace(\" \", \"\")) for i in x]\n",
    "    else:\n",
    "        if isinstance(x, str):\n",
    "            return str.lower(x.replace(\" \", \"\"))\n",
    "        else:\n",
    "            return ''"
   ]
  },
  {
   "cell_type": "code",
   "execution_count": 78,
   "metadata": {
    "colab": {
     "base_uri": "https://localhost:8080/"
    },
    "id": "PzhTOHhTBAAP",
    "outputId": "ebea24cb-0b44-450d-aa69-fa8c302bf6f8"
   },
   "outputs": [
    {
     "name": "stderr",
     "output_type": "stream",
     "text": [
      "C:\\Users\\HP\\anaconda3\\lib\\site-packages\\ipykernel_launcher.py:2: SettingWithCopyWarning: \n",
      "A value is trying to be set on a copy of a slice from a DataFrame.\n",
      "Try using .loc[row_indexer,col_indexer] = value instead\n",
      "\n",
      "See the caveats in the documentation: https://pandas.pydata.org/pandas-docs/stable/user_guide/indexing.html#returning-a-view-versus-a-copy\n",
      "  \n"
     ]
    }
   ],
   "source": [
    "for i in [\"country\",\"designation\"]:\n",
    "    X_train3[i] = X_train3[i].apply(sanitize)"
   ]
  },
  {
   "cell_type": "code",
   "execution_count": 79,
   "metadata": {
    "colab": {
     "base_uri": "https://localhost:8080/",
     "height": 358
    },
    "id": "181_M1HqBfS1",
    "outputId": "ab253c52-a7ef-40ac-c4ac-77aa88b28689"
   },
   "outputs": [
    {
     "name": "stderr",
     "output_type": "stream",
     "text": [
      "C:\\Users\\HP\\anaconda3\\lib\\site-packages\\ipykernel_launcher.py:6: SettingWithCopyWarning: \n",
      "A value is trying to be set on a copy of a slice from a DataFrame.\n",
      "Try using .loc[row_indexer,col_indexer] = value instead\n",
      "\n",
      "See the caveats in the documentation: https://pandas.pydata.org/pandas-docs/stable/user_guide/indexing.html#returning-a-view-versus-a-copy\n",
      "  \n"
     ]
    },
    {
     "data": {
      "text/html": [
       "<div>\n",
       "<style scoped>\n",
       "    .dataframe tbody tr th:only-of-type {\n",
       "        vertical-align: middle;\n",
       "    }\n",
       "\n",
       "    .dataframe tbody tr th {\n",
       "        vertical-align: top;\n",
       "    }\n",
       "\n",
       "    .dataframe thead th {\n",
       "        text-align: right;\n",
       "    }\n",
       "</style>\n",
       "<table border=\"1\" class=\"dataframe\">\n",
       "  <thead>\n",
       "    <tr style=\"text-align: right;\">\n",
       "      <th></th>\n",
       "      <th>title</th>\n",
       "      <th>country</th>\n",
       "      <th>designation</th>\n",
       "      <th>variety</th>\n",
       "      <th>description</th>\n",
       "      <th>mean</th>\n",
       "      <th>soup</th>\n",
       "    </tr>\n",
       "  </thead>\n",
       "  <tbody>\n",
       "    <tr>\n",
       "      <th>64820</th>\n",
       "      <td>Lujon 2008 Cabernet Sauvignon (Walla Walla Valley (WA))</td>\n",
       "      <td>us</td>\n",
       "      <td>unknown</td>\n",
       "      <td>Cabernet Sauvignon</td>\n",
       "      <td>Broadly fruity, with a palate of mixed red berries and cherries. Light and balanced, this is well-made, of medium length, and ready to drink right away.</td>\n",
       "      <td>87</td>\n",
       "      <td>us unknown Broadly fruity, with a palate of mixed red berries and cherries. Light and balanced, this is well-made, of medium length, and ready to drink right away.</td>\n",
       "    </tr>\n",
       "    <tr>\n",
       "      <th>100812</th>\n",
       "      <td>Torii Mor 2009 Dundee Hills Select Pinot Noir (Dundee Hills)</td>\n",
       "      <td>us</td>\n",
       "      <td>dundeehillsselect</td>\n",
       "      <td>Pinot Noir</td>\n",
       "      <td>The 2009 Torii Mors are not widely separated in style or substance. The Select is smooth and fruity, with citrusy acids and light red-berry flavors. It's ready to drink, but does not show the depth or detail for long-term aging.</td>\n",
       "      <td>87</td>\n",
       "      <td>us dundeehillsselect The 2009 Torii Mors are not widely separated in style or substance. The Select is smooth and fruity, with citrusy acids and light red-berry flavors. It's ready to drink, but does not show the depth or detail for long-term aging.</td>\n",
       "    </tr>\n",
       "  </tbody>\n",
       "</table>\n",
       "</div>"
      ],
      "text/plain": [
       "                                                               title country  \\\n",
       "64820        Lujon 2008 Cabernet Sauvignon (Walla Walla Valley (WA))      us   \n",
       "100812  Torii Mor 2009 Dundee Hills Select Pinot Noir (Dundee Hills)      us   \n",
       "\n",
       "              designation             variety  \\\n",
       "64820             unknown  Cabernet Sauvignon   \n",
       "100812  dundeehillsselect          Pinot Noir   \n",
       "\n",
       "                                                                                                                                                                                                                                 description  \\\n",
       "64820                                                                               Broadly fruity, with a palate of mixed red berries and cherries. Light and balanced, this is well-made, of medium length, and ready to drink right away.   \n",
       "100812  The 2009 Torii Mors are not widely separated in style or substance. The Select is smooth and fruity, with citrusy acids and light red-berry flavors. It's ready to drink, but does not show the depth or detail for long-term aging.   \n",
       "\n",
       "        mean  \\\n",
       "64820     87   \n",
       "100812    87   \n",
       "\n",
       "                                                                                                                                                                                                                                                             soup  \n",
       "64820                                                                                         us unknown Broadly fruity, with a palate of mixed red berries and cherries. Light and balanced, this is well-made, of medium length, and ready to drink right away.  \n",
       "100812  us dundeehillsselect The 2009 Torii Mors are not widely separated in style or substance. The Select is smooth and fruity, with citrusy acids and light red-berry flavors. It's ready to drink, but does not show the depth or detail for long-term aging.  "
      ]
     },
     "execution_count": 79,
     "metadata": {},
     "output_type": "execute_result"
    }
   ],
   "source": [
    "#Defining function that creates a soup out of the desired metadata (\"country\",\"designation\",\"variety\")\n",
    "def create_soup(x):\n",
    "    return x['country']+ ' '+ x['designation'] + \" \"+ x['description']\n",
    "\n",
    "# Add the new soup feature\n",
    "X_train3['soup'] = X_train3.apply(create_soup, axis=1)\n",
    "X_train3.head(2)"
   ]
  },
  {
   "cell_type": "code",
   "execution_count": 80,
   "metadata": {
    "colab": {
     "base_uri": "https://localhost:8080/"
    },
    "id": "sU--WhCAWEDx",
    "outputId": "b9c62bcd-5064-4de7-ddcc-1d0cd78b2b8d"
   },
   "outputs": [
    {
     "data": {
      "text/plain": [
       "(11153, 17736)"
      ]
     },
     "execution_count": 80,
     "metadata": {},
     "output_type": "execute_result"
    }
   ],
   "source": [
    "#Constructing final TF-IDF matrix\n",
    "from sklearn.feature_extraction import text\n",
    "\n",
    "#creating stop words\n",
    "my_stop_words3 = text.ENGLISH_STOP_WORDS.union([\"drink\", \"now\", \"wine\", \"flavor\", \n",
    "                                                \"flavors\",\"aromas\",'taste','nose',\n",
    "                                                'note','show','delicious','fruit'])\n",
    "\n",
    "#removing stop words from the vector of text\n",
    "tf_idf = TfidfVectorizer(analyzer='word', stop_words=my_stop_words3, lowercase=True)\n",
    "\n",
    "#Constructing TF-IDF matrix\n",
    "tfidf_matrix_final3 = tf_idf.fit_transform(X_train3['soup'])\n",
    "\n",
    "tfidf_matrix_final3.shape\n"
   ]
  },
  {
   "cell_type": "code",
   "execution_count": 81,
   "metadata": {
    "id": "mwDnmFnmiXC-"
   },
   "outputs": [],
   "source": [
    "cosine_simil3 = linear_kernel(tfidf_matrix_final3, tfidf_matrix_final3)"
   ]
  },
  {
   "cell_type": "code",
   "execution_count": 82,
   "metadata": {
    "colab": {
     "base_uri": "https://localhost:8080/",
     "height": 471
    },
    "id": "YC0cYpAJMCXr",
    "outputId": "47d3d6a3-c18b-465d-8a28-9be1499b0901"
   },
   "outputs": [
    {
     "name": "stderr",
     "output_type": "stream",
     "text": [
      "[Parallel(n_jobs=-1)]: Using backend LokyBackend with 8 concurrent workers.\n",
      "[Parallel(n_jobs=-1)]: Done   2 tasks      | elapsed:   30.6s\n",
      "[Parallel(n_jobs=-1)]: Done   9 tasks      | elapsed:   54.4s\n",
      "[Parallel(n_jobs=-1)]: Done  16 tasks      | elapsed:  1.1min\n",
      "[Parallel(n_jobs=-1)]: Done  25 tasks      | elapsed:  1.6min\n",
      "[Parallel(n_jobs=-1)]: Done  34 tasks      | elapsed:  2.2min\n",
      "[Parallel(n_jobs=-1)]: Done  41 out of  50 | elapsed:  2.5min remaining:   33.3s\n",
      "[Parallel(n_jobs=-1)]: Done  47 out of  50 | elapsed:  2.7min remaining:   10.3s\n",
      "[Parallel(n_jobs=-1)]: Done  50 out of  50 | elapsed:  2.8min finished\n"
     ]
    }
   ],
   "source": [
    "# running randomized search on SVD in order to find best parameters\n",
    "from surprise.model_selection import RandomizedSearchCV\n",
    "params = {'n_factors': [1,5,10,25,50,75,100], 'reg_all': [.005,.01,.02,.05,.1,.25,.5], 'lr_all':[.005,.01,.02,.05,.1,.25,.5],\n",
    "         'n_epochs': [10,20,50]}\n",
    "model = RandomizedSearchCV(SVD,param_distributions=params,n_jobs=-1,joblib_verbose=10, cv=5)\n",
    "model.fit(data_mod)"
   ]
  },
  {
   "cell_type": "code",
   "execution_count": 83,
   "metadata": {
    "colab": {
     "base_uri": "https://localhost:8080/",
     "height": 195
    },
    "id": "wba6zj6fMaJC",
    "outputId": "9702124f-7c35-46d1-9863-52525234d672"
   },
   "outputs": [
    {
     "name": "stdout",
     "output_type": "stream",
     "text": [
      "{'rmse': 83.47816778425602, 'mae': 83.42261263903413}\n",
      "{'rmse': {'n_factors': 25, 'reg_all': 0.05, 'lr_all': 0.5, 'n_epochs': 50}, 'mae': {'n_factors': 25, 'reg_all': 0.05, 'lr_all': 0.5, 'n_epochs': 50}}\n"
     ]
    }
   ],
   "source": [
    "# best params and score\n",
    "print(model.best_score)\n",
    "print(model.best_params)"
   ]
  },
  {
   "cell_type": "code",
   "execution_count": 84,
   "metadata": {
    "colab": {
     "base_uri": "https://localhost:8080/"
    },
    "id": "Hp08n33i0IMw",
    "outputId": "999357db-df05-4ef3-97c7-06fd965a929d"
   },
   "outputs": [
    {
     "name": "stderr",
     "output_type": "stream",
     "text": [
      "C:\\Users\\HP\\anaconda3\\lib\\site-packages\\ipykernel_launcher.py:2: SettingWithCopyWarning: \n",
      "A value is trying to be set on a copy of a slice from a DataFrame.\n",
      "Try using .loc[row_indexer,col_indexer] = value instead\n",
      "\n",
      "See the caveats in the documentation: https://pandas.pydata.org/pandas-docs/stable/user_guide/indexing.html#returning-a-view-versus-a-copy\n",
      "  \n"
     ]
    },
    {
     "data": {
      "text/plain": [
       "Pinot Noir                  1148\n",
       "Chardonnay                  1047\n",
       "Cabernet Sauvignon           914\n",
       "Red Blend                    764\n",
       "Bordeaux-style Red Blend     529\n",
       "                            ... \n",
       "Syrah-Mourvèdre                1\n",
       "Saperavi-Merlot                1\n",
       "Colombard-Ugni Blanc           1\n",
       "Garnacha-Tempranillo           1\n",
       "Greco Bianco                   1\n",
       "Name: variety, Length: 351, dtype: int64"
      ]
     },
     "execution_count": 84,
     "metadata": {},
     "output_type": "execute_result"
    }
   ],
   "source": [
    "#generating IDs\n",
    "X_train3['variety_id'] = X_train3[['variety']].sum(axis=1).map(hash)\n",
    "X_train3.head()\n",
    "X_train3.variety_id.value_counts()\n",
    "X_train3.variety.value_counts()"
   ]
  },
  {
   "cell_type": "code",
   "execution_count": 85,
   "metadata": {
    "colab": {
     "base_uri": "https://localhost:8080/"
    },
    "id": "QHqw5RihmTJy",
    "outputId": "c57fc525-695e-409a-ebbc-bc7ac339118d"
   },
   "outputs": [
    {
     "name": "stderr",
     "output_type": "stream",
     "text": [
      "C:\\Users\\HP\\anaconda3\\lib\\site-packages\\ipykernel_launcher.py:1: SettingWithCopyWarning: \n",
      "A value is trying to be set on a copy of a slice from a DataFrame.\n",
      "Try using .loc[row_indexer,col_indexer] = value instead\n",
      "\n",
      "See the caveats in the documentation: https://pandas.pydata.org/pandas-docs/stable/user_guide/indexing.html#returning-a-view-versus-a-copy\n",
      "  \"\"\"Entry point for launching an IPython kernel.\n"
     ]
    },
    {
     "data": {
      "text/plain": [
       "Château Pape Clément 2013  Pessac-Léognan                                                               2\n",
       "Robert Hall 2015 Chardonnay (Paso Robles)                                                               2\n",
       "Allure NV Bubbly Moscato (California)                                                                   2\n",
       "Château de Bligny NV Grande Réserve Brut  (Champagne)                                                   2\n",
       "Rotari NV Brut Talento Chardonnay (Trento)                                                              2\n",
       "                                                                                                       ..\n",
       "Domaine Jean Petitot et Fils 2011 Les Vignottes  (Côte de Nuits-Villages)                               1\n",
       "Bacalhôa Wines of Portugal 2016 JP Azeitão Moscatel Graudo-Fernão Pires White (Península de Setúbal)    1\n",
       "Karl Kaspar 2010 Kabinett Riesling (Mosel)                                                              1\n",
       "Château Souverain 1996 Winemaker's Reserve Cabernet Sauvignon (Sonoma County)                           1\n",
       "River's Edge 2012 Elkton Cuvée Pinot Noir (Elkton Oregon)                                               1\n",
       "Name: title, Length: 11141, dtype: int64"
      ]
     },
     "execution_count": 85,
     "metadata": {},
     "output_type": "execute_result"
    }
   ],
   "source": [
    "X_train3['wine_id'] = X_train3[['title']].sum(axis=1).map(hash)\n",
    "X_train3.wine_id.value_counts()\n",
    "X_train3.title.value_counts()"
   ]
  },
  {
   "cell_type": "code",
   "execution_count": 86,
   "metadata": {
    "colab": {
     "base_uri": "https://localhost:8080/"
    },
    "id": "h69scf0B2ExI",
    "outputId": "a4dccdf4-6909-4def-d01b-baa85930115d"
   },
   "outputs": [
    {
     "data": {
      "text/plain": [
       "title\n",
       "Lujon 2008 Cabernet Sauvignon (Walla Walla Valley (WA))         0\n",
       "Torii Mor 2009 Dundee Hills Select Pinot Noir (Dundee Hills)    1\n",
       "Casa Santos Lima 2013 Stones & Bones Red (Lisboa)               2\n",
       "Château de Callac 2011  Graves                                  3\n",
       "Foxen 2014 Pinot Noir (Sta. Rita Hills)                         4\n",
       "dtype: int64"
      ]
     },
     "execution_count": 86,
     "metadata": {},
     "output_type": "execute_result"
    }
   ],
   "source": [
    "X_train3 = X_train3.reset_index()\n",
    "indices3 = pd.Series(X_train3.index, index=X_train3['title'])\n",
    "indices3.head(5)"
   ]
  },
  {
   "cell_type": "code",
   "execution_count": 87,
   "metadata": {
    "colab": {
     "base_uri": "https://localhost:8080/"
    },
    "id": "neOxQ5gWw05L",
    "outputId": "d547b9ab-a5a6-46a4-eba5-569145a16677"
   },
   "outputs": [
    {
     "data": {
      "text/plain": [
       "<surprise.prediction_algorithms.matrix_factorization.SVD at 0x1eeb8f76dc8>"
      ]
     },
     "execution_count": 87,
     "metadata": {},
     "output_type": "execute_result"
    }
   ],
   "source": [
    "#Running final SVD\n",
    "reader = Reader(rating_scale=(80, 100))\n",
    "data = Dataset.load_from_df(X_train3[['variety_id', 'wine_id', 'mean']], reader)\n",
    "trainset = data.build_full_trainset()\n",
    "svd = SVD(n_factors=100,reg_all=0.02,lr_all=0.005,n_epochs=50)\n",
    "svd.fit(trainset)"
   ]
  },
  {
   "cell_type": "code",
   "execution_count": 88,
   "metadata": {
    "id": "_CIm1lJb0QuV"
   },
   "outputs": [],
   "source": [
    "def hybrid(variety_id, title):\n",
    "    idx = indices3[title]\n",
    "    wine_id = X_train3.loc[X_train3.title==title]['wine_id']\n",
    "    sim_scores = list(enumerate(cosine_simil3[int(idx)]))\n",
    "    sim_scores = sorted(sim_scores, key=lambda x: x[1], reverse=True)\n",
    "    sim_scores = sim_scores[0:50]\n",
    "    wine_indices = [i[0] for i in sim_scores]\n",
    "    wine = X_train3.iloc[wine_indices][['title', 'country','designation', 'variety','description','mean']]\n",
    "    wine['Estimated_Rating'] = wine.index.map(lambda x: svd.predict(variety_id, X_train3.loc[x]['wine_id']).est)\n",
    "    wine = wine.sort_values('Estimated_Rating', ascending=False)\n",
    "    return wine.head(5)"
   ]
  },
  {
   "cell_type": "code",
   "execution_count": 89,
   "metadata": {
    "colab": {
     "base_uri": "https://localhost:8080/",
     "height": 228
    },
    "id": "cOAWNnnva3eR",
    "outputId": "159e4996-4e6d-403b-e602-6fdae62e0919"
   },
   "outputs": [
    {
     "data": {
      "text/html": [
       "<div>\n",
       "<style scoped>\n",
       "    .dataframe tbody tr th:only-of-type {\n",
       "        vertical-align: middle;\n",
       "    }\n",
       "\n",
       "    .dataframe tbody tr th {\n",
       "        vertical-align: top;\n",
       "    }\n",
       "\n",
       "    .dataframe thead th {\n",
       "        text-align: right;\n",
       "    }\n",
       "</style>\n",
       "<table border=\"1\" class=\"dataframe\">\n",
       "  <thead>\n",
       "    <tr style=\"text-align: right;\">\n",
       "      <th></th>\n",
       "      <th>index</th>\n",
       "      <th>title</th>\n",
       "      <th>country</th>\n",
       "      <th>designation</th>\n",
       "      <th>variety</th>\n",
       "      <th>description</th>\n",
       "      <th>mean</th>\n",
       "      <th>soup</th>\n",
       "      <th>variety_id</th>\n",
       "      <th>wine_id</th>\n",
       "    </tr>\n",
       "  </thead>\n",
       "  <tbody>\n",
       "    <tr>\n",
       "      <th>13</th>\n",
       "      <td>69717</td>\n",
       "      <td>Merriam 2005 Block 21 Cabernet Sauvignon (Dry Creek Valley)</td>\n",
       "      <td>us</td>\n",
       "      <td>block21</td>\n",
       "      <td>Cabernet Sauvignon</td>\n",
       "      <td>A strongly flavored, tannic wine, marked by black currant, blackberry and blueberry flavors, sprinkled with exotic Indian spices. Drink this bone-dry Cabernet over the next several years.</td>\n",
       "      <td>87</td>\n",
       "      <td>us block21 A strongly flavored, tannic wine, marked by black currant, blackberry and blueberry flavors, sprinkled with exotic Indian spices. Drink this bone-dry Cabernet over the next several years.</td>\n",
       "      <td>-6274285234435953183</td>\n",
       "      <td>-6468802292205962723</td>\n",
       "    </tr>\n",
       "  </tbody>\n",
       "</table>\n",
       "</div>"
      ],
      "text/plain": [
       "    index                                                        title  \\\n",
       "13  69717  Merriam 2005 Block 21 Cabernet Sauvignon (Dry Creek Valley)   \n",
       "\n",
       "   country designation             variety  \\\n",
       "13      us     block21  Cabernet Sauvignon   \n",
       "\n",
       "                                                                                                                                                                                    description  \\\n",
       "13  A strongly flavored, tannic wine, marked by black currant, blackberry and blueberry flavors, sprinkled with exotic Indian spices. Drink this bone-dry Cabernet over the next several years.   \n",
       "\n",
       "    mean  \\\n",
       "13    87   \n",
       "\n",
       "                                                                                                                                                                                                      soup  \\\n",
       "13  us block21 A strongly flavored, tannic wine, marked by black currant, blackberry and blueberry flavors, sprinkled with exotic Indian spices. Drink this bone-dry Cabernet over the next several years.   \n",
       "\n",
       "             variety_id              wine_id  \n",
       "13 -6274285234435953183 -6468802292205962723  "
      ]
     },
     "execution_count": 89,
     "metadata": {},
     "output_type": "execute_result"
    }
   ],
   "source": [
    "X_train3[X_train3['title']=='Merriam 2005 Block 21 Cabernet Sauvignon (Dry Creek Valley)']"
   ]
  },
  {
   "cell_type": "code",
   "execution_count": 90,
   "metadata": {
    "colab": {
     "base_uri": "https://localhost:8080/",
     "height": 531
    },
    "id": "QR5bSUEJt6Qp",
    "outputId": "eb7fa4ec-f96e-435e-dfb2-632079e3a2cb"
   },
   "outputs": [
    {
     "data": {
      "text/html": [
       "<div>\n",
       "<style scoped>\n",
       "    .dataframe tbody tr th:only-of-type {\n",
       "        vertical-align: middle;\n",
       "    }\n",
       "\n",
       "    .dataframe tbody tr th {\n",
       "        vertical-align: top;\n",
       "    }\n",
       "\n",
       "    .dataframe thead th {\n",
       "        text-align: right;\n",
       "    }\n",
       "</style>\n",
       "<table border=\"1\" class=\"dataframe\">\n",
       "  <thead>\n",
       "    <tr style=\"text-align: right;\">\n",
       "      <th></th>\n",
       "      <th>title</th>\n",
       "      <th>country</th>\n",
       "      <th>designation</th>\n",
       "      <th>variety</th>\n",
       "      <th>description</th>\n",
       "      <th>mean</th>\n",
       "      <th>Estimated_Rating</th>\n",
       "    </tr>\n",
       "  </thead>\n",
       "  <tbody>\n",
       "    <tr>\n",
       "      <th>5830</th>\n",
       "      <td>Donelan 2008 Cuvée Keltie Syrah (Sonoma County)</td>\n",
       "      <td>us</td>\n",
       "      <td>cuvéekeltie</td>\n",
       "      <td>Syrah</td>\n",
       "      <td>A beautiful young wine, notable for two things, its balance and generosity. Feels wonderfully structured, with superb tannins and a fine dose of acidity framing massive blackberry, currant, bacon, black pepper, mineral and sandalwood flavors. Bone dry, it's a superior Syrah that should develop over the next 4–6 years.</td>\n",
       "      <td>94</td>\n",
       "      <td>88.715623</td>\n",
       "    </tr>\n",
       "    <tr>\n",
       "      <th>661</th>\n",
       "      <td>Everett Ridge 2006 Old Vine Zinfandel (Dry Creek Valley)</td>\n",
       "      <td>us</td>\n",
       "      <td>oldvine</td>\n",
       "      <td>Zinfandel</td>\n",
       "      <td>Classic Dry Creek Zin. There's a reason this warmish Sonoma region is so famous for Zinfandel, and here it is. The wine is strong and spicy and tannic, with profuse wild berry, pine cone, red currant, cherry liqueur and cola flavors, made piquant with Indian spices. Despite its exuberance, it's dry and balanced. Just lovely if you're in the mood for Zinfandel.</td>\n",
       "      <td>92</td>\n",
       "      <td>88.700647</td>\n",
       "    </tr>\n",
       "    <tr>\n",
       "      <th>989</th>\n",
       "      <td>Tanner 2013 Estate Grown Petite Sirah (Sierra Foothills)</td>\n",
       "      <td>us</td>\n",
       "      <td>estategrown</td>\n",
       "      <td>Petite Sirah</td>\n",
       "      <td>Richness and density highlight this full-bodied and deftly oaked wine that smells like baking spices and black pepper sprinkled on ripe black cherry and dark chocolate. The texture is very inviting, almost thick, and beautifully marries the ripe fruit with velvety tannins.</td>\n",
       "      <td>91</td>\n",
       "      <td>88.659023</td>\n",
       "    </tr>\n",
       "    <tr>\n",
       "      <th>3469</th>\n",
       "      <td>Loring Wine Company 2015 Rosella's Vineyard Pinot Noir (Santa Lucia Highlands)</td>\n",
       "      <td>us</td>\n",
       "      <td>rosella'svineyard</td>\n",
       "      <td>Pinot Noir</td>\n",
       "      <td>Intense baked plum and black cherry aromas meet with vanilla, caramel and sagebrush on the nose of this bottling from one of the appellation's most coveted vineyards. The tangy, energetic and grippy palate offers crushed cranberry flavors, more black plum, gingerbread and exotic Indian spice on the finish.</td>\n",
       "      <td>94</td>\n",
       "      <td>88.639885</td>\n",
       "    </tr>\n",
       "    <tr>\n",
       "      <th>6301</th>\n",
       "      <td>Straight Line 2013 Tempranillo (California)</td>\n",
       "      <td>us</td>\n",
       "      <td>unknown</td>\n",
       "      <td>Tempranillo</td>\n",
       "      <td>This wine has rich blueberry aromas, a softly tannic texture and and black currant flavors that open more with each sip. Concentrated and full in body, it's a luxurious-feeling and abundantly flavored wine that lingers long on the palate.</td>\n",
       "      <td>91</td>\n",
       "      <td>88.623443</td>\n",
       "    </tr>\n",
       "  </tbody>\n",
       "</table>\n",
       "</div>"
      ],
      "text/plain": [
       "                                                                               title  \\\n",
       "5830                                 Donelan 2008 Cuvée Keltie Syrah (Sonoma County)   \n",
       "661                         Everett Ridge 2006 Old Vine Zinfandel (Dry Creek Valley)   \n",
       "989                         Tanner 2013 Estate Grown Petite Sirah (Sierra Foothills)   \n",
       "3469  Loring Wine Company 2015 Rosella's Vineyard Pinot Noir (Santa Lucia Highlands)   \n",
       "6301                                     Straight Line 2013 Tempranillo (California)   \n",
       "\n",
       "     country        designation       variety  \\\n",
       "5830      us        cuvéekeltie         Syrah   \n",
       "661       us            oldvine     Zinfandel   \n",
       "989       us        estategrown  Petite Sirah   \n",
       "3469      us  rosella'svineyard    Pinot Noir   \n",
       "6301      us            unknown   Tempranillo   \n",
       "\n",
       "                                                                                                                                                                                                                                                                                                                                                                     description  \\\n",
       "5830                                             A beautiful young wine, notable for two things, its balance and generosity. Feels wonderfully structured, with superb tannins and a fine dose of acidity framing massive blackberry, currant, bacon, black pepper, mineral and sandalwood flavors. Bone dry, it's a superior Syrah that should develop over the next 4–6 years.   \n",
       "661   Classic Dry Creek Zin. There's a reason this warmish Sonoma region is so famous for Zinfandel, and here it is. The wine is strong and spicy and tannic, with profuse wild berry, pine cone, red currant, cherry liqueur and cola flavors, made piquant with Indian spices. Despite its exuberance, it's dry and balanced. Just lovely if you're in the mood for Zinfandel.   \n",
       "989                                                                                            Richness and density highlight this full-bodied and deftly oaked wine that smells like baking spices and black pepper sprinkled on ripe black cherry and dark chocolate. The texture is very inviting, almost thick, and beautifully marries the ripe fruit with velvety tannins.   \n",
       "3469                                                         Intense baked plum and black cherry aromas meet with vanilla, caramel and sagebrush on the nose of this bottling from one of the appellation's most coveted vineyards. The tangy, energetic and grippy palate offers crushed cranberry flavors, more black plum, gingerbread and exotic Indian spice on the finish.   \n",
       "6301                                                                                                                              This wine has rich blueberry aromas, a softly tannic texture and and black currant flavors that open more with each sip. Concentrated and full in body, it's a luxurious-feeling and abundantly flavored wine that lingers long on the palate.   \n",
       "\n",
       "      mean  Estimated_Rating  \n",
       "5830    94         88.715623  \n",
       "661     92         88.700647  \n",
       "989     91         88.659023  \n",
       "3469    94         88.639885  \n",
       "6301    91         88.623443  "
      ]
     },
     "execution_count": 90,
     "metadata": {},
     "output_type": "execute_result"
    }
   ],
   "source": [
    "hybrid(-5659049118872099016,'Merriam 2005 Block 21 Cabernet Sauvignon (Dry Creek Valley)')"
   ]
  }
 ],
 "metadata": {
  "colab": {
   "collapsed_sections": [],
   "name": "Recommendation Systems for Wine Data.ipynb",
   "provenance": [],
   "toc_visible": true
  },
  "kernelspec": {
   "display_name": "Python 3",
   "language": "python",
   "name": "python3"
  },
  "language_info": {
   "codemirror_mode": {
    "name": "ipython",
    "version": 3
   },
   "file_extension": ".py",
   "mimetype": "text/x-python",
   "name": "python",
   "nbconvert_exporter": "python",
   "pygments_lexer": "ipython3",
   "version": "3.7.6"
  }
 },
 "nbformat": 4,
 "nbformat_minor": 1
}
